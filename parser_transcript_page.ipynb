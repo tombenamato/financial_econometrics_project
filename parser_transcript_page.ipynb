{
 "cells": [
  {
   "cell_type": "code",
   "execution_count": 1,
   "id": "60050127",
   "metadata": {},
   "outputs": [],
   "source": [
    "from bs4 import BeautifulSoup, Tag\n",
    "import requests\n",
    "import os.path\n",
    "from tqdm.notebook import tqdm"
   ]
  },
  {
   "cell_type": "code",
   "execution_count": 2,
   "id": "d543d6f1",
   "metadata": {},
   "outputs": [],
   "source": [
    "def found_content_container(tag):\n",
    "    if not tag.has_attr(\"data-test-id\") :\n",
    "        return False\n",
    "    return tag[\"data-test-id\"] == \"content-container\""
   ]
  },
  {
   "cell_type": "code",
   "execution_count": 3,
   "id": "0f643ee0",
   "metadata": {},
   "outputs": [],
   "source": [
    "def get_start_index(content_container_child):\n",
    "    start_index = 0\n",
    "    found = False\n",
    "    while not found:\n",
    "        if isinstance(content_container_child[start_index], Tag):\n",
    "            if content_container_child[start_index].attrs.get('id', \"\") == \"question-answer-session\":\n",
    "                found = True\n",
    "        start_index+=1\n",
    "        if start_index == len(content_container_child) : \n",
    "            return -1\n",
    "    start_index -=1\n",
    "    return start_index"
   ]
  },
  {
   "cell_type": "markdown",
   "id": "7ffee5c1",
   "metadata": {},
   "source": [
    "## Parameters"
   ]
  },
  {
   "cell_type": "code",
   "execution_count": 4,
   "id": "5051b31a",
   "metadata": {},
   "outputs": [
    {
     "name": "stdout",
     "output_type": "stream",
     "text": [
      "['AAON', 'AAN']\n"
     ]
    }
   ],
   "source": [
    "# change parameters here\n",
    "dir_path_ticker = \"data/sp600/ticker/\"\n",
    "dir_path_text = \"data/sp600/text/\"\n",
    "list_tickers = os.listdir(dir_path_ticker)\n",
    "#list_tickers.remove('.DS_Store') # for mac\n",
    "list_tickers.remove('id_to_date')\n",
    "print(list_tickers)"
   ]
  },
  {
   "cell_type": "markdown",
   "id": "c7687c7d",
   "metadata": {},
   "source": [
    "## Parsing"
   ]
  },
  {
   "cell_type": "code",
   "execution_count": 5,
   "id": "36858d11",
   "metadata": {},
   "outputs": [
    {
     "data": {
      "application/vnd.jupyter.widget-view+json": {
       "model_id": "7739ca4badf34249af305d4686824cb5",
       "version_major": 2,
       "version_minor": 0
      },
      "text/plain": [
       "  0%|          | 0/2 [00:00<?, ?it/s]"
      ]
     },
     "metadata": {},
     "output_type": "display_data"
    },
    {
     "name": "stdout",
     "output_type": "stream",
     "text": [
      "We didn't find 1 content container out of 43\n",
      "We didn't find 3 earning call start\n",
      "We didn't find 1 content container out of 58\n",
      "We didn't find 9 earning call start\n"
     ]
    }
   ],
   "source": [
    "for ticker in tqdm(list_tickers):\n",
    "    article_path = dir_path_ticker+ticker+\"/\"\n",
    "    earning_call_path = dir_path_text+ticker\n",
    "    earning_with_content_container_not_found = []\n",
    "    earning_with_start_not_found = []\n",
    "    for name in os.listdir(article_path):\n",
    "        with open(article_path + name, \"r\") as file:\n",
    "            html_content = file.read()\n",
    "            soup  = BeautifulSoup(html_content)\n",
    "            content_container = soup.find_all(found_content_container)\n",
    "            if len(content_container) !=1:\n",
    "                earning_with_content_container_not_found.append(name)\n",
    "            else:\n",
    "                content_container = content_container[0]\n",
    "                content_container_child = [ child for child in content_container.children]\n",
    "                start_index = get_start_index(content_container_child)\n",
    "                if start_index == -1:\n",
    "                    earning_with_start_not_found.append(name)\n",
    "                else: \n",
    "                    earning_call_trasncript = \"\"\n",
    "                    for tag in content_container_child[start_index:]:\n",
    "                        earning_call_trasncript += tag.get_text()+'\\n'\n",
    "                    if not os.path.exists(earning_call_path):\n",
    "                        os.makedirs(earning_call_path)\n",
    "                        print(\"The new directory is created!\")\n",
    "                    if not os.path.isfile(earning_call_path+\"/\"+ name[:-5]):\n",
    "                        with open(earning_call_path+'/'+ name[:-5],\"x\") as file:\n",
    "                            file.write(earning_call_trasncript)\n",
    "\n",
    "    print(f\"We didn't find {len(earning_with_content_container_not_found)} content container out of {len(os.listdir(article_path))}\")\n",
    "    print(f\"We didn't find {len(earning_with_start_not_found)} earning call start\")"
   ]
  },
  {
   "cell_type": "markdown",
   "id": "fd77c681",
   "metadata": {},
   "source": [
    "Errors taken into account and that are, in our case, not errors are:\n",
    "- 1 from the file last_time_scrap of the scrapping giving the last time in epoch we have scrapped\n",
    "- Multiple file that are not written transcript but audio records\n",
    "    \n",
    "One can check which transcript id have error by printing earning_with_content_container_not_found or earning_with_start_not_found."
   ]
  }
 ],
 "metadata": {
  "kernelspec": {
   "display_name": "Python 3 (ipykernel)",
   "language": "python",
   "name": "python3"
  },
  "language_info": {
   "codemirror_mode": {
    "name": "ipython",
    "version": 3
   },
   "file_extension": ".py",
   "mimetype": "text/x-python",
   "name": "python",
   "nbconvert_exporter": "python",
   "pygments_lexer": "ipython3",
   "version": "3.7.11"
  }
 },
 "nbformat": 4,
 "nbformat_minor": 5
}
