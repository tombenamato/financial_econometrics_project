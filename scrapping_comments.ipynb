{
 "cells": [
  {
   "cell_type": "code",
   "execution_count": 1,
   "id": "f234f0bb",
   "metadata": {},
   "outputs": [],
   "source": [
    "from selenium import webdriver\n",
    "from selenium import webdriver   # for webdriver\n",
    "from selenium.webdriver.support.ui import WebDriverWait  # for implicit and explict waits\n",
    "from selenium.webdriver.chrome.options import Options \n",
    "from selenium.webdriver.chrome.service import Service\n",
    "from tqdm import tqdm # to create loadbard in for loop\n",
    "import os.path"
   ]
  },
  {
   "cell_type": "markdown",
   "id": "2c23a292",
   "metadata": {},
   "source": [
    "# What will be achieved\n",
    "This file will download the comments of the earning transcripts downloaded in the article folder.\n",
    "The comments will be saved in the comments folder.\n",
    "Note that normal get request, flagged the bot detection.\n",
    "The code can be adapted to check, if we already have the comments so that it do not fetch them again. However, this would mean that new comments will not be downloaded."
   ]
  },
  {
   "cell_type": "code",
   "execution_count": 4,
   "id": "79b65c84",
   "metadata": {},
   "outputs": [
    {
     "name": "stderr",
     "output_type": "stream",
     "text": [
      "/home/thomas/miniconda3/lib/python3.7/site-packages/ipykernel_launcher.py:4: DeprecationWarning: executable_path has been deprecated, please pass in a Service object\n",
      "  after removing the cwd from sys.path.\n",
      "  0%|                                                                                                                                                                                                                                                   | 0/57 [00:00<?, ?it/s]/home/thomas/miniconda3/lib/python3.7/site-packages/ipykernel_launcher.py:11: DeprecationWarning: find_element_by_tag_name is deprecated. Please use find_element(by=By.TAG_NAME, value=name) instead\n",
      "  # This is added back by InteractiveShellApp.init_path()\n",
      "100%|██████████████████████████████████████████████████████████████████████████████████████████████████████████████████████████████████████████████████████████████████████████████████████████████████████████████████████████████████████████| 57/57 [00:20<00:00,  2.75it/s]\n"
     ]
    }
   ],
   "source": [
    "id_earning_calls = [name[:-5] for name in os.listdir(\"data/article/\")]\n",
    "executable_path = \"./chromedriver_linux\"\n",
    "option = webdriver.ChromeOptions()\n",
    "driver = webdriver.Chrome(executable_path= executable_path,options=option)\n",
    "for id_earning_call in tqdm(id_earning_calls):\n",
    "    with open(\"data/comment/\"+ id_earning_call+\".json\", \"w\") as file:\n",
    "        url = \"https://seekingalpha.com/api/v3/articles/\"\\\n",
    "            +id_earning_call\\\n",
    "            +\"/comment_maps?include=user&sort=-top_parent_id\"\n",
    "        driver.get(url)\n",
    "        api_json_response = driver.find_element_by_tag_name(\"body\").text\n",
    "        file.write(api_json_response)"
   ]
  },
  {
   "cell_type": "code",
   "execution_count": 5,
   "id": "af07138a",
   "metadata": {},
   "outputs": [
    {
     "name": "stdout",
     "output_type": "stream",
     "text": [
      "{\"data\":[],\"included\":[],\"meta\":{\"page\":{\"size\":0,\"total\":null}},\"links\":{\"next\":null,\"self\":\"/articles/4505103/comment_maps?include=user&sort=-top_parent_id\"}}\n"
     ]
    }
   ],
   "source": [
    "#sanity check of last reponse no captcha/bot detection\n",
    "print(api_json_response)"
   ]
  },
  {
   "cell_type": "code",
   "execution_count": null,
   "id": "c4c47ca1",
   "metadata": {},
   "outputs": [],
   "source": []
  }
 ],
 "metadata": {
  "kernelspec": {
   "display_name": "Python 3 (ipykernel)",
   "language": "python",
   "name": "python3"
  },
  "language_info": {
   "codemirror_mode": {
    "name": "ipython",
    "version": 3
   },
   "file_extension": ".py",
   "mimetype": "text/x-python",
   "name": "python",
   "nbconvert_exporter": "python",
   "pygments_lexer": "ipython3",
   "version": "3.7.11"
  }
 },
 "nbformat": 4,
 "nbformat_minor": 5
}
