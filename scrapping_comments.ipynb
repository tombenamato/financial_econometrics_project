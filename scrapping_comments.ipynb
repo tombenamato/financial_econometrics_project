{
 "cells": [
  {
   "cell_type": "code",
   "execution_count": 1,
   "id": "f234f0bb",
   "metadata": {},
   "outputs": [],
   "source": [
    "from selenium import webdriver\n",
    "from selenium import webdriver   # for webdriver\n",
    "from selenium.webdriver.support.ui import WebDriverWait  # for implicit and explict waits\n",
    "from selenium.webdriver.chrome.options import Options \n",
    "from selenium.webdriver.chrome.service import Service\n",
    "from selenium.webdriver.common.by import By\n",
    "from tqdm import tqdm # to create loadbard in for loop\n",
    "import os.path\n",
    "import json"
   ]
  },
  {
   "cell_type": "markdown",
   "id": "2c23a292",
   "metadata": {},
   "source": [
    "# What will be achieved\n",
    "This file will download the comments and their metada for each of the earning transcripts downloaded in the article folder.\n",
    "The comments will be saved in the comments folder. If no comments for a given earning calls the file will not be created.\n",
    "\n",
    "Note that normal get request, flagged the bot detection.\n",
    "The code can be adapted to check, if we already have the comments so that it do not fetch them again. However, this would mean that new comments will not be downloaded.\n",
    "\n",
    "The explication of the different api used are in a text file in the main folder\n",
    "\n",
    "## First API data response\n",
    "\n",
    "<pre>\n",
    "dict(\n",
    "    data : list( metadata for one comment),\n",
    "    if no comments -> meta : don't care\n",
    "    )\n",
    "    \n",
    "Metadata one comment:\n",
    "dict(\n",
    "    id : comment id (string),\n",
    "    type : \"comment\",\n",
    "    attributes : dict(\n",
    "                      topParentId : comment id (int),\n",
    "                      createdOn : date of creation (e.g. \"2022-04-29T22:15:05.000-04:00\"\n",
    "                      pinned : don't know (bool)\n",
    "                      )\n",
    "    relationships : don't care\n",
    "    links : don't care\n",
    "                      )\n",
    ")\n",
    "</pre>\n",
    "\n",
    "\n",
    "## Second API data reponse\n",
    "\n",
    "<pre>\n",
    "dict(\n",
    "    data : list(metada for one comment),\n",
    "    meta : don't care\n",
    ")\n",
    "\n",
    "Metadata for one comment:\n",
    "dict(\n",
    "    id : comment id (string),\n",
    "    type : \"comment\",\n",
    "    attributes : dict(\n",
    "                      content : the comment (str),\n",
    "                      edited : has it been edited afterward (bool),\n",
    "                      parentId : don't know,\n",
    "                      likesCount : (int),\n",
    "                      rating : (int),\n",
    "                      activeSubject : (bool),\n",
    "                      createdOn : date of comment creation(str),\n",
    "                      topParentId : don't know,\n",
    "                      pinned : (bool)\n",
    "                      )\n",
    "    relationships : dict(\n",
    "                         user : dict(\n",
    "                                     data : dict(\n",
    "                                                 id : user id (str),\n",
    "                                                 type : e.g. \"commentAuthor\" (str)\n",
    "                                                 )\n",
    "                                     )\n",
    "                         )\n",
    "    links : don't care\n",
    ")\n",
    "</pre>\n",
    "\n"
   ]
  },
  {
   "cell_type": "code",
   "execution_count": 2,
   "id": "79b65c84",
   "metadata": {},
   "outputs": [
    {
     "name": "stderr",
     "output_type": "stream",
     "text": [
      "100%|███████████████████████████████████████████| 50/50 [00:26<00:00,  1.91it/s]"
     ]
    },
    {
     "name": "stdout",
     "output_type": "stream",
     "text": [
      "Number of downloaded comments of earning calls is :  1\n",
      "[{'id': '92199410', 'type': 'comment', 'attributes': {'content': 'I’m getting messages of unsubscribing why I haven’t unsubscribe?', 'edited': False, 'parentId': None, 'likesCount': 0, 'rating': 0, 'a\n"
     ]
    },
    {
     "name": "stderr",
     "output_type": "stream",
     "text": [
      "\n"
     ]
    }
   ],
   "source": [
    "id_earning_calls = [name[:-5] for name in os.listdir(\"data/article/\")]\n",
    "# need to specify the right driver\n",
    "executable_path = \"./chromedriver_linux\"\n",
    "service = Service(executable_path)\n",
    "option = webdriver.ChromeOptions()\n",
    "driver = webdriver.Chrome(service=service,options=option)\n",
    "nbr_dowloaded_comments_of_earning_call = 0\n",
    "for id_earning_call in tqdm(id_earning_calls):\n",
    "    url = \"https://seekingalpha.com/api/v3/articles/\"\\\n",
    "        +id_earning_call\\\n",
    "        +\"/comment_maps?include=user&sort=-top_parent_id\"\n",
    "    driver.get(url)\n",
    "    api_json_response_0 = driver.find_element(by=By.TAG_NAME, value = \"body\").text\n",
    "    api_data_reponse_0 = json.loads(api_json_response_0)\n",
    "    if api_data_reponse_0[\"data\"]:\n",
    "        with open(\"data/comment/\"+ id_earning_call+\".json\", \"w\") as file:\n",
    "            id_comments = [ data[\"id\"] for data in api_data_reponse_0[\"data\"]]\n",
    "            url = \"https://seekingalpha.com/api/v3/articles/\"\\\n",
    "                +id_earning_call\\\n",
    "                +\"/comments?comment_ids=\"\\\n",
    "                +\",\".join(id_comments)\n",
    "            driver.get(url)\n",
    "            api_json_response_1 = driver.find_element(by=By.TAG_NAME, value = \"body\").text\n",
    "            api_data_response_1 = json.loads(api_json_response_1)\n",
    "            file.write(str(api_data_response_1[\"data\"]))\n",
    "            nbr_dowloaded_comments_of_earning_call+=1\n",
    "            \n",
    "print(\"Number of downloaded comments of earning calls is : \",nbr_dowloaded_comments_of_earning_call)\n",
    "if nbr_dowloaded_comments_of_earning_call!=0:\n",
    "    # Check last downloaded comments, i.e. captcha/bot error \n",
    "    print(str(api_data_response_1[\"data\"])[:200])"
   ]
  }
 ],
 "metadata": {
  "kernelspec": {
   "display_name": "Python 3 (ipykernel)",
   "language": "python",
   "name": "python3"
  },
  "language_info": {
   "codemirror_mode": {
    "name": "ipython",
    "version": 3
   },
   "file_extension": ".py",
   "mimetype": "text/x-python",
   "name": "python",
   "nbconvert_exporter": "python",
   "pygments_lexer": "ipython3",
   "version": "3.7.11"
  }
 },
 "nbformat": 4,
 "nbformat_minor": 5
}
