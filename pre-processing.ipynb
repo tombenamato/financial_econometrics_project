{
 "cells": [
  {
   "cell_type": "code",
   "execution_count": 39,
   "id": "bf2c61dc",
   "metadata": {
    "scrolled": true
   },
   "outputs": [
    {
     "name": "stderr",
     "output_type": "stream",
     "text": [
      "[nltk_data] Downloading package stopwords to\n",
      "[nltk_data]     /Users/tatianacogne/nltk_data...\n",
      "[nltk_data]   Package stopwords is already up-to-date!\n",
      "[nltk_data] Downloading package punkt to\n",
      "[nltk_data]     /Users/tatianacogne/nltk_data...\n",
      "[nltk_data]   Package punkt is already up-to-date!\n",
      "[nltk_data] Downloading package wordnet to\n",
      "[nltk_data]     /Users/tatianacogne/nltk_data...\n",
      "[nltk_data]   Package wordnet is already up-to-date!\n",
      "[nltk_data] Downloading package omw-1.4 to\n",
      "[nltk_data]     /Users/tatianacogne/nltk_data...\n",
      "[nltk_data]   Package omw-1.4 is already up-to-date!\n"
     ]
    },
    {
     "data": {
      "text/plain": [
       "True"
      ]
     },
     "execution_count": 39,
     "metadata": {},
     "output_type": "execute_result"
    }
   ],
   "source": [
    "import pandas as pd\n",
    "import numpy as np\n",
    "import re\n",
    "import collections, itertools\n",
    "import numpy as np\n",
    "import matplotlib.pyplot as plt\n",
    "import nltk\n",
    "import hdbscan\n",
    "import umap\n",
    "import gensim\n",
    "\n",
    "from nltk.corpus import stopwords\n",
    "from nltk.tokenize import word_tokenize\n",
    "from nltk.stem import WordNetLemmatizer\n",
    "from nltk.util import ngrams\n",
    "from nltk.probability import FreqDist\n",
    "\n",
    "from finbert_embedding.embedding import FinbertEmbedding\n",
    "\n",
    "from sklearn.decomposition import TruncatedSVD\n",
    "from sklearn.feature_extraction.text import CountVectorizer\n",
    "from sklearn.decomposition import LatentDirichletAllocation\n",
    "from sklearn.datasets import make_multilabel_classification\n",
    "from sklearn.feature_extraction.text import TfidfVectorizer\n",
    "\n",
    "from gensim import corpora\n",
    "from gensim.corpora.dictionary import Dictionary\n",
    "\n",
    "nltk.download('stopwords')\n",
    "nltk.download('punkt')\n",
    "nltk.download('wordnet')\n",
    "nltk.download('omw-1.4')"
   ]
  },
  {
   "cell_type": "code",
   "execution_count": 9,
   "id": "936cdcb8",
   "metadata": {},
   "outputs": [],
   "source": [
    "import glob\n",
    "list_articles = glob.glob(\"data/earning_call/*\")\n",
    "texts = []\n",
    "for s in list_articles:\n",
    "    with open(s) as f:\n",
    "        texts.append(f.read())"
   ]
  },
  {
   "cell_type": "code",
   "execution_count": 10,
   "id": "5efa1a8b",
   "metadata": {},
   "outputs": [
    {
     "data": {
      "text/plain": [
       "('Number of articles', 444)"
      ]
     },
     "execution_count": 10,
     "metadata": {},
     "output_type": "execute_result"
    }
   ],
   "source": [
    "'Number of articles', len(texts)"
   ]
  },
  {
   "cell_type": "markdown",
   "id": "0f454ad1",
   "metadata": {},
   "source": [
    "## Processing"
   ]
  },
  {
   "cell_type": "code",
   "execution_count": 11,
   "id": "9d24d9eb",
   "metadata": {},
   "outputs": [],
   "source": [
    "# Function that transforms a list of strings into 1 big concatenated string and vice-versa\n",
    "def list_to_text(list_input, stops = []):\n",
    "    text_output = ' '.join([word for word in list_input if word not in stops]) \n",
    "    return text_output\n",
    "\n",
    "def text_to_list(text_input):\n",
    "    list_output = word_tokenize(text_input)\n",
    "    return list_output"
   ]
  },
  {
   "cell_type": "code",
   "execution_count": 12,
   "id": "31c343dd",
   "metadata": {},
   "outputs": [
    {
     "name": "stdout",
     "output_type": "stream",
     "text": [
      "Number of words before removing the stop words 1\n",
      "Number of words after removing the stop words 1\n"
     ]
    }
   ],
   "source": [
    "text = 'blablabla'\n",
    "# Ponctuation\n",
    "text = re.sub('[^A-Za-z0-9]+', ' ', text)\n",
    "\n",
    "# Lower all words\n",
    "text = text.lower()\n",
    "\n",
    "# Remove stopwords\n",
    "stop_words = set(stopwords.words('english'))\n",
    "word_tokens = word_tokenize(text)\n",
    "filtered_text = [w for w in word_tokens if not w.lower() in stop_words]\n",
    "\n",
    "print('Number of words before removing the stop words',len(word_tokens))\n",
    "print('Number of words after removing the stop words',len(filtered_text))"
   ]
  },
  {
   "cell_type": "code",
   "execution_count": 13,
   "id": "f363f37b",
   "metadata": {},
   "outputs": [],
   "source": [
    "# N-Gram\n",
    "def ngrams_list(n):\n",
    "    \"\"\"\n",
    "        Compute ngrams.\n",
    "        \n",
    "        Args:\n",
    "            n (int): the number of words to words to assemble in the ngram.\n",
    "        \n",
    "        Returns :\n",
    "            A list composed of the ngrams.\n",
    "    \"\"\"\n",
    "    m = []\n",
    "    nx_grams = ngrams(sequence = nltk.word_tokenize(text), n = n)\n",
    "    for gram in nx_grams:\n",
    "        m.append(gram)\n",
    "    return m"
   ]
  },
  {
   "cell_type": "code",
   "execution_count": 14,
   "id": "e9e3637d",
   "metadata": {},
   "outputs": [],
   "source": [
    "wordnet_lemmatizer = WordNetLemmatizer()"
   ]
  },
  {
   "cell_type": "code",
   "execution_count": 15,
   "id": "cce6e5ed",
   "metadata": {},
   "outputs": [],
   "source": [
    "# Remove most frequent and least frequent words\n",
    "def remove(filtered_text, a, l, h):\n",
    "    \"\"\"\n",
    "        Remove most and least frequent words.\n",
    "        Args:\n",
    "            a (list) : list on which operations should be made.\n",
    "            l (float): the proportion of top l% least frequent words to remove from the numer of different words.\n",
    "            h (float): the proportion of top h% most frequent words to remove from the numer of different words.\n",
    "    \n",
    "        Returns:\n",
    "            A copy of the input text without frequent and infrequent words.\n",
    "    \"\"\"\n",
    "    f = FreqDist(a)\n",
    "\n",
    "    df_fdist = pd.DataFrame({'Word': f.keys(), 'Number of apparitions': f.values()})\n",
    "    L= l*len(df_fdist)\n",
    "    L=int(L)\n",
    "\n",
    "    H=h*len(df_fdist)\n",
    "    H=int(H)\n",
    "    \n",
    "    df_fdesc = df_fdist.sort_values(by='Number of apparitions', ascending=False)\n",
    "    df_fasc = df_fdist.sort_values(by='Number of apparitions', ascending=True)\n",
    "\n",
    "    most_freq_words_list = list(df_fdesc['Word'][:H])\n",
    "    least_freq_word_list = list(df_fasc['Word'][:L])\n",
    "    stopwords = most_freq_words_list + least_freq_word_list\n",
    "    textlist_wo_extremes = list_to_text(filtered_text, stopwords)\n",
    "    #text_wo_extremes = ' '.join([word for word in filtered_text if word not in stopwords]) \n",
    "\n",
    "    return textlist_wo_extremes"
   ]
  },
  {
   "cell_type": "code",
   "execution_count": 16,
   "id": "536579e2",
   "metadata": {
    "scrolled": true
   },
   "outputs": [],
   "source": [
    "def processing(text):\n",
    "    \"\"\"Function that combien all the processing steps\"\"\"\n",
    "    text = re.sub('[^A-Za-z0-9]+', ' ', text)\n",
    "    text = text.lower()\n",
    "    stop_words = set(stopwords.words('english'))\n",
    "    word_tokens = word_tokenize(text)\n",
    "    filtered_text = [w for w in word_tokens if not w.lower() in stop_words]\n",
    "    x = [wordnet_lemmatizer.lemmatize(word, pos='n') for word in filtered_text]\n",
    "    return remove(filtered_text, x,0.03,0.06)"
   ]
  },
  {
   "cell_type": "code",
   "execution_count": 17,
   "id": "d3a5117a",
   "metadata": {},
   "outputs": [],
   "source": [
    "#number of articles to train \n",
    "n= 250\n",
    "texts = [processing(x) for x in texts][:250]"
   ]
  },
  {
   "cell_type": "markdown",
   "id": "f530cd3a",
   "metadata": {},
   "source": [
    "## FinBERT \n",
    "https://pypi.org/project/finbert-embedding/"
   ]
  },
  {
   "cell_type": "code",
   "execution_count": 18,
   "id": "a0cf6da0",
   "metadata": {},
   "outputs": [],
   "source": [
    "finbert = FinbertEmbedding()"
   ]
  },
  {
   "cell_type": "code",
   "execution_count": 19,
   "id": "e1d3d2a8",
   "metadata": {},
   "outputs": [],
   "source": [
    "from tqdm.notebook import tqdm"
   ]
  },
  {
   "cell_type": "code",
   "execution_count": 21,
   "id": "ba4d83dc",
   "metadata": {},
   "outputs": [
    {
     "data": {
      "application/vnd.jupyter.widget-view+json": {
       "model_id": "b2ffa934e2724ff484837aaf10bd34cb",
       "version_major": 2,
       "version_minor": 0
      },
      "text/plain": [
       "  0%|          | 0/250 [00:00<?, ?it/s]"
      ]
     },
     "metadata": {},
     "output_type": "display_data"
    }
   ],
   "source": [
    "test_texts = texts[:n]\n",
    "X_FinB = np.zeros((n,768))\n",
    "k=0\n",
    "for text, i in zip(test_texts,tqdm(range(1,n+1))):\n",
    "    X_FinB[k,] = finbert.sentence_vector(text)\n",
    "    k+=1"
   ]
  },
  {
   "cell_type": "code",
   "execution_count": 23,
   "id": "ab286d3e",
   "metadata": {},
   "outputs": [
    {
     "data": {
      "text/plain": [
       "(250, 768)"
      ]
     },
     "execution_count": 23,
     "metadata": {},
     "output_type": "execute_result"
    }
   ],
   "source": [
    "X_FinB.shape"
   ]
  },
  {
   "cell_type": "markdown",
   "id": "5695ca7b",
   "metadata": {},
   "source": [
    "## TFIDF\n",
    "https://scikit-learn.org/stable/modules/generated/sklearn.feature_extraction.text.TfidfVectorizer.html"
   ]
  },
  {
   "cell_type": "code",
   "execution_count": null,
   "id": "06ff1dc9",
   "metadata": {
    "scrolled": true
   },
   "outputs": [],
   "source": [
    "corpus = texts\n",
    "vectorizer = TfidfVectorizer()\n",
    "X_tfidf = vectorizer.fit_transform(corpus)\n",
    "X_tfidf.shape"
   ]
  },
  {
   "cell_type": "markdown",
   "id": "f04cb091",
   "metadata": {},
   "source": [
    "## LSA"
   ]
  },
  {
   "cell_type": "code",
   "execution_count": null,
   "id": "92aebac7",
   "metadata": {},
   "outputs": [],
   "source": [
    "# Define the number of topics or components\n",
    "num_components=10\n",
    "\n",
    "# Create SVD object\n",
    "lsa = TruncatedSVD(n_components=num_components, n_iter=100, random_state=42)\n",
    "\n",
    "# Fit SVD model on data\n",
    "lsa.fit_transform(X_tfidf)\n",
    "\n",
    "# Get Singular values and Components \n",
    "Sigma = lsa.singular_values_ \n",
    "V_transpose = lsa.components_.T\n",
    "\n",
    "# Print the topics with their terms\n",
    "terms = vectorizer.get_feature_names()\n",
    "\n",
    "for doc, component in enumerate(lsa.components_):\n",
    "    zipped = zip(terms, component)\n",
    "    top_terms_key=sorted(zipped, key = lambda t: t[1], reverse=True)[:5]\n",
    "    top_terms_list=list(dict(top_terms_key).keys())\n",
    "    print(\"Document \"+str(doc)+\": \",top_terms_list)"
   ]
  },
  {
   "cell_type": "markdown",
   "id": "1cc50ded",
   "metadata": {},
   "source": [
    "### Dimensionality reduction and clustering before topic extraction"
   ]
  },
  {
   "cell_type": "code",
   "execution_count": 24,
   "id": "a0fb3bc9",
   "metadata": {},
   "outputs": [],
   "source": [
    "embeddings = X_FinB"
   ]
  },
  {
   "cell_type": "code",
   "execution_count": 58,
   "id": "e2066358",
   "metadata": {},
   "outputs": [],
   "source": [
    "umap_embeddings = umap.UMAP(n_components= 5, n_neighbors=10, \n",
    "                            metric='cosine').fit_transform(embeddings)\n",
    "cluster = hdbscan.HDBSCAN(min_cluster_size=3,\n",
    "                          metric='euclidean',                      \n",
    "                          cluster_selection_method='eom').fit(umap_embeddings)"
   ]
  },
  {
   "cell_type": "code",
   "execution_count": 59,
   "id": "f1a6d503",
   "metadata": {},
   "outputs": [
    {
     "data": {
      "text/plain": [
       "('Number of clusters/topics ', 16)"
      ]
     },
     "execution_count": 59,
     "metadata": {},
     "output_type": "execute_result"
    }
   ],
   "source": [
    "'Number of clusters/topics ', len(set(cluster.labels_))"
   ]
  },
  {
   "cell_type": "code",
   "execution_count": 65,
   "id": "3c06f9ca",
   "metadata": {},
   "outputs": [
    {
     "data": {
      "text/plain": [
       "<matplotlib.colorbar.Colorbar at 0x7fd972873880>"
      ]
     },
     "execution_count": 65,
     "metadata": {},
     "output_type": "execute_result"
    },
    {
     "data": {
      "image/png": "[encoded data removed]",
      "text/plain": [
       "<Figure size 1440x720 with 2 Axes>"
      ]
     },
     "metadata": {
      "needs_background": "light"
     },
     "output_type": "display_data"
    }
   ],
   "source": [
    "# Prepare data\n",
    "umap_data = umap.UMAP(n_components=2, min_dist=0.0, metric='cosine').fit_transform(embeddings)\n",
    "result = pd.DataFrame(umap_data, columns=['x', 'y'])\n",
    "result['labels'] = cluster.labels_\n",
    "\n",
    "# Visualize clusters\n",
    "fig, ax = plt.subplots(figsize=(20, 10))\n",
    "outliers = result.loc[result.labels == -1, :]\n",
    "clustered = result.loc[result.labels != -1, :]\n",
    "plt.scatter(outliers.x, outliers.y, color='#BDBDBD', s=0.5)\n",
    "plt.scatter(clustered.x, clustered.y, c=clustered.labels, s=3, cmap='hsv_r')\n",
    "plt.colorbar()"
   ]
  },
  {
   "cell_type": "code",
   "execution_count": 66,
   "id": "cb9a9bf6",
   "metadata": {},
   "outputs": [],
   "source": [
    "docs_df = pd.DataFrame(texts[:n], columns=[\"Doc\"])\n",
    "docs_df['Topic'] = cluster.labels_\n",
    "docs_df['Doc_ID'] = range(len(docs_df))\n",
    "docs_per_topic = docs_df.groupby(['Topic'], as_index = False).agg({'Doc': ' '.join})"
   ]
  },
  {
   "cell_type": "code",
   "execution_count": 67,
   "id": "1b81ab84",
   "metadata": {},
   "outputs": [],
   "source": [
    "def c_tf_idf(documents, m, ngram_range=(1, 1)):\n",
    "    count = CountVectorizer(ngram_range=ngram_range, stop_words=\"english\").fit(documents)\n",
    "    t = count.transform(documents).toarray()\n",
    "    w = t.sum(axis=1)\n",
    "    tf = np.divide(t.T, w)\n",
    "    sum_t = t.sum(axis=0)\n",
    "    idf = np.log(np.divide(m, sum_t)).reshape(-1, 1)\n",
    "    tf_idf = np.multiply(tf, idf)\n",
    "\n",
    "    return tf_idf, count\n",
    "  \n",
    "tf_idf, count = c_tf_idf(docs_per_topic.Doc.values, m=len(texts[:n]))"
   ]
  },
  {
   "cell_type": "code",
   "execution_count": 68,
   "id": "b2249616",
   "metadata": {},
   "outputs": [
    {
     "data": {
      "text/plain": [
       "(21788, 16)"
      ]
     },
     "execution_count": 68,
     "metadata": {},
     "output_type": "execute_result"
    }
   ],
   "source": [
    "tf_idf.shape"
   ]
  },
  {
   "cell_type": "code",
   "execution_count": 69,
   "id": "b0bb1b47",
   "metadata": {},
   "outputs": [],
   "source": [
    "def extract_top_n_words_per_topic(tf_idf, count, docs_per_topic, n=20):\n",
    "    words = count.get_feature_names()\n",
    "    labels = list(docs_per_topic.Topic)\n",
    "    tf_idf_transposed = tf_idf.T\n",
    "    indices = tf_idf_transposed.argsort()[:, -n:]\n",
    "    top_n_words = {label: [(words[j], tf_idf_transposed[i][j]) for j in indices[i]][::-1] for i, label in enumerate(labels)}\n",
    "    return top_n_words"
   ]
  },
  {
   "cell_type": "code",
   "execution_count": 70,
   "id": "d538e9c7",
   "metadata": {},
   "outputs": [],
   "source": [
    "def extract_topic_sizes(df):\n",
    "    topic_sizes = (df.groupby(['Topic'])\n",
    "                     .Doc\n",
    "                     .count()\n",
    "                     .reset_index()\n",
    "                     .rename({\"Topic\": \"Topic\", \"Doc\": \"Size\"}, axis='columns')\n",
    "                     .sort_values(\"Size\", ascending=False))\n",
    "    return topic_sizes"
   ]
  },
  {
   "cell_type": "code",
   "execution_count": 71,
   "id": "40a424e8",
   "metadata": {},
   "outputs": [
    {
     "data": {
      "text/html": [
       "<div>\n",
       "<style scoped>\n",
       "    .dataframe tbody tr th:only-of-type {\n",
       "        vertical-align: middle;\n",
       "    }\n",
       "\n",
       "    .dataframe tbody tr th {\n",
       "        vertical-align: top;\n",
       "    }\n",
       "\n",
       "    .dataframe thead th {\n",
       "        text-align: right;\n",
       "    }\n",
       "</style>\n",
       "<table border=\"1\" class=\"dataframe\">\n",
       "  <thead>\n",
       "    <tr style=\"text-align: right;\">\n",
       "      <th></th>\n",
       "      <th>Topic</th>\n",
       "      <th>Size</th>\n",
       "    </tr>\n",
       "  </thead>\n",
       "  <tbody>\n",
       "    <tr>\n",
       "      <th>0</th>\n",
       "      <td>-1</td>\n",
       "      <td>85</td>\n",
       "    </tr>\n",
       "    <tr>\n",
       "      <th>2</th>\n",
       "      <td>1</td>\n",
       "      <td>47</td>\n",
       "    </tr>\n",
       "    <tr>\n",
       "      <th>13</th>\n",
       "      <td>12</td>\n",
       "      <td>16</td>\n",
       "    </tr>\n",
       "    <tr>\n",
       "      <th>9</th>\n",
       "      <td>8</td>\n",
       "      <td>14</td>\n",
       "    </tr>\n",
       "    <tr>\n",
       "      <th>15</th>\n",
       "      <td>14</td>\n",
       "      <td>14</td>\n",
       "    </tr>\n",
       "    <tr>\n",
       "      <th>1</th>\n",
       "      <td>0</td>\n",
       "      <td>9</td>\n",
       "    </tr>\n",
       "    <tr>\n",
       "      <th>10</th>\n",
       "      <td>9</td>\n",
       "      <td>9</td>\n",
       "    </tr>\n",
       "    <tr>\n",
       "      <th>7</th>\n",
       "      <td>6</td>\n",
       "      <td>8</td>\n",
       "    </tr>\n",
       "    <tr>\n",
       "      <th>11</th>\n",
       "      <td>10</td>\n",
       "      <td>8</td>\n",
       "    </tr>\n",
       "    <tr>\n",
       "      <th>14</th>\n",
       "      <td>13</td>\n",
       "      <td>8</td>\n",
       "    </tr>\n",
       "  </tbody>\n",
       "</table>\n",
       "</div>"
      ],
      "text/plain": [
       "    Topic  Size\n",
       "0      -1    85\n",
       "2       1    47\n",
       "13     12    16\n",
       "9       8    14\n",
       "15     14    14\n",
       "1       0     9\n",
       "10      9     9\n",
       "7       6     8\n",
       "11     10     8\n",
       "14     13     8"
      ]
     },
     "execution_count": 71,
     "metadata": {},
     "output_type": "execute_result"
    }
   ],
   "source": [
    "top_n_words = extract_top_n_words_per_topic(tf_idf, count, docs_per_topic, n=20)\n",
    "topic_sizes = extract_topic_sizes(docs_df); topic_sizes.head(10)"
   ]
  },
  {
   "cell_type": "code",
   "execution_count": 72,
   "id": "bf41bf07",
   "metadata": {},
   "outputs": [
    {
     "name": "stdout",
     "output_type": "stream",
     "text": [
      "\n",
      "Topic -  1\n",
      "ges\n",
      "rigs\n",
      "advisors\n",
      "dan\n",
      "leases\n",
      "shacks\n",
      "pilots\n",
      "hours\n",
      "advertisers\n",
      "restaurants\n",
      "\n",
      "Topic -  2\n",
      "cells\n",
      "unmet\n",
      "preclinical\n",
      "dosing\n",
      "drug\n",
      "surgeons\n",
      "disease\n",
      "dose\n",
      "therapy\n",
      "doses\n",
      "\n",
      "Topic -  3\n",
      "outflows\n",
      "spreads\n",
      "msr\n",
      "janus\n",
      "abs\n",
      "cannabis\n",
      "henderson\n",
      "stonepine\n",
      "refi\n",
      "philippe\n",
      "\n",
      "Topic -  4\n",
      "teammates\n",
      "chargers\n",
      "philippines\n",
      "verticals\n",
      "practitioners\n",
      "ashwin\n",
      "guests\n",
      "clinicians\n",
      "lenses\n",
      "visits\n",
      "\n",
      "Topic -  5\n",
      "quarter\n",
      "additives\n",
      "bonds\n",
      "grosse\n",
      "anvesh\n",
      "apartments\n",
      "andreas\n",
      "provisioning\n",
      "sander\n",
      "klebert\n",
      "\n",
      "Topic -  6\n",
      "students\n",
      "doors\n",
      "russ\n",
      "disposables\n",
      "tabs\n",
      "weddell\n",
      "owners\n",
      "pools\n",
      "remodel\n",
      "interior\n",
      "\n",
      "Topic -  7\n",
      "rios\n",
      "bundles\n",
      "dezellem\n",
      "nurses\n",
      "essi\n",
      "ferrari\n",
      "sme\n",
      "knudson\n",
      "pen\n",
      "dun\n",
      "\n",
      "Topic -  8\n",
      "voliva\n",
      "urinary\n",
      "psp\n",
      "puget\n",
      "hep\n",
      "barrels\n",
      "griffith\n",
      "vadala\n",
      "cheyenne\n",
      "cracks\n",
      "\n",
      "Topic -  9\n",
      "pharmacies\n",
      "satellites\n",
      "eocl\n",
      "porter\n",
      "vitacare\n",
      "users\n",
      "worldview\n",
      "spacecraft\n",
      "discounts\n",
      "voermann\n",
      "\n",
      "Topic -  10\n",
      "kuehne\n",
      "airlines\n",
      "sports\n",
      "aircraft\n",
      "destinations\n",
      "garage\n",
      "fares\n",
      "buffet\n",
      "leisure\n",
      "circa\n",
      "\n",
      "Topic -  11\n",
      "casella\n",
      "carla\n",
      "frontdoor\n",
      "contractors\n",
      "mallard\n",
      "vogensen\n",
      "cards\n",
      "murry\n",
      "proconnect\n",
      "400g\n",
      "\n",
      "Topic -  12\n",
      "merchants\n",
      "cattle\n",
      "freezers\n",
      "poultry\n",
      "dsm\n",
      "foods\n",
      "foodservice\n",
      "aqua\n",
      "noelle\n",
      "galliprant\n",
      "\n",
      "Topic -  13\n",
      "drilling\n",
      "boe\n",
      "wells\n",
      "permits\n",
      "barrels\n",
      "hedges\n",
      "mariani\n",
      "basin\n",
      "hills\n",
      "pope\n",
      "\n",
      "Topic -  14\n",
      "utilities\n",
      "chesapeake\n",
      "renewable\n",
      "carolinas\n",
      "megawatts\n",
      "russo\n",
      "delmarva\n",
      "lapides\n",
      "storms\n",
      "dumoulin\n",
      "\n",
      "Topic -  15\n",
      "crores\n",
      "beverages\n",
      "franck\n",
      "nitride\n",
      "gallium\n",
      "verma\n",
      "percy\n",
      "numeric\n",
      "parcels\n",
      "nonresi\n",
      "\n",
      "Topic -  16\n",
      "enrollments\n",
      "hotels\n",
      "narula\n",
      "sunstone\n",
      "perdoceo\n",
      "reshaping\n",
      "biosimilars\n",
      "erosion\n",
      "abv\n",
      "lipitor\n"
     ]
    }
   ],
   "source": [
    "k=0\n",
    "for t in topic_sizes.Topic.values:\n",
    "    top_n_words[t].sort(key=lambda x:- x[1])\n",
    "    k +=1\n",
    "    print('')\n",
    "    print('Topic - ',k)\n",
    "    for i in range(10):\n",
    "        print(top_n_words[t][i][0])"
   ]
  },
  {
   "cell_type": "markdown",
   "id": "706245ae",
   "metadata": {},
   "source": [
    "## Linear Discriminant Analysis (LDA)\n",
    "--> supervised learning !"
   ]
  },
  {
   "cell_type": "markdown",
   "id": "2f05797e",
   "metadata": {},
   "source": [
    "## Latent Dirichlet Allocation (LDA)\n",
    "#to do how data cleanned / words removeds"
   ]
  },
  {
   "cell_type": "code",
   "execution_count": null,
   "id": "a9366762",
   "metadata": {
    "scrolled": true
   },
   "outputs": [],
   "source": [
    "!pip install gensim"
   ]
  },
  {
   "cell_type": "code",
   "execution_count": null,
   "id": "b466451e",
   "metadata": {
    "scrolled": true
   },
   "outputs": [],
   "source": [
    "final_doc = [document.split() for document in corpus]"
   ]
  },
  {
   "cell_type": "code",
   "execution_count": null,
   "id": "a98d14f7",
   "metadata": {
    "scrolled": true
   },
   "outputs": [],
   "source": [
    "dictionary = corpora.Dictionary(final_doc)\n",
    "DT_matrix = [dictionary.doc2bow(doc) for doc in final_doc]\n",
    "Lda_object = gensim.models.ldamodel.LdaModel"
   ]
  },
  {
   "cell_type": "code",
   "execution_count": null,
   "id": "457d07e6",
   "metadata": {
    "scrolled": true
   },
   "outputs": [],
   "source": [
    "lda_model_1 = Lda_object(DT_matrix, num_topics=2, id2word = dictionary)\n",
    "print(lda_model_1.show_topics(num_words=10))"
   ]
  },
  {
   "cell_type": "markdown",
   "id": "0130e33d",
   "metadata": {},
   "source": [
    "## BERT - Test 1"
   ]
  },
  {
   "cell_type": "code",
   "execution_count": null,
   "id": "48bda549",
   "metadata": {},
   "outputs": [],
   "source": [
    "from sentence_transformers import SentenceTransformer\n",
    "model = SentenceTransformer('distilbert-base-nli-mean-tokens')\n",
    "\n",
    "embeddings = model.encode(texts[:10], show_progress_bar=True)\n",
    "\n",
    "embeddings,shape"
   ]
  }
 ],
 "metadata": {
  "kernelspec": {
   "display_name": "Python 3 (ipykernel)",
   "language": "python",
   "name": "python3"
  },
  "language_info": {
   "codemirror_mode": {
    "name": "ipython",
    "version": 3
   },
   "file_extension": ".py",
   "mimetype": "text/x-python",
   "name": "python",
   "nbconvert_exporter": "python",
   "pygments_lexer": "ipython3",
   "version": "3.9.7"
  }
 },
 "nbformat": 4,
 "nbformat_minor": 5
}
