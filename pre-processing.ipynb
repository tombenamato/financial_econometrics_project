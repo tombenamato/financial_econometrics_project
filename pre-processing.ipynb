{
 "cells": [
  {
   "cell_type": "code",
   "execution_count": 1,
   "id": "bf2c61dc",
   "metadata": {},
   "outputs": [
    {
     "name": "stderr",
     "output_type": "stream",
     "text": [
      "[nltk_data] Downloading package stopwords to C:\\Users\\Roger\n",
      "[nltk_data]     Gualberti\\AppData\\Roaming\\nltk_data...\n",
      "[nltk_data]   Package stopwords is already up-to-date!\n",
      "[nltk_data] Downloading package punkt to C:\\Users\\Roger\n",
      "[nltk_data]     Gualberti\\AppData\\Roaming\\nltk_data...\n",
      "[nltk_data]   Package punkt is already up-to-date!\n",
      "[nltk_data] Downloading package wordnet to C:\\Users\\Roger\n",
      "[nltk_data]     Gualberti\\AppData\\Roaming\\nltk_data...\n",
      "[nltk_data]   Package wordnet is already up-to-date!\n",
      "[nltk_data] Downloading package omw-1.4 to C:\\Users\\Roger\n",
      "[nltk_data]     Gualberti\\AppData\\Roaming\\nltk_data...\n",
      "[nltk_data]   Package omw-1.4 is already up-to-date!\n"
     ]
    },
    {
     "data": {
      "text/plain": [
       "True"
      ]
     },
     "execution_count": 1,
     "metadata": {},
     "output_type": "execute_result"
    }
   ],
   "source": [
    "import pandas as pd\n",
    "import numpy as np\n",
    "import re\n",
    "import collections, itertools\n",
    "import numpy as np\n",
    "import matplotlib.pyplot as plt\n",
    "import nltk\n",
    "from nltk.corpus import stopwords\n",
    "from nltk.tokenize import word_tokenize\n",
    "from nltk.stem import WordNetLemmatizer\n",
    "from nltk.util import ngrams\n",
    "from nltk.probability import FreqDist\n",
    "nltk.download('stopwords')\n",
    "nltk.download('punkt')\n",
    "nltk.download('wordnet')\n",
    "nltk.download('omw-1.4')"
   ]
  },
  {
   "cell_type": "code",
   "execution_count": 2,
   "id": "1173f48e",
   "metadata": {},
   "outputs": [],
   "source": [
    "with open('data/text_article_4484494.txt') as f:\n",
    "    text = f.read()"
   ]
  },
  {
   "cell_type": "markdown",
   "id": "77bc99b2",
   "metadata": {},
   "source": [
    "0. Function that transforms a list of strings into 1 big concatenated string and vice-versa"
   ]
  },
  {
   "cell_type": "code",
   "execution_count": 3,
   "id": "abd085b5",
   "metadata": {},
   "outputs": [],
   "source": [
    "def list_to_text(list_input, stops = []):\n",
    "    text_output = ' '.join([word for word in list_input if word not in stops]) \n",
    "    return text_output\n",
    "\n",
    "def text_to_list(text_input):\n",
    "    list_output = word_tokenize(text_input)\n",
    "    return list_output"
   ]
  },
  {
   "cell_type": "markdown",
   "id": "096d75d0",
   "metadata": {},
   "source": [
    "1. Ponctuation "
   ]
  },
  {
   "cell_type": "code",
   "execution_count": 4,
   "id": "86874a38",
   "metadata": {},
   "outputs": [],
   "source": [
    "text = re.sub('[^A-Za-z0-9]+', ' ', text)"
   ]
  },
  {
   "cell_type": "markdown",
   "id": "91cba145",
   "metadata": {},
   "source": [
    "2. Lower all words"
   ]
  },
  {
   "cell_type": "code",
   "execution_count": 5,
   "id": "c46fbb37",
   "metadata": {},
   "outputs": [],
   "source": [
    "text = text.lower()"
   ]
  },
  {
   "cell_type": "markdown",
   "id": "76912038",
   "metadata": {},
   "source": [
    "3. Remove stopwords"
   ]
  },
  {
   "cell_type": "code",
   "execution_count": 6,
   "id": "6c8692d6",
   "metadata": {
    "scrolled": true
   },
   "outputs": [
    {
     "name": "stdout",
     "output_type": "stream",
     "text": [
      "Number of words before removing the stop words 7863\n",
      "Number of words after removing the stop words 4042\n"
     ]
    }
   ],
   "source": [
    "stop_words = set(stopwords.words('english'))\n",
    "word_tokens = word_tokenize(text)\n",
    "filtered_text = [w for w in word_tokens if not w.lower() in stop_words]\n",
    "\n",
    "print('Number of words before removing the stop words',len(word_tokens))\n",
    "print('Number of words after removing the stop words',len(filtered_text))"
   ]
  },
  {
   "cell_type": "markdown",
   "id": "24908ca0",
   "metadata": {},
   "source": [
    "4. Lemmatization"
   ]
  },
  {
   "cell_type": "code",
   "execution_count": 7,
   "id": "73b9710c",
   "metadata": {},
   "outputs": [],
   "source": [
    "wordnet_lemmatizer = WordNetLemmatizer()"
   ]
  },
  {
   "cell_type": "code",
   "execution_count": 8,
   "id": "331b27d0",
   "metadata": {},
   "outputs": [],
   "source": [
    "# Lemmatize only the noun\n",
    "x = [wordnet_lemmatizer.lemmatize(word, pos='n') for word in filtered_text]"
   ]
  },
  {
   "cell_type": "markdown",
   "id": "c5f6b9db",
   "metadata": {},
   "source": [
    "5. N-Gram "
   ]
  },
  {
   "cell_type": "code",
   "execution_count": 9,
   "id": "29918d9c",
   "metadata": {},
   "outputs": [],
   "source": [
    "def ngrams_list(n):\n",
    "    \"\"\"\n",
    "        Compute ngrams.\n",
    "        \n",
    "        Args:\n",
    "            n (int): the number of words to words to assemble in the ngram.\n",
    "        \n",
    "        Returns :\n",
    "            A list composed of the ngrams.\n",
    "    \"\"\"\n",
    "    m = []\n",
    "    nx_grams = ngrams(sequence = nltk.word_tokenize(text), n = n)\n",
    "    for gram in nx_grams:\n",
    "        m.append(gram)\n",
    "    return m"
   ]
  },
  {
   "cell_type": "markdown",
   "id": "1c5d29db",
   "metadata": {},
   "source": [
    "6. Remove most frequent and least frequent words"
   ]
  },
  {
   "cell_type": "code",
   "execution_count": 13,
   "id": "b5589f47",
   "metadata": {},
   "outputs": [],
   "source": [
    "def remove(a,l,h):\n",
    "    \"\"\"\n",
    "        Remove most and least frequent words.\n",
    "        Args:\n",
    "            a (list) : list on which operations should be made.\n",
    "            l (float): the proportion of top l% least frequent words to remove from the numer of different words.\n",
    "            h (float): the proportion of top h% most frequent words to remove from the numer of different words.\n",
    "    \n",
    "        Returns:\n",
    "            A copy of the input text without frequent and infrequent words.\n",
    "    \"\"\"\n",
    "    f = FreqDist(a)\n",
    "\n",
    "    df_fdist = pd.DataFrame({'Word': f.keys(), 'Number of apparitions': f.values()})\n",
    "    L= l*len(df_fdist)\n",
    "    L=int(L)\n",
    "\n",
    "    H=h*len(df_fdist)\n",
    "    H=int(H)\n",
    "    \n",
    "    df_fdesc = df_fdist.sort_values(by='Number of apparitions', ascending=False)\n",
    "    df_fasc = df_fdist.sort_values(by='Number of apparitions', ascending=True)\n",
    "\n",
    "    most_freq_words_list = list(df_fdesc['Word'][:H])\n",
    "    least_freq_word_list = list(df_fasc['Word'][:L])\n",
    "    stopwords = most_freq_words_list + least_freq_word_list\n",
    "    textlist_wo_extremes = list_to_text(filtered_text, stopwords)\n",
    "    #text_wo_extremes = ' '.join([word for word in filtered_text if word not in stopwords]) \n",
    "\n",
    "    return textlist_wo_extremes"
   ]
  },
  {
   "cell_type": "code",
   "execution_count": 14,
   "id": "536579e2",
   "metadata": {},
   "outputs": [
    {
     "data": {
      "text/plain": [
       "'welcome 2022 earnings conference webcast hosting today president chief executive officer chief financial officer today recorded available replay beginning 1 30 p eastern dial number 800 839 8318 pass code required participants placed listen mode pleasure turn floor jennifer meyer investor relations introductions may begin jennifer meyer joining us today 22 earnings today president ceo cfo begin prepared remarks afterwards brief answer session press release supplemental slide presentation support remarks posted web site investor relations sec filings sections com addition release slides available sec web site continue remind contain forward looking statements subject risks uncertainties carefully considered investors actual results could differ materially statements additional information regarding risks uncertainties discussed forward looking statements section press release issued yesterday press releases issued respect post proposed distribution interest posted web site urge read registration statements proxy statement prospectuses related amendments filings documents related proposed distribution post interest filed sec become available contain important information forward looking statements current date management undertakes obligation update statements reminder recorded audio replay available web site finally discuss certain non gaap measures reconciliation non gaap measures nearest gaap measure press release issued yesterday posted web site turn jennifer joining us last evening reported results posted supplemental presentation web site presentation designed provide insight business consumption ph key metrics include came slightly ahead expectations 307 adjusted 60 grew 9 prior led 41 grew 5 benefiting actions single digit lap prior promotions repeating adjusted margins healthy despite significant cost headwinds saw yesterday press release reaffirmed 22 guidance adjusted grow 9 13 slight shift major deviations cadence communicated last surprisingly inflation ramped across freight dairy proteins result announced shakes mainly benefit similar grow reflecting incremental pricings actions experience margin pressure implemented overall balance leans toward upside however seen quickly circumstances change environment confidence grown point reaffirming guidance key drivers add opportunity risk ability deliver elasticity relating upcoming actions additional inflation turning brand highlights updates expansion continue robust convenient nutrition ready drink beverages ready mix grew 17 versus ago strong consumer tailwinds around wellness healthier food solutions driving rtd beverages added 2 3 points household saw purchase size volume ready mix continue fueled increased interest proactive health fitness growing despite supply chain challenges shake consumption grew 10 across tracked untracked channels ecommerce mass leading way brand metrics remained strong demonstrating high consumer loyalty household repeat rates holding steady velocities 45 versus ago tdps started rebound increased trade inventory levels despite encouraging signs rtd shake consumption lag prior lapping significant promotional periods moving fantastic consumption u 48 across tracked untracked channels key channels contributed double digit brand velocities remained strong iso100 launched two exciting flavors dunkin cappuccino mocha latte flavors developed dunkin great start operating environment remains challenging supply chain disruptions largely around labor availability existing manufacturers impacting ability rebuild inventory fast want came slightly expectations mainly due covid driven labor shortages however encouraged improvement january expansions progressing well remain track may remember online starting comfortable ramp assumptions despite covid related challenges made significant progress identifying vetting additional partners bring 24 finally share brief update post distribution interest overall transaction remains track scheduled special meeting stockholders march 8th vote transaction post announce additional details spin weeks upon completion transaction increased strategic flexibility manage capital structure benefit liquidity shares closing tested last two years impressed employees manufacturing logistics partners customers navigated period 22 pivotal company solidified foundation business really capable future continue early innings brand perfectly positioned attract households improve consumer health along way forward updating progress throughout turn everyone 306 5 8 5 adjusted 59 8 slight decline prior margin 19 5 grew 4 5 driven average selling prices reflecting reduced promotional activity recall face constraints temporarily reduced tetra shake skus promotional marketing resulted volume declines despite decline shipment exceeded consumption resulted increased retail inventory grew 41 volumes 8 outpaced volume benefiting average selling prices reflected favorable mix strong velocities distribution gains drove volume gross profit 92 flat last decrease gross profit margin 30 1 gross margin decline results dairy cost well increased freight mitigated selling prices sg expenses 37 included 2 separation cost prior sg expenses include 4 6 restructuring facility closure cost items treated adjustments non gaap measures excluding items sg increased 1 favorable 50 basis points percentage cash flow unfavorably impacted working capital decrease payables powder inventories brought results working capital throughout rebuild rtd shake inventory levels attractive entry point repurchased 800 000 shares class common stock average 34 per share remaining share repurchase authorization 42 december 31 debt 489 leverage 2 1x repaid debt 90 using cash hand turning outlook maintaining guidance 1 36 1 41 billion adjusted 255 265 highlighted progressing slightly ahead expectations adjusted weighted inflation outpaced initial estimates additional cost headwinds shakes however executing help offset impacts benefit gross margins high single digit volume powder portfolio partially offset volume declines rtd shakes lacked promotional activity adjusted grow significantly prior benefiting pullback promotions marketing adjusted decline driven inflation ahead well modestly sg finally mentioned post distribution interest remains track approximately 400 cash distributed stockholders including post result debt amount four times adjusted details weeks closing encouraged start facing short term challenges historical inflation outlook business turn questions answer session take today andrew lazar andrew lazar everybody andrew lazar know referred 2021 sort almost two years sort compressed well course incremental shelf space gains key sort key customers benefited curious could maybe characterize looks major shelf windows incremental progress made situation play ability sort take advantage windows assuming sort similar follow sure know reduced skews tetra skews constraints able hold part 90 space basically customers facing core items skews shelf place expanding shelf space tetra skews encouraging 30 gram toward end part 30 gram shake expanding shelf space andrew lazar took initial heading least planning competitors follow conservative heading making similar assumption incremental taking elasticity assumptions round least forecasting modeling internally assuming included modest elasticity assumptions staying conservative side round tended move competitors followed fairly soon afterwards approach take assume elasticity happens marketplace place adjust assumptions andrew lazar comes pamela kaufman morgan stanley pamela kaufman pamela kaufman mentioned slightly expectations talk 22 top outlook dependent additional online quarters seems balance shifted towards given incremental taken way composition top outlook hit expectations related mostly existing manufacturers online starts around associated existing versus vast majority existing manufacturers encouraging seeing improvement january existing manufacturers really related omicron variant absences seeing absences encouraging january despite fact seeing absences labor shortages getting tells prioritized customers piece composition depends brand talking standpoint predominantly originally case upcoming incremental took announced mix mix volume anything else wanted add push bit towards talked prepared remarks gives us confidence waiting things play less disease kinds things gives us confidence pamela kaufman given supply challenges tetra packs explored options packaging know sell bottled rtds meaningfully shift mix format bottles bottles constrained really across end dramatic demand happened last bottles tetras constrained easy tetra business large idea shifting another package size feasible moving making man shifts bottle business dramatically ability satisfy increasing demand bottles easy shifting confident planned tetra standpoint later said bottles increasing pamela kaufman comes jason english goldman sachs jason english hey folks stepping jason jason english couple questions confused comments guidance probably fault distracted trying juggle many balls said similar growing seemed coexist comments sounded upbeat commented lower cost likes et cetera come revisit clarify please sure hit let hit nailed similar growing want talk comments consistent initial expectation incremental inflation proteins primarily step ahead modest sg comment jason english always seasonality comment though missed different dynamic last almost promoted heavily typically case benefit reducing promotion spend well list took october shakes april benefit pricings significantly inflation versus last particular whey low point powder product last significantly dynamics jason english lower marketing spend piece miss mention typically spend pretty heavily marketing tv advertising planning another element last jason english understood bigger picture remember around separation talked aspirations reach curtain perhaps reach 10 sort level looking brand phenomenal actually accelerated covid north 8 approaching sort upward governing limit scope perhaps envisioning years ago brand continually surprise us upside standpoint increasing faster predicted comparisons used mainstream clif ph nutrition bar space 10 11 12 use barometer use barometer know medium term jason english pass ben bienvenu stephens jim salera hey guys jim salera ben wanted ask little bit side inflation long lead fill rates service levels normal assuming omicron shakes actually normal end fill rates normal levels third fourth looking fill rates service levels continue already seeing month month small continue throughout trade inventory levels improved continue say q3 better beginning q3 looking better jim salera fact could ask guys visibility freight costs whether anticipated maybe little bit late freight third based evidence seen flattens point perspective headwind current thinking jim salera guys pass comes bill chappell truist securities bill chappell bill chappell hi goes envision elasticity looks rise prices means highly loyal base pretty high market share within drinks side people buying less general elasticity switching lower priced switching form try understand seem whole elasticity especially base assume factoring way prices today seen elasticity watching basically increased volume went however assuming continue assuming modest elasticity marketplace facts circumstances marketplace based competitors et cetera retailer reflects shelf make adjustments assumptions bill chappell cost front trying understand lack better term short term nature certainly everything labor freight man rolls commodities better six months conversely laborers stay rate thoughts terms thinking profitability forward written two pieces commodity front seeing whey even milk proteins historical highs whey pretty tight supply demand dynamic better likely early current thinking opportunity us side rates powder business 2x plus ago come element steadily besides shakes keep eye seems markets come seemed transitory piece mans relationships typically long term contracts want specifics varies customer little bit insulated labor costs stay high absorbed point passed along us totally cost somewhere 15 20 overall cost really commodities driving profitability bill chappell color chris growe stifel christopher growe christopher growe hi quick sorry missed said order magnitude size place ones shakes ahead ahead sorry tell together round slightly ones took specifically add order magnitude single digits double digits round slightly christopher growe significant something third place correct correct christopher growe curious chart slide deck around showing tdps started want sense sounds supply product little thought grow grow available keep keep continue tdps supply availability determine rebuild generally slight fill rates service levels however tdps versus ago temporary reduction skus christopher growe clear thinking promoting less presumably negatively affect tdps grow certainly effect tdps promotion anything tdps understanding number skus shelf christopher growe really affecting tdps christopher growe rob dickerson jefferies rob dickerson great quick inventory side saying sounds basically maybe started existing suppliers sounds maybe getting little bit better consumption decently volumes say gap curious terms inventory situation retailers compare reduction skus feel pretty place forward reduced skus really recharge burning little bit inventory size sku relative capacities decline given blower relative consumption demand catches jobs know rob asking say strategy sound meaning change number skus fill rate service levels continuously throughout gradually safety stock throughout asking rob dickerson want make sure reduce skus looked forecasted amount rob dickerson able continue sell skus plan shelf absolutely correct thing know looking consumption pretty high high highs promotions looking consumption factor negatives premiere lacking promotions mind looking track channel consumption week week basis rob dickerson fair enough jason quickly thinking absolute dollars say maybe similar maybe similar absolute dollar number know specifically guiding number full ebitida guide imply material improvement quite characterize way clear decline last lacking marketing decline inflation day primary piece keep mind said weighted switching rob dickerson came despite moving pieces volatility seems business tracking q4 tracking tracking slight shift tracking rob say big picture slight movement really nothing little phasing saw inflation kick although saw saw last therefore took affects inflation action cadence largely rob dickerson perfect ken zaslow bank montreal kenneth zaslow hi guys kenneth zaslow two questions walk us build 18 24 months works exactly incremental online basis basically increased every four increased mostly comes existing mans pretty stable come mans start slotting huge benefit 22 let 90 existing 22 mans start increasing become contributors real contributors bring additional mans basically add three ones 22 add two big ones facilities mfi talk sorry michael foods come later start later become contributors bigger contributors 24 kenneth zaslow say additional 5 10 15 24 hold kenneth zaslow take less 22 less 10 20 25 continue remember affect actually facilities basically 24 months talking partners late 24 kenneth zaslow online earlier household certain 10 basis points 25 online really 10 high watermark building demand demand take 10 household assuming even know limit demand limit household seems hit tipping point difficult seems odd come arbitrary 10 know thought leave totally agree completely agree way limit step along way brand general said earnings upside used even within nutrition bars mainstreamed faster forms within close 50 45 household rtd shakes 25 even lower reason shakes close nutrition bars upside immense perfectly positioned take advantage mainstream approachable brand shows appeals every needs state every consumer within 10 limit step along way kenneth zaslow great appreciate kaumil gajrawala credit suisse kaumil gajrawala hey everybody quick talk additions 24 calendar kaumil gajrawala things talk relates key ingredients inputs materials packaging created bottlenecks know past mentioned little foil wrappers things resolved areas things watch nothing problematic moment extended lead times early try prevent things happening seen impacts kaumil gajrawala great comes john baumgartner mizuho john baumgartner hey john john baumgartner maybe hi congrats ask broader evolution maybe moving beyond covid volatility normal work home role powder within seen core consumer powder change pre versus post covid rtd coexisting grow best make powder products complementary rtd business great pick talking potential rtds versus nutrition bars even lower household rtds helped mainstream started help mainstream rtds earlier stage mainstream trajectory different different forms unique occasions bars snacking rtds meal replacement although used meals meal replacement well mostly used food smoothies workouts consumed rtds nutrition bars mostly home complementary successful number powder brand unique complementary consumers course saying unique complementary occasions well john baumgartner great supply chain perspective focus understandably month month aside simply increasing volume availability opportunities underway changes supplier base f23 f24 sort place better position either format wise profit wise come recalibration channels whether home c stores consumption opportunity sort affect change composition capabilities channels longer term sort absolutely said prepared remarks 21 really pivotal really laying foundation laying table outsized future building currently standpoint instance five locations 4 ish years doubling expanding bottle bottle dramatically allow us really sell bottles tetras within convenience street et cetera start able match products different places expanding distribution capability building could take advantage future john baumgartner appreciate bryan spillane bank america bryan spillane hi current amount consumer facing spend anticipating promotions advertising marketing relative normal trying move past supply constraints marketing add forward marketing side 21 spent around 3 advertising promotion pulling around 2 forward want indiscernible drive top well seen recent past products receptive marketing drive top longer term least spend 3 level perhaps indiscernible bryan spillane order magnitude ph remember correctly separation supply chain supply constraints prior separation margin step marketing spend went order magnitude situation little bit different 18 ph stepped margin part cost come benefited well favorable cost margin structure impacted sometimes depends commodities make sure sizing least historical high prices gets harder gross margins experienced past long term things even gross margins historically 33 34 range allows us spend marketing level promotion bryan spillane questions queue conclude today program may'"
      ]
     },
     "execution_count": 14,
     "metadata": {},
     "output_type": "execute_result"
    }
   ],
   "source": [
    "remove(filtered_text,0.03,0.06)"
   ]
  },
  {
   "cell_type": "code",
   "execution_count": null,
   "id": "485f7bf4",
   "metadata": {},
   "outputs": [],
   "source": []
  },
  {
   "cell_type": "code",
   "execution_count": null,
   "id": "d1048082",
   "metadata": {},
   "outputs": [],
   "source": []
  },
  {
   "cell_type": "code",
   "execution_count": null,
   "id": "06ff1dc9",
   "metadata": {},
   "outputs": [],
   "source": []
  },
  {
   "cell_type": "code",
   "execution_count": null,
   "id": "2057ce85",
   "metadata": {},
   "outputs": [],
   "source": []
  }
 ],
 "metadata": {
  "kernelspec": {
   "display_name": "Python 3 (ipykernel)",
   "language": "python",
   "name": "python3"
  },
  "language_info": {
   "codemirror_mode": {
    "name": "ipython",
    "version": 3
   },
   "file_extension": ".py",
   "mimetype": "text/x-python",
   "name": "python",
   "nbconvert_exporter": "python",
   "pygments_lexer": "ipython3",
   "version": "3.9.7"
  }
 },
 "nbformat": 4,
 "nbformat_minor": 5
}
