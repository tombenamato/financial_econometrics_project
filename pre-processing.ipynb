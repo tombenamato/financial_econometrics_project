{
 "cells": [
  {
   "cell_type": "code",
   "execution_count": 84,
   "id": "bf2c61dc",
   "metadata": {
    "scrolled": true
   },
   "outputs": [
    {
     "name": "stderr",
     "output_type": "stream",
     "text": [
      "[nltk_data] Downloading package stopwords to\n",
      "[nltk_data]     /Users/tatianacogne/nltk_data...\n",
      "[nltk_data]   Package stopwords is already up-to-date!\n",
      "[nltk_data] Downloading package punkt to\n",
      "[nltk_data]     /Users/tatianacogne/nltk_data...\n",
      "[nltk_data]   Package punkt is already up-to-date!\n",
      "[nltk_data] Downloading package wordnet to\n",
      "[nltk_data]     /Users/tatianacogne/nltk_data...\n",
      "[nltk_data]   Package wordnet is already up-to-date!\n",
      "[nltk_data] Downloading package omw-1.4 to\n",
      "[nltk_data]     /Users/tatianacogne/nltk_data...\n",
      "[nltk_data]   Package omw-1.4 is already up-to-date!\n"
     ]
    },
    {
     "data": {
      "text/plain": [
       "True"
      ]
     },
     "execution_count": 84,
     "metadata": {},
     "output_type": "execute_result"
    }
   ],
   "source": [
    "import pandas as pd\n",
    "import numpy as np\n",
    "import re\n",
    "import collections, itertools\n",
    "import numpy as np\n",
    "import matplotlib.pyplot as plt\n",
    "import nltk\n",
    "import hdbscan\n",
    "import gensim\n",
    "\n",
    "from nltk.corpus import stopwords\n",
    "from nltk.tokenize import word_tokenize\n",
    "from nltk.stem import WordNetLemmatizer\n",
    "from nltk.util import ngrams\n",
    "from nltk.probability import FreqDist\n",
    "\n",
    "from finbert_embedding.embedding import FinbertEmbedding\n",
    "\n",
    "from sklearn.decomposition import TruncatedSVD\n",
    "from sklearn.feature_extraction.text import CountVectorizer\n",
    "from sklearn.decomposition import LatentDirichletAllocation\n",
    "from sklearn.datasets import make_multilabel_classification\n",
    "from sklearn.feature_extraction.text import TfidfVectorizer\n",
    "\n",
    "from gensim import corpora\n",
    "from gensim.corpora.dictionary import Dictionary\n",
    "\n",
    "nltk.download('stopwords')\n",
    "nltk.download('punkt')\n",
    "nltk.download('wordnet')\n",
    "nltk.download('omw-1.4')"
   ]
  },
  {
   "cell_type": "code",
   "execution_count": 85,
   "id": "936cdcb8",
   "metadata": {},
   "outputs": [],
   "source": [
    "import glob\n",
    "list_articles = glob.glob(\"data/earning_call/*\")\n",
    "texts = []\n",
    "for s in list_articles:\n",
    "    with open(s) as f:\n",
    "        texts.append(f.read())"
   ]
  },
  {
   "cell_type": "code",
   "execution_count": 86,
   "id": "5efa1a8b",
   "metadata": {},
   "outputs": [
    {
     "data": {
      "text/plain": [
       "('Number of articles', 996)"
      ]
     },
     "execution_count": 86,
     "metadata": {},
     "output_type": "execute_result"
    }
   ],
   "source": [
    "'Number of articles', len(texts)"
   ]
  },
  {
   "cell_type": "markdown",
   "id": "0f454ad1",
   "metadata": {},
   "source": [
    "## Processing"
   ]
  },
  {
   "cell_type": "code",
   "execution_count": 87,
   "id": "9d24d9eb",
   "metadata": {},
   "outputs": [],
   "source": [
    "# Function that transforms a list of strings into 1 big concatenated string and vice-versa\n",
    "def list_to_text(list_input, stops = []):\n",
    "    text_output = ' '.join([word for word in list_input if word not in stops]) \n",
    "    return text_output\n",
    "\n",
    "def text_to_list(text_input):\n",
    "    list_output = word_tokenize(text_input)\n",
    "    return list_output"
   ]
  },
  {
   "cell_type": "code",
   "execution_count": 88,
   "id": "31c343dd",
   "metadata": {},
   "outputs": [
    {
     "name": "stdout",
     "output_type": "stream",
     "text": [
      "Number of words before removing the stop words 1\n",
      "Number of words after removing the stop words 1\n"
     ]
    }
   ],
   "source": [
    "text = 'blablabla'\n",
    "# Ponctuation\n",
    "text = re.sub('[^A-Za-z0-9]+', ' ', text)\n",
    "\n",
    "# Lower all words\n",
    "text = text.lower()\n",
    "\n",
    "# Remove stopwords\n",
    "stop_words = set(stopwords.words('english'))\n",
    "word_tokens = word_tokenize(text)\n",
    "filtered_text = [w for w in word_tokens if not w.lower() in stop_words]\n",
    "\n",
    "print('Number of words before removing the stop words',len(word_tokens))\n",
    "print('Number of words after removing the stop words',len(filtered_text))"
   ]
  },
  {
   "cell_type": "code",
   "execution_count": 89,
   "id": "f363f37b",
   "metadata": {},
   "outputs": [],
   "source": [
    "# N-Gram\n",
    "def ngrams_list(n):\n",
    "    \"\"\"\n",
    "        Compute ngrams.\n",
    "        \n",
    "        Args:\n",
    "            n (int): the number of words to words to assemble in the ngram.\n",
    "        \n",
    "        Returns :\n",
    "            A list composed of the ngrams.\n",
    "    \"\"\"\n",
    "    m = []\n",
    "    nx_grams = ngrams(sequence = nltk.word_tokenize(text), n = n)\n",
    "    for gram in nx_grams:\n",
    "        m.append(gram)\n",
    "    return m"
   ]
  },
  {
   "cell_type": "code",
   "execution_count": 90,
   "id": "e9e3637d",
   "metadata": {},
   "outputs": [],
   "source": [
    "wordnet_lemmatizer = WordNetLemmatizer()"
   ]
  },
  {
   "cell_type": "code",
   "execution_count": 91,
   "id": "cce6e5ed",
   "metadata": {},
   "outputs": [],
   "source": [
    "# Remove most frequent and least frequent words\n",
    "def remove(filtered_text, a, l, h):\n",
    "    \"\"\"\n",
    "        Remove most and least frequent words.\n",
    "        Args:\n",
    "            a (list) : list on which operations should be made.\n",
    "            l (float): the proportion of top l% least frequent words to remove from the numer of different words.\n",
    "            h (float): the proportion of top h% most frequent words to remove from the numer of different words.\n",
    "    \n",
    "        Returns:\n",
    "            A copy of the input text without frequent and infrequent words.\n",
    "    \"\"\"\n",
    "    f = FreqDist(a)\n",
    "\n",
    "    df_fdist = pd.DataFrame({'Word': f.keys(), 'Number of apparitions': f.values()})\n",
    "    L= l*len(df_fdist)\n",
    "    L=int(L)\n",
    "\n",
    "    H=h*len(df_fdist)\n",
    "    H=int(H)\n",
    "    \n",
    "    df_fdesc = df_fdist.sort_values(by='Number of apparitions', ascending=False)\n",
    "    df_fasc = df_fdist.sort_values(by='Number of apparitions', ascending=True)\n",
    "\n",
    "    most_freq_words_list = list(df_fdesc['Word'][:H])\n",
    "    least_freq_word_list = list(df_fasc['Word'][:L])\n",
    "    stopwords = most_freq_words_list + least_freq_word_list\n",
    "    textlist_wo_extremes = list_to_text(filtered_text, stopwords)\n",
    "    #text_wo_extremes = ' '.join([word for word in filtered_text if word not in stopwords]) \n",
    "\n",
    "    return textlist_wo_extremes"
   ]
  },
  {
   "cell_type": "code",
   "execution_count": 178,
   "id": "536579e2",
   "metadata": {
    "scrolled": true
   },
   "outputs": [],
   "source": [
    "def processing(text):\n",
    "    \"\"\"Function that combien all the processing steps\"\"\"\n",
    "    text = re.sub('[^A-Za-z0-9]+', ' ', text)\n",
    "    text = text.lower()\n",
    "    stop_words = set(stopwords.words('english'))\n",
    "    word_tokens = word_tokenize(text)\n",
    "    filtered_text = [w for w in word_tokens if not w.lower() in stop_words]\n",
    "    x = [wordnet_lemmatizer.lemmatize(word, pos='n') for word in filtered_text]\n",
    "    return remove(filtered_text, x,0.05,0.05)"
   ]
  },
  {
   "cell_type": "code",
   "execution_count": 179,
   "id": "c9cf6e0f",
   "metadata": {},
   "outputs": [
    {
     "data": {
      "text/plain": [
       "996"
      ]
     },
     "execution_count": 179,
     "metadata": {},
     "output_type": "execute_result"
    }
   ],
   "source": [
    "len(texts)"
   ]
  },
  {
   "cell_type": "code",
   "execution_count": null,
   "id": "1d3aa5e5",
   "metadata": {},
   "outputs": [],
   "source": []
  },
  {
   "cell_type": "code",
   "execution_count": 180,
   "id": "d3a5117a",
   "metadata": {},
   "outputs": [],
   "source": [
    "#number of articles to train \n",
    "texts = [processing(x) for x in texts]"
   ]
  },
  {
   "cell_type": "code",
   "execution_count": 181,
   "id": "9c6f42b2",
   "metadata": {},
   "outputs": [
    {
     "data": {
      "text/plain": [
       "996"
      ]
     },
     "execution_count": 181,
     "metadata": {},
     "output_type": "execute_result"
    }
   ],
   "source": [
    "len(texts)"
   ]
  },
  {
   "cell_type": "markdown",
   "id": "f530cd3a",
   "metadata": {},
   "source": [
    "## FinBERT \n",
    "https://pypi.org/project/finbert-embedding/"
   ]
  },
  {
   "cell_type": "code",
   "execution_count": 115,
   "id": "a0cf6da0",
   "metadata": {},
   "outputs": [],
   "source": [
    "finbert = FinbertEmbedding()"
   ]
  },
  {
   "cell_type": "code",
   "execution_count": 116,
   "id": "ba4d83dc",
   "metadata": {},
   "outputs": [],
   "source": [
    "X_FinB = np.zeros((996,768))\n",
    "k=0\n",
    "for text in texts:\n",
    "    X_FinB[k,] = finbert.sentence_vector(text)\n",
    "    k+=1"
   ]
  },
  {
   "cell_type": "code",
   "execution_count": 117,
   "id": "ab286d3e",
   "metadata": {},
   "outputs": [
    {
     "data": {
      "text/plain": [
       "(996, 768)"
      ]
     },
     "execution_count": 117,
     "metadata": {},
     "output_type": "execute_result"
    }
   ],
   "source": [
    "X_FinB.shape"
   ]
  },
  {
   "cell_type": "markdown",
   "id": "5695ca7b",
   "metadata": {},
   "source": [
    "## TFIDF\n",
    "https://scikit-learn.org/stable/modules/generated/sklearn.feature_extraction.text.TfidfVectorizer.html"
   ]
  },
  {
   "cell_type": "code",
   "execution_count": 229,
   "id": "06ff1dc9",
   "metadata": {
    "scrolled": true
   },
   "outputs": [
    {
     "data": {
      "text/plain": [
       "(996, 39166)"
      ]
     },
     "execution_count": 229,
     "metadata": {},
     "output_type": "execute_result"
    }
   ],
   "source": [
    "corpus = texts\n",
    "vectorizer = TfidfVectorizer()\n",
    "X_tfidf = vectorizer.fit_transform(corpus)\n",
    "X_tfidf.shape"
   ]
  },
  {
   "cell_type": "code",
   "execution_count": 226,
   "id": "856bf1ef",
   "metadata": {},
   "outputs": [],
   "source": [
    "index = X_tfidf[18,].nonzero()[1]\n",
    "words_of_index = [dict_index_w[x] for x in index]\n",
    "score_of_index = [X_tfidf[18,x] for x in index]\n",
    "x = list(zip(words_of_index,score_of_index))"
   ]
  },
  {
   "cell_type": "code",
   "execution_count": 227,
   "id": "46713835",
   "metadata": {},
   "outputs": [],
   "source": [
    "x.sort(key=lambda x: -x[1])"
   ]
  },
  {
   "cell_type": "code",
   "execution_count": 228,
   "id": "e9e1cca3",
   "metadata": {},
   "outputs": [
    {
     "data": {
      "text/plain": [
       "[('brands', 0.2542383775954209),\n",
       " ('fabienne', 0.16481206701367782),\n",
       " ('stores', 0.14563550393070743),\n",
       " ('sales', 0.14525783813163445),\n",
       " ('lion', 0.13855801192504746),\n",
       " ('heijn', 0.13734338917806485),\n",
       " ('albert', 0.11642056206370555),\n",
       " ('porteous', 0.10987471134245189),\n",
       " ('mahamkali', 0.10987471134245189),\n",
       " ('sreedhar', 0.10987471134245189)]"
      ]
     },
     "execution_count": 228,
     "metadata": {},
     "output_type": "execute_result"
    }
   ],
   "source": [
    "x[:10]"
   ]
  },
  {
   "cell_type": "code",
   "execution_count": 222,
   "id": "5729e0c8",
   "metadata": {},
   "outputs": [],
   "source": [
    "dict_w_index = vectorizer.vocabulary_\n",
    "dict_index_w = {v: k for k, v in dict_w_index.items()}"
   ]
  },
  {
   "cell_type": "markdown",
   "id": "f04cb091",
   "metadata": {},
   "source": [
    "## LSA"
   ]
  },
  {
   "cell_type": "code",
   "execution_count": 232,
   "id": "92aebac7",
   "metadata": {},
   "outputs": [
    {
     "name": "stdout",
     "output_type": "stream",
     "text": [
      "0\n",
      "Document 0:  ['us', 'customers', 'sales', 'results', 'patients', 'products', 'terms', 'costs', 'markets', 'years', 'questions', 'services', 'things', 'statements', 'margins']\n",
      "1\n",
      "Document 1:  ['patients', 'trials', 'studies', 'physicians', 'cells', 'therapies', 'indications', 'medical', 'unmet', 'fda', 'efficacy', 'tumors', 'enrollment', 'drug', 'programs']\n",
      "2\n",
      "Document 2:  ['customers', 'sales', 'solutions', 'services', 'products', 'clients', 'capabilities', 'us', 'verticals', 'devices', 'systems', 'brands', 'bookings', 'users', 'wins']\n",
      "3\n",
      "Document 3:  ['clients', 'loans', 'services', 'rates', 'assets', 'deals', 'originations', 'verticals', 'us', 'investments', 'companies', 'funds', 'fees', 'solutions', 'properties']\n",
      "4\n",
      "Document 4:  ['stores', 'brands', 'us', 'consumers', 'patients', 'terms', 'sales', 'points', 'things', 'comes', 'games', 'rates', 'categories', 'markets', 'sports']\n"
     ]
    }
   ],
   "source": [
    "# Define the number of topics or components\n",
    "num_components=5\n",
    "\n",
    "# Create SVD object\n",
    "lsa = TruncatedSVD(n_components=num_components, n_iter=100, random_state=42)\n",
    "\n",
    "# Fit SVD model on data\n",
    "lsa.fit_transform(X_tfidf)\n",
    "\n",
    "# Get Singular values and Components \n",
    "Sigma = lsa.singular_values_ \n",
    "V_transpose = lsa.components_.T\n",
    "\n",
    "# Print the topics with their terms\n",
    "terms = vectorizer.get_feature_names()\n",
    "\n",
    "for doc, component in enumerate(lsa.components_):\n",
    "    print(doc)\n",
    "    zipped = zip(terms, component)\n",
    "    top_terms_key=sorted(zipped, key = lambda t: t[1], reverse=True)[:15]\n",
    "    top_terms_list=list(dict(top_terms_key).keys())\n",
    "    print(\"Document \"+str(doc)+\": \",top_terms_list)"
   ]
  },
  {
   "cell_type": "markdown",
   "id": "fb1f5b1e",
   "metadata": {},
   "source": [
    "## Randomized LSV"
   ]
  },
  {
   "cell_type": "code",
   "execution_count": 143,
   "id": "995d9b28",
   "metadata": {},
   "outputs": [],
   "source": [
    "from sklearn.utils.extmath import randomized_svd\n",
    "\n",
    "U, Sigma, VT = randomized_svd(X_tfidf, \n",
    "                              n_components=15,\n",
    "                              n_iter=5,\n",
    "                              random_state=None)"
   ]
  },
  {
   "cell_type": "code",
   "execution_count": 150,
   "id": "07b93e0f",
   "metadata": {},
   "outputs": [
    {
     "data": {
      "text/plain": [
       "array([[ 2.85265917e-02, -1.53419779e-02, -2.13226599e-02,\n",
       "        -1.14035037e-02, -5.77158790e-02, -1.70475826e-02,\n",
       "         6.52738004e-02,  1.18647717e-02,  2.34658036e-02,\n",
       "        -9.37292965e-03, -2.37268857e-02,  2.20321143e-02,\n",
       "        -2.89363115e-02, -5.46746350e-02,  5.89504241e-02],\n",
       "       [ 3.36316454e-02, -7.35960402e-03,  2.77837717e-02,\n",
       "         4.24029257e-02, -2.91007812e-05, -7.35530136e-03,\n",
       "        -1.86924254e-02, -2.62630296e-02,  1.27210643e-02,\n",
       "         2.39029607e-02,  2.54943139e-02, -1.96866559e-02,\n",
       "         1.21275118e-02,  2.59941349e-02, -1.70022172e-02]])"
      ]
     },
     "execution_count": 150,
     "metadata": {},
     "output_type": "execute_result"
    }
   ],
   "source": [
    "U[0:2,]"
   ]
  },
  {
   "cell_type": "markdown",
   "id": "1cc50ded",
   "metadata": {},
   "source": [
    "### Dimensionality reduction and clustering before topic extraction"
   ]
  },
  {
   "cell_type": "code",
   "execution_count": 118,
   "id": "a0fb3bc9",
   "metadata": {},
   "outputs": [],
   "source": [
    "embeddings = X_FinB"
   ]
  },
  {
   "cell_type": "code",
   "execution_count": 103,
   "id": "0880712b",
   "metadata": {},
   "outputs": [],
   "source": [
    "import umap.umap_ as umap"
   ]
  },
  {
   "cell_type": "code",
   "execution_count": null,
   "id": "1b17eb63",
   "metadata": {},
   "outputs": [],
   "source": [
    "reducer = umap.UMAP()"
   ]
  },
  {
   "cell_type": "code",
   "execution_count": 130,
   "id": "e2066358",
   "metadata": {},
   "outputs": [],
   "source": [
    "umap_embeddings = umap.UMAP(n_components= 15, n_neighbors=15, metric='cosine').fit_transform(embeddings)\n",
    "cluster = hdbscan.HDBSCAN(min_cluster_size=5,\n",
    "                          metric='euclidean',                      \n",
    "                          cluster_selection_method='eom').fit(umap_embeddings)"
   ]
  },
  {
   "cell_type": "code",
   "execution_count": 131,
   "id": "f1a6d503",
   "metadata": {},
   "outputs": [
    {
     "data": {
      "text/plain": [
       "('Number of clusters/topics ', 30)"
      ]
     },
     "execution_count": 131,
     "metadata": {},
     "output_type": "execute_result"
    }
   ],
   "source": [
    "'Number of clusters/topics ', len(set(cluster.labels_))"
   ]
  },
  {
   "cell_type": "code",
   "execution_count": 132,
   "id": "3c06f9ca",
   "metadata": {},
   "outputs": [
    {
     "data": {
      "text/plain": [
       "<matplotlib.colorbar.Colorbar at 0x7f83e0e64eb0>"
      ]
     },
     "execution_count": 132,
     "metadata": {},
     "output_type": "execute_result"
    },
    {
     "data": {
      "image/png": "[encoded data removed]",
      "text/plain": [
       "<Figure size 1440x720 with 2 Axes>"
      ]
     },
     "metadata": {
      "needs_background": "light"
     },
     "output_type": "display_data"
    }
   ],
   "source": [
    "# Prepare data\n",
    "umap_data = umap.UMAP(n_components=2, min_dist=0.0, metric='cosine').fit_transform(embeddings)\n",
    "result = pd.DataFrame(umap_data, columns=['x', 'y'])\n",
    "result['labels'] = cluster.labels_\n",
    "\n",
    "# Visualize clusters\n",
    "fig, ax = plt.subplots(figsize=(20, 10))\n",
    "outliers = result.loc[result.labels == -1, :]\n",
    "clustered = result.loc[result.labels != -1, :]\n",
    "plt.scatter(outliers.x, outliers.y, color='#BDBDBD', s=0.5)\n",
    "plt.scatter(clustered.x, clustered.y, c=clustered.labels, s=3, cmap='hsv_r')\n",
    "plt.colorbar()"
   ]
  },
  {
   "cell_type": "code",
   "execution_count": 133,
   "id": "0fb1f3a5",
   "metadata": {},
   "outputs": [
    {
     "data": {
      "text/plain": [
       "996"
      ]
     },
     "execution_count": 133,
     "metadata": {},
     "output_type": "execute_result"
    }
   ],
   "source": [
    "len(texts)"
   ]
  },
  {
   "cell_type": "code",
   "execution_count": 134,
   "id": "cb9a9bf6",
   "metadata": {},
   "outputs": [],
   "source": [
    "docs_df = pd.DataFrame(texts, columns=[\"Doc\"])\n",
    "docs_df['Topic'] = cluster.labels_\n",
    "docs_df['Doc_ID'] = range(len(docs_df))\n",
    "docs_per_topic = docs_df.groupby(['Topic'], as_index = False).agg({'Doc': ' '.join})"
   ]
  },
  {
   "cell_type": "code",
   "execution_count": 135,
   "id": "1b81ab84",
   "metadata": {},
   "outputs": [],
   "source": [
    "def c_tf_idf(documents, m, ngram_range=(1, 1)):\n",
    "    count = CountVectorizer(ngram_range=ngram_range, stop_words=\"english\").fit(documents)\n",
    "    t = count.transform(documents).toarray()\n",
    "    w = t.sum(axis=1)\n",
    "    tf = np.divide(t.T, w)\n",
    "    sum_t = t.sum(axis=0)\n",
    "    idf = np.log(np.divide(m, sum_t)).reshape(-1, 1)\n",
    "    tf_idf = np.multiply(tf, idf)\n",
    "\n",
    "    return tf_idf, count\n",
    "  \n",
    "tf_idf, count = c_tf_idf(docs_per_topic.Doc.values, m=len(texts[:n]))"
   ]
  },
  {
   "cell_type": "code",
   "execution_count": 136,
   "id": "b2249616",
   "metadata": {},
   "outputs": [
    {
     "data": {
      "text/plain": [
       "(40791, 30)"
      ]
     },
     "execution_count": 136,
     "metadata": {},
     "output_type": "execute_result"
    }
   ],
   "source": [
    "tf_idf.shape"
   ]
  },
  {
   "cell_type": "code",
   "execution_count": 137,
   "id": "b0bb1b47",
   "metadata": {},
   "outputs": [],
   "source": [
    "def extract_top_n_words_per_topic(tf_idf, count, docs_per_topic, n=20):\n",
    "    words = count.get_feature_names()\n",
    "    labels = list(docs_per_topic.Topic)\n",
    "    tf_idf_transposed = tf_idf.T\n",
    "    indices = tf_idf_transposed.argsort()[:, -n:]\n",
    "    top_n_words = {label: [(words[j], tf_idf_transposed[i][j]) for j in indices[i]][::-1] for i, label in enumerate(labels)}\n",
    "    return top_n_words"
   ]
  },
  {
   "cell_type": "code",
   "execution_count": 138,
   "id": "d538e9c7",
   "metadata": {},
   "outputs": [],
   "source": [
    "def extract_topic_sizes(df):\n",
    "    topic_sizes = (df.groupby(['Topic'])\n",
    "                     .Doc\n",
    "                     .count()\n",
    "                     .reset_index()\n",
    "                     .rename({\"Topic\": \"Topic\", \"Doc\": \"Size\"}, axis='columns')\n",
    "                     .sort_values(\"Size\", ascending=False))\n",
    "    return topic_sizes"
   ]
  },
  {
   "cell_type": "code",
   "execution_count": 139,
   "id": "40a424e8",
   "metadata": {},
   "outputs": [
    {
     "data": {
      "text/html": [
       "<div>\n",
       "<style scoped>\n",
       "    .dataframe tbody tr th:only-of-type {\n",
       "        vertical-align: middle;\n",
       "    }\n",
       "\n",
       "    .dataframe tbody tr th {\n",
       "        vertical-align: top;\n",
       "    }\n",
       "\n",
       "    .dataframe thead th {\n",
       "        text-align: right;\n",
       "    }\n",
       "</style>\n",
       "<table border=\"1\" class=\"dataframe\">\n",
       "  <thead>\n",
       "    <tr style=\"text-align: right;\">\n",
       "      <th></th>\n",
       "      <th>Topic</th>\n",
       "      <th>Size</th>\n",
       "    </tr>\n",
       "  </thead>\n",
       "  <tbody>\n",
       "    <tr>\n",
       "      <th>0</th>\n",
       "      <td>-1</td>\n",
       "      <td>446</td>\n",
       "    </tr>\n",
       "    <tr>\n",
       "      <th>9</th>\n",
       "      <td>8</td>\n",
       "      <td>162</td>\n",
       "    </tr>\n",
       "    <tr>\n",
       "      <th>26</th>\n",
       "      <td>25</td>\n",
       "      <td>63</td>\n",
       "    </tr>\n",
       "    <tr>\n",
       "      <th>28</th>\n",
       "      <td>27</td>\n",
       "      <td>60</td>\n",
       "    </tr>\n",
       "    <tr>\n",
       "      <th>24</th>\n",
       "      <td>23</td>\n",
       "      <td>21</td>\n",
       "    </tr>\n",
       "    <tr>\n",
       "      <th>14</th>\n",
       "      <td>13</td>\n",
       "      <td>21</td>\n",
       "    </tr>\n",
       "    <tr>\n",
       "      <th>23</th>\n",
       "      <td>22</td>\n",
       "      <td>20</td>\n",
       "    </tr>\n",
       "    <tr>\n",
       "      <th>15</th>\n",
       "      <td>14</td>\n",
       "      <td>19</td>\n",
       "    </tr>\n",
       "    <tr>\n",
       "      <th>11</th>\n",
       "      <td>10</td>\n",
       "      <td>14</td>\n",
       "    </tr>\n",
       "    <tr>\n",
       "      <th>10</th>\n",
       "      <td>9</td>\n",
       "      <td>13</td>\n",
       "    </tr>\n",
       "  </tbody>\n",
       "</table>\n",
       "</div>"
      ],
      "text/plain": [
       "    Topic  Size\n",
       "0      -1   446\n",
       "9       8   162\n",
       "26     25    63\n",
       "28     27    60\n",
       "24     23    21\n",
       "14     13    21\n",
       "23     22    20\n",
       "15     14    19\n",
       "11     10    14\n",
       "10      9    13"
      ]
     },
     "execution_count": 139,
     "metadata": {},
     "output_type": "execute_result"
    }
   ],
   "source": [
    "top_n_words = extract_top_n_words_per_topic(tf_idf, count, docs_per_topic, n=20)\n",
    "topic_sizes = extract_topic_sizes(docs_df); topic_sizes.head(10)"
   ]
  },
  {
   "cell_type": "code",
   "execution_count": 140,
   "id": "bf41bf07",
   "metadata": {},
   "outputs": [
    {
     "name": "stdout",
     "output_type": "stream",
     "text": [
      "\n",
      "Topic -  1\n",
      "liver\n",
      "transplantation\n",
      "ascending\n",
      "nochomovitz\n",
      "ramakanth\n",
      "lymphomas\n",
      "corinne\n",
      "cytokines\n",
      "pes\n",
      "adjuvant\n",
      "\n",
      "Topic -  2\n",
      "christoph\n",
      "franck\n",
      "guillaume\n",
      "bombshells\n",
      "tootsie\n",
      "ebel\n",
      "grosse\n",
      "anvesh\n",
      "headsets\n",
      "jochen\n",
      "\n",
      "Topic -  3\n",
      "kuehne\n",
      "doughnuts\n",
      "suh\n",
      "chapek\n",
      "gulati\n",
      "kannor\n",
      "tienne\n",
      "blosil\n",
      "bragg\n",
      "lemar\n",
      "\n",
      "Topic -  4\n",
      "mcdade\n",
      "sparc\n",
      "urbaszek\n",
      "alpart\n",
      "schenker\n",
      "jimmy\n",
      "nancy\n",
      "ccap\n",
      "whitehorse\n",
      "lae\n",
      "\n",
      "Topic -  5\n",
      "stalls\n",
      "triples\n",
      "doosan\n",
      "oakes\n",
      "boralex\n",
      "mcdonough\n",
      "kingsley\n",
      "enduro\n",
      "fratt\n",
      "yanan\n",
      "\n",
      "Topic -  6\n",
      "bogs\n",
      "seymour\n",
      "griffith\n",
      "freshers\n",
      "sgb\n",
      "kenta\n",
      "deysher\n",
      "silvertowne\n",
      "cybermetals\n",
      "privates\n",
      "\n",
      "Topic -  7\n",
      "stonepine\n",
      "marketwise\n",
      "colucci\n",
      "lemay\n",
      "perma\n",
      "tbi\n",
      "dflaw\n",
      "blasutti\n",
      "brous\n",
      "slager\n",
      "\n",
      "Topic -  8\n",
      "workweek\n",
      "sunstone\n",
      "amintore\n",
      "cavanah\n",
      "snowfall\n",
      "aviara\n",
      "treehouse\n",
      "broadline\n",
      "brigham\n",
      "rangers\n",
      "\n",
      "Topic -  9\n",
      "lonegro\n",
      "railcars\n",
      "ramos\n",
      "gliha\n",
      "vapotherm\n",
      "growgeneration\n",
      "shingle\n",
      "hvt\n",
      "eugene\n",
      "chaiken\n",
      "\n",
      "Topic -  10\n",
      "narula\n",
      "altheadx\n",
      "byte\n",
      "esophagus\n",
      "claude\n",
      "biosimilars\n",
      "barrett\n",
      "stokes\n",
      "perdoceo\n",
      "kascada\n",
      "\n",
      "Topic -  11\n",
      "iheart\n",
      "yandy\n",
      "bressler\n",
      "plby\n",
      "pittman\n",
      "univision\n",
      "kupinski\n",
      "andreev\n",
      "kohn\n",
      "schmaeling\n",
      "\n",
      "Topic -  12\n",
      "weddell\n",
      "accublue\n",
      "tanaka\n",
      "biossance\n",
      "lasalle\n",
      "menolabs\n",
      "benmoussa\n",
      "blackley\n",
      "kirban\n",
      "han\n",
      "\n",
      "Topic -  13\n",
      "dos\n",
      "calix\n",
      "pantelick\n",
      "stacie\n",
      "ecs\n",
      "mattingly\n",
      "singhal\n",
      "omnis\n",
      "armus\n",
      "cupito\n",
      "\n",
      "Topic -  14\n",
      "swm\n",
      "bento\n",
      "vishal\n",
      "trenary\n",
      "artur\n",
      "shreedhar\n",
      "neenah\n",
      "taski\n",
      "kramer\n",
      "itasa\n",
      "\n",
      "Topic -  15\n",
      "ars\n",
      "autocanada\n",
      "marcos\n",
      "greens\n",
      "duane\n",
      "tidewater\n",
      "ando\n",
      "kneen\n",
      "ivo\n",
      "softbank\n",
      "\n",
      "Topic -  16\n",
      "gagliano\n",
      "grimaldi\n",
      "vogensen\n",
      "asar\n",
      "schalka\n",
      "fabio\n",
      "epmp\n",
      "aires\n",
      "cnwave\n",
      "kiraly\n",
      "\n",
      "Topic -  17\n",
      "pauls\n",
      "mcelhinney\n",
      "lenis\n",
      "rojas\n",
      "catherwood\n",
      "cedarbrae\n",
      "wes\n",
      "hudson\n",
      "weilminster\n",
      "dir\n",
      "\n",
      "Topic -  18\n",
      "radios\n",
      "mram\n",
      "marken\n",
      "codispoti\n",
      "abatto\n",
      "winc\n",
      "geodynamics\n",
      "screwdriver\n",
      "infectopharm\n",
      "norit\n",
      "\n",
      "Topic -  19\n",
      "hollub\n",
      "freesheet\n",
      "summers\n",
      "bair\n",
      "delhi\n",
      "luft\n",
      "tinto\n",
      "tolgoi\n",
      "oyu\n",
      "catellier\n",
      "\n",
      "Topic -  20\n",
      "durgesh\n",
      "titling\n",
      "reeder\n",
      "bokhari\n",
      "uid\n",
      "krakowiak\n",
      "insoo\n",
      "commissioners\n",
      "connors\n",
      "willistown\n",
      "\n",
      "Topic -  21\n",
      "reonomy\n",
      "zekhout\n",
      "bartolini\n",
      "woosnam\n",
      "ambury\n",
      "nomad\n",
      "bartosiewicz\n",
      "harvison\n",
      "fortenova\n",
      "itamlink\n",
      "\n",
      "Topic -  22\n",
      "dosanjh\n",
      "ruffini\n",
      "lindeman\n",
      "kush\n",
      "fernando\n",
      "pink\n",
      "sisecam\n",
      "krp\n",
      "mckay\n",
      "pope\n",
      "\n",
      "Topic -  23\n",
      "pickleball\n",
      "lapointe\n",
      "technisys\n",
      "gainshare\n",
      "voicebase\n",
      "decking\n",
      "dues\n",
      "waxing\n",
      "memberships\n",
      "bergmann\n",
      "\n",
      "Topic -  24\n",
      "rbs\n",
      "gulani\n",
      "adelphia\n",
      "lapides\n",
      "param\n",
      "dyer\n",
      "kandell\n",
      "kinley\n",
      "paz\n",
      "pjm\n",
      "\n",
      "Topic -  25\n",
      "jukes\n",
      "teunissen\n",
      "journie\n",
      "burnaby\n",
      "rosmarinic\n",
      "pcm\n",
      "orazietti\n",
      "pvdf\n",
      "catalytic\n",
      "jodi\n",
      "\n",
      "Topic -  26\n",
      "caregiver\n",
      "pito\n",
      "greenleaf\n",
      "konezny\n",
      "loch\n",
      "hickman\n",
      "tps\n",
      "dergurahian\n",
      "ellich\n",
      "kitamura\n",
      "\n",
      "Topic -  27\n",
      "pfg\n",
      "rati\n",
      "seekers\n",
      "sobers\n",
      "boruchow\n",
      "levesque\n",
      "realreal\n",
      "andreeva\n",
      "ike\n",
      "reinhart\n",
      "\n",
      "Topic -  28\n",
      "orcel\n",
      "porro\n",
      "kirshenbaum\n",
      "ostrover\n",
      "lipschultz\n",
      "ortf\n",
      "gaea\n",
      "ajax\n",
      "npls\n",
      "filip\n",
      "\n",
      "Topic -  29\n",
      "iip\n",
      "medmen\n",
      "gras\n",
      "travismathew\n",
      "brl1\n",
      "damien\n",
      "hiper\n",
      "bem\n",
      "callaway\n",
      "hypermarkets\n"
     ]
    }
   ],
   "source": [
    "k=0\n",
    "for t in topic_sizes.Topic.values:\n",
    "    if(t!=-1):\n",
    "        top_n_words[t].sort(key=lambda x:- x[1])\n",
    "        k +=1\n",
    "        print('')\n",
    "        print('Topic - ',k)\n",
    "        for i in range(10):\n",
    "            print(top_n_words[t][i][0])"
   ]
  },
  {
   "cell_type": "markdown",
   "id": "706245ae",
   "metadata": {},
   "source": [
    "## Linear Discriminant Analysis (LDA)\n",
    "--> supervised learning !"
   ]
  },
  {
   "cell_type": "markdown",
   "id": "2f05797e",
   "metadata": {},
   "source": [
    "## Latent Dirichlet Allocation (LDA)\n",
    "#to do how data cleanned / words removeds"
   ]
  },
  {
   "cell_type": "code",
   "execution_count": null,
   "id": "a9366762",
   "metadata": {
    "scrolled": true
   },
   "outputs": [],
   "source": [
    "!pip install gensim"
   ]
  },
  {
   "cell_type": "code",
   "execution_count": null,
   "id": "b466451e",
   "metadata": {
    "scrolled": true
   },
   "outputs": [],
   "source": [
    "final_doc = [document.split() for document in corpus]"
   ]
  },
  {
   "cell_type": "code",
   "execution_count": null,
   "id": "a98d14f7",
   "metadata": {
    "scrolled": true
   },
   "outputs": [],
   "source": [
    "dictionary = corpora.Dictionary(final_doc)\n",
    "DT_matrix = [dictionary.doc2bow(doc) for doc in final_doc]\n",
    "Lda_object = gensim.models.ldamodel.LdaModel"
   ]
  },
  {
   "cell_type": "code",
   "execution_count": null,
   "id": "457d07e6",
   "metadata": {
    "scrolled": true
   },
   "outputs": [],
   "source": [
    "lda_model_1 = Lda_object(DT_matrix, num_topics=2, id2word = dictionary)\n",
    "print(lda_model_1.show_topics(num_words=10))"
   ]
  },
  {
   "cell_type": "markdown",
   "id": "0130e33d",
   "metadata": {},
   "source": [
    "## BERT - Test 1"
   ]
  },
  {
   "cell_type": "code",
   "execution_count": null,
   "id": "48bda549",
   "metadata": {},
   "outputs": [],
   "source": [
    "from sentence_transformers import SentenceTransformer\n",
    "model = SentenceTransformer('distilbert-base-nli-mean-tokens')\n",
    "\n",
    "embeddings = model.encode(texts[:10], show_progress_bar=True)\n",
    "\n",
    "embeddings,shape"
   ]
  }
 ],
 "metadata": {
  "kernelspec": {
   "display_name": "Python 3 (ipykernel)",
   "language": "python",
   "name": "python3"
  },
  "language_info": {
   "codemirror_mode": {
    "name": "ipython",
    "version": 3
   },
   "file_extension": ".py",
   "mimetype": "text/x-python",
   "name": "python",
   "nbconvert_exporter": "python",
   "pygments_lexer": "ipython3",
   "version": "3.9.7"
  }
 },
 "nbformat": 4,
 "nbformat_minor": 5
}
