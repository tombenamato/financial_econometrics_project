{
 "cells": [
  {
   "cell_type": "code",
   "execution_count": 1,
   "id": "60050127",
   "metadata": {},
   "outputs": [],
   "source": [
    "from bs4 import BeautifulSoup\n",
    "import requests"
   ]
  },
  {
   "cell_type": "code",
   "execution_count": 2,
   "id": "36858d11",
   "metadata": {},
   "outputs": [],
   "source": [
    "url = \"https://seekingalpha.com/article/4484494-bellring-brands-inc-brbr-ceo-darcy-davenport-on-q1-2022-results-earnings-call-transcript\"\n",
    "page = requests.get(url)\n",
    "soup = BeautifulSoup(page.text)\n"
   ]
  },
  {
   "cell_type": "code",
   "execution_count": 3,
   "id": "de5e309d",
   "metadata": {},
   "outputs": [],
   "source": [
    "def found_content_container(tag):\n",
    "    if not tag.has_attr(\"data-test-id\") :\n",
    "        return False\n",
    "    return tag[\"data-test-id\"] == \"content-container\""
   ]
  },
  {
   "cell_type": "code",
   "execution_count": 4,
   "id": "56e63ca6",
   "metadata": {},
   "outputs": [],
   "source": [
    "content_container = soup.find_all(found_content_container)\n",
    "if len(content_container) !=1:\n",
    "    raise ValueError(\"Could not found content container\")\n",
    "content_container = content_container[0]"
   ]
  },
  {
   "cell_type": "code",
   "execution_count": null,
   "id": "fe4777f2",
   "metadata": {},
   "outputs": [],
   "source": []
  },
  {
   "cell_type": "code",
   "execution_count": 5,
   "id": "92160bfa",
   "metadata": {},
   "outputs": [],
   "source": [
    "## work with recent but not old"
   ]
  },
  {
   "cell_type": "code",
   "execution_count": 6,
   "id": "b1d8150f",
   "metadata": {},
   "outputs": [],
   "source": [
    "content_container = soup.find_all(found_content_container)"
   ]
  },
  {
   "cell_type": "code",
   "execution_count": 7,
   "id": "cd3dca3d",
   "metadata": {},
   "outputs": [
    {
     "ename": "NameError",
     "evalue": "name 'content_container_child' is not defined",
     "output_type": "error",
     "traceback": [
      "\u001b[0;31m---------------------------------------------------------------------------\u001b[0m",
      "\u001b[0;31mNameError\u001b[0m                                 Traceback (most recent call last)",
      "\u001b[0;32m/tmp/ipykernel_31838/3529836193.py\u001b[0m in \u001b[0;36m<module>\u001b[0;34m\u001b[0m\n\u001b[1;32m      6\u001b[0m \u001b[0;34m\u001b[0m\u001b[0m\n\u001b[1;32m      7\u001b[0m \u001b[0;32mwhile\u001b[0m \u001b[0;32mnot\u001b[0m \u001b[0mfound\u001b[0m\u001b[0;34m:\u001b[0m\u001b[0;34m\u001b[0m\u001b[0;34m\u001b[0m\u001b[0m\n\u001b[0;32m----> 8\u001b[0;31m     \u001b[0;32mif\u001b[0m \u001b[0;34m\"Operator\"\u001b[0m \u001b[0;32min\u001b[0m \u001b[0mcontent_container_child\u001b[0m\u001b[0;34m[\u001b[0m\u001b[0mindex_start\u001b[0m\u001b[0;34m]\u001b[0m\u001b[0;34m.\u001b[0m\u001b[0mget_text\u001b[0m\u001b[0;34m(\u001b[0m\u001b[0;34m)\u001b[0m \u001b[0;34m:\u001b[0m\u001b[0;34m\u001b[0m\u001b[0;34m\u001b[0m\u001b[0m\n\u001b[0m\u001b[1;32m      9\u001b[0m         \u001b[0mfound\u001b[0m \u001b[0;34m=\u001b[0m \u001b[0;32mTrue\u001b[0m\u001b[0;34m\u001b[0m\u001b[0;34m\u001b[0m\u001b[0m\n\u001b[1;32m     10\u001b[0m     \u001b[0mindex_start\u001b[0m\u001b[0;34m+=\u001b[0m\u001b[0;36m1\u001b[0m\u001b[0;34m\u001b[0m\u001b[0;34m\u001b[0m\u001b[0m\n",
      "\u001b[0;31mNameError\u001b[0m: name 'content_container_child' is not defined"
     ]
    }
   ],
   "source": [
    "# found first tag in tag content containing text that is operator\n",
    "# hence the start of the transcript\n",
    "\n",
    "index_start=0\n",
    "found = False\n",
    "\n",
    "while not found:\n",
    "    if \"Operator\" in content_container_child[index_start].get_text() :\n",
    "        found = True\n",
    "    index_start+=1\n",
    "    if index_start == len(content_container_child) : \n",
    "        raise ValueError(\"Parser error: start of transcipt not found\")\n",
    "index_start -=1"
   ]
  },
  {
   "cell_type": "code",
   "execution_count": null,
   "id": "314b8cb0",
   "metadata": {},
   "outputs": [],
   "source": [
    "\n",
    "earning_call_transcipt = content_container_child[index_start:]"
   ]
  },
  {
   "cell_type": "code",
   "execution_count": null,
   "id": "e6c2dbd7",
   "metadata": {},
   "outputs": [],
   "source": [
    "# sanity check\n",
    "total_string =\"\"\n",
    "for tag in earning_call_transcipt:\n",
    "    total_string += tag.get_text() + \"\\n\"\n",
    "print(total_string)"
   ]
  },
  {
   "cell_type": "code",
   "execution_count": null,
   "id": "5e0d0f66",
   "metadata": {},
   "outputs": [],
   "source": []
  }
 ],
 "metadata": {
  "kernelspec": {
   "display_name": "Python 3 (ipykernel)",
   "language": "python",
   "name": "python3"
  },
  "language_info": {
   "codemirror_mode": {
    "name": "ipython",
    "version": 3
   },
   "file_extension": ".py",
   "mimetype": "text/x-python",
   "name": "python",
   "nbconvert_exporter": "python",
   "pygments_lexer": "ipython3",
   "version": "3.7.11"
  }
 },
 "nbformat": 4,
 "nbformat_minor": 5
}
