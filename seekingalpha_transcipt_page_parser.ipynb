{
 "cells": [
  {
   "cell_type": "code",
   "execution_count": 1,
   "id": "60050127",
   "metadata": {},
   "outputs": [],
   "source": [
    "from bs4 import BeautifulSoup, Tag\n",
    "import requests\n",
    "import os.path"
   ]
  },
  {
   "cell_type": "code",
   "execution_count": 2,
   "id": "d543d6f1",
   "metadata": {},
   "outputs": [],
   "source": [
    "def found_content_container(tag):\n",
    "    if not tag.has_attr(\"data-test-id\") :\n",
    "        return False\n",
    "    return tag[\"data-test-id\"] == \"content-container\""
   ]
  },
  {
   "cell_type": "code",
   "execution_count": 3,
   "id": "0f643ee0",
   "metadata": {},
   "outputs": [],
   "source": [
    "def get_start_index(content_container_child):\n",
    "    start_index = 0\n",
    "    found = False\n",
    "    while not found:\n",
    "        if isinstance(content_container_child[start_index], Tag):\n",
    "            if content_container_child[start_index].attrs.get('id', \"\") == \"question-answer-session\":\n",
    "                found = True\n",
    "        start_index+=1\n",
    "        if start_index == len(content_container_child) : \n",
    "            return -1\n",
    "    start_index -=1\n",
    "    return start_index"
   ]
  },
  {
   "cell_type": "code",
   "execution_count": 4,
   "id": "5051b31a",
   "metadata": {},
   "outputs": [
    {
     "name": "stdout",
     "output_type": "stream",
     "text": [
      "['PEG', 'NUE', 'LUV', 'TAP', 'MDLZ', 'LUMN', 'WBD', 'IPGP', 'MAR', 'ODFL', 'VRSK', 'PPG', 'JCI', 'WY', 'PM', 'SNA', 'LMT', 'OTIS', 'RF', 'LRCX', 'TDG', 'L', 'WAT', 'MMM', 'MAS', 'PNW', 'NDSN', 'TPR', 'MMC', 'SEE', 'UAA', 'PYPL', 'NEE', 'NCLH', 'MPC', 'OGN', 'TWTR', 'UNH', 'SPGI', 'LW', 'LIN', 'ZTS', 'TRV', 'MRK', 'PTC', 'MCK', 'UA', 'PPL', 'SWK', 'ROP', 'PENN', 'WRK', 'MNST', 'RJF', 'KMB', 'NOW', 'WAB', 'RCL', 'PLD', 'VZ', 'MPWR', 'NDAQ', 'PHM', 'ORLY', 'PFG', 'PRU', 'PAYX', 'TSCO', 'LYB', 'MSCI', 'ZBRA', 'KR', 'MOS', 'MSFT', 'PSX', 'UDR', 'SIVB', 'MRNA', 'UAL', 'UPS', 'VMC', 'SNPS', 'JKHY', 'NVR', 'CRM', 'MKTX', 'PVH', 'WM', 'MKC', 'TXN', 'WFC', 'JNPR', 'SBUX', 'MRO', 'UNP', 'MCD', 'STE', 'LKQ', 'PNR', 'MOH', 'PG', 'SYF', 'VTR', 'SYK', 'MDT', 'PNC', 'KMI', 'SLB', 'SBNY', 'PXD', 'TJX', 'STT', 'PKI', 'PARA', 'MTD', 'ROK', 'WELL', 'TMO', 'NI', 'NLOK', 'DGX', 'TGT', 'NWSA', 'NWL', 'MCO', 'KLAC', 'PH', 'TSLA', 'TTWO', 'LNC', 'WEC', 'SBAC', 'UHS', 'LH', 'WMT', 'QCOM', 'AAPL', 'SRE', 'OKE', 'TDY', 'ISRG', 'MCHP', 'INTU', 'WBA', 'LLY', 'TRMB', 'SWKS', 'LOW', 'K', 'LYV', 'O', 'LDOS', 'NOC', 'OMC', 'MET', 'WTW', 'MGM', 'MTB', 'IQV', 'LVS', 'MU', 'TMUS', 'MHK', 'PGR', 'ZION', 'MA', 'SYY', 'WYNN', 'NKE', 'URI', 'OXY', 'IRM', 'KEY', 'VRSN', 'NVDA', 'WDC', 'VNO', 'VTRS', 'id_to_date_Ellie', 'ROST', 'FB', 'RTX', 'TROW', 'PAYC', 'WST', 'NFLX', 'NWS', 'RMD', 'NSC', 'KEYS', 'MSI', 'WHR', 'PWR', 'SHW', 'ORCL', 'PFE', 'TFC', 'TEL', 'XEL', 'STX', '.ipynb_checkpoints', 'MAA', 'VLO', 'IVZ', 'IFF', 'NXPI', 'PEP', 'MTCH', 'PSA', 'XYL', 'TXT', 'QRVO', 'TSN', 'NTAP', 'SPG', 'TFX', 'JBHT', 'J', 'RHI', 'YUM', 'ROL', 'MS', 'KHC', 'NLSN', 'JNJ', 'MLM', 'VRTX', 'TT', 'RL', 'SEDG', 'ULTA', 'PKG', 'NEM', 'SJM', 'POOL', 'NRG', 'LEN', 'SO', 'KIM', 'REG', 'NTRS', 'IPG', 'WMB', 'V', 'ZBH', 'RSG', 'LHX', 'VFC', 'JPM', 'USB', 'TYL', 'REGN', 'PCAR', 'TER']\n"
     ]
    }
   ],
   "source": [
    "# Import html tickers from data/ticker\n",
    "dir_path = \"data/ticker/\"\n",
    "list_tickers = os.listdir(dir_path)\n",
    "#list_tickers.remove('.DS_Store') # for mac\n",
    "list_tickers.remove('id_to_date')\n",
    "print(list_tickers)"
   ]
  },
  {
   "cell_type": "code",
   "execution_count": 5,
   "id": "36858d11",
   "metadata": {},
   "outputs": [
    {
     "name": "stdout",
     "output_type": "stream",
     "text": [
      "We didn't find 1 content container out of 49\n",
      "We didn't find 9 earning call start\n"
     ]
    }
   ],
   "source": [
    "for ticker in list_tickers:\n",
    "#ticker = \"AAPL\"\n",
    "    article_path = \"data/ticker/\"+ticker+\"/\"\n",
    "    earning_call_path = \"data/text/\"+ticker\n",
    "    earning_with_content_container_not_found = []\n",
    "    earning_with_start_not_found = []\n",
    "    for name in os.listdir(article_path):\n",
    "        with open(article_path + name, \"r\") as file:\n",
    "            html_content = file.read()\n",
    "            soup  = BeautifulSoup(html_content)\n",
    "            content_container = soup.find_all(found_content_container)\n",
    "            if len(content_container) !=1:\n",
    "                earning_with_content_container_not_found.append(name)\n",
    "            else:\n",
    "                content_container = content_container[0]\n",
    "                content_container_child = [ child for child in content_container.children]\n",
    "                start_index = get_start_index(content_container_child)\n",
    "                if start_index == -1:\n",
    "                    earning_with_start_not_found.append(name)\n",
    "                else: \n",
    "                    earning_call_trasncript = \"\"\n",
    "                    for tag in content_container_child[start_index:]:\n",
    "                        earning_call_trasncript += tag.get_text()+\"\\n\"\n",
    "                    if not os.path.exists(earning_call_path):\n",
    "                        os.makedirs(earning_call_path)\n",
    "                        print(\"The new directory is created!\")\n",
    "                    if not os.path.isfile(earning_call_path+\"/\"+ name[:-5]):\n",
    "                        with open(earning_call_path+'/'+ name[:-5],\"x\") as file:\n",
    "                            file.write(earning_call_trasncript)\n",
    "\n",
    "    print(f\"We didn't find {len(earning_with_content_container_not_found)} content container out of {len(os.listdir(article_path))}\")\n",
    "    print(f\"We didn't find {len(earning_with_start_not_found)} earning call start\")"
   ]
  },
  {
   "cell_type": "code",
   "execution_count": 6,
   "id": "45c9e5aa",
   "metadata": {},
   "outputs": [
    {
     "name": "stdout",
     "output_type": "stream",
     "text": [
      "We didn't find 1 content container out of 49\n",
      "We didn't find 9 earning call start\n"
     ]
    }
   ],
   "source": [
    "print(f\"We didn't find {len(earning_with_content_container_not_found)} content container out of {len(os.listdir(article_path))}\")\n",
    "print(f\"We didn't find {len(earning_with_start_not_found)} earning call start\")"
   ]
  },
  {
   "cell_type": "code",
   "execution_count": 7,
   "id": "f2f98551",
   "metadata": {},
   "outputs": [
    {
     "name": "stdout",
     "output_type": "stream",
     "text": [
      "['last_time_scrap']\n",
      "['3837916.html', '3089486.html', '2604195.html', '3643796.html', '2157043.html', '2333285.html', '3968457.html', '2857886.html', '1145381.html']\n"
     ]
    }
   ],
   "source": [
    "print(earning_with_content_container_not_found)\n",
    "print(earning_with_start_not_found)"
   ]
  },
  {
   "cell_type": "code",
   "execution_count": 8,
   "id": "23990b6f",
   "metadata": {},
   "outputs": [
    {
     "data": {
      "text/plain": [
       "'fse'"
      ]
     },
     "execution_count": 8,
     "metadata": {},
     "output_type": "execute_result"
    }
   ],
   "source": [
    "test = {id : \"oui\"}\n",
    "test.get(\"id\", \"fse\")"
   ]
  },
  {
   "cell_type": "code",
   "execution_count": null,
   "id": "5b6bc66c",
   "metadata": {},
   "outputs": [],
   "source": []
  }
 ],
 "metadata": {
  "kernelspec": {
   "display_name": "Python 3 (ipykernel)",
   "language": "python",
   "name": "python3"
  },
  "language_info": {
   "codemirror_mode": {
    "name": "ipython",
    "version": 3
   },
   "file_extension": ".py",
   "mimetype": "text/x-python",
   "name": "python",
   "nbconvert_exporter": "python",
   "pygments_lexer": "ipython3",
   "version": "3.7.11"
  }
 },
 "nbformat": 4,
 "nbformat_minor": 5
}
