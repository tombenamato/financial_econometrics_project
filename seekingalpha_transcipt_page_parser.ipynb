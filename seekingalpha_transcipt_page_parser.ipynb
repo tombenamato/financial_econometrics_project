{
 "cells": [
  {
   "cell_type": "code",
   "execution_count": 1,
   "id": "60050127",
   "metadata": {},
   "outputs": [],
   "source": [
    "from bs4 import BeautifulSoup\n",
    "import requests\n",
    "import os.path"
   ]
  },
  {
   "cell_type": "code",
   "execution_count": 2,
   "id": "d543d6f1",
   "metadata": {},
   "outputs": [],
   "source": [
    "def found_content_container(tag):\n",
    "    if not tag.has_attr(\"data-test-id\") :\n",
    "        return False\n",
    "    return tag[\"data-test-id\"] == \"content-container\""
   ]
  },
  {
   "cell_type": "code",
   "execution_count": 3,
   "id": "0f643ee0",
   "metadata": {},
   "outputs": [],
   "source": [
    "def get_start_index(content_container_child):\n",
    "    start_index = 0\n",
    "    found = False\n",
    "    while not found:\n",
    "        if \"Operator\" in content_container_child[start_index].get_text() :\n",
    "            found = True\n",
    "        start_index+=1\n",
    "        if start_index == len(content_container_child) : \n",
    "            return -1\n",
    "    start_index -=1\n",
    "    return start_index"
   ]
  },
  {
   "cell_type": "code",
   "execution_count": 4,
   "id": "36858d11",
   "metadata": {},
   "outputs": [],
   "source": [
    "article_path = \"data/article/\"\n",
    "earning_call_path = \"data/earning_call\"\n",
    "earning_with_content_container_not_found = []\n",
    "earning_with_start_not_found = []\n",
    "for name in os.listdir(article_path):\n",
    "    with open(article_path + name, \"r\") as file:\n",
    "        html_content = file.read()\n",
    "        soup  = BeautifulSoup(html_content)\n",
    "        content_container = soup.find_all(found_content_container)\n",
    "        if len(content_container) !=1:\n",
    "            earning_with_content_container_not_found.append(name)\n",
    "        else:\n",
    "            content_container = content_container[0]\n",
    "            content_container_child = [ child for child in content_container.children]\n",
    "            start_index = get_start_index(content_container_child)\n",
    "            if start_index == -1:\n",
    "                earning_with_start_not_found.append(name)\n",
    "            else: \n",
    "                earning_call_trasncript = \"\"\n",
    "                for tag in content_container_child[start_index:]:\n",
    "                    earning_call_trasncript += tag.get_text()+\"\\n\"\n",
    "                if not os.path.exists(earning_call_path):\n",
    "                    os.makedirs(earning_call_path)\n",
    "                    print(\"The new directory is created!\")\n",
    "                if not os.path.isfile(earning_call_path+\"/\"+ name[:-5]):\n",
    "                    with open(earning_call_path+'/'+ name[:-5],\"x\") as file:\n",
    "                        file.write(earning_call_trasncript)"
   ]
  },
  {
   "cell_type": "code",
   "execution_count": 5,
   "id": "45c9e5aa",
   "metadata": {},
   "outputs": [
    {
     "name": "stdout",
     "output_type": "stream",
     "text": [
      "We didn't find 5 content container\n",
      "We didn't find 7 earning call start\n"
     ]
    }
   ],
   "source": [
    "print(f\"We didn't find {len(earning_with_content_container_not_found)} content container\")\n",
    "print(f\"We didn't find {len(earning_with_start_not_found)} earning call start\")"
   ]
  }
 ],
 "metadata": {
  "kernelspec": {
   "display_name": "Python 3 (ipykernel)",
   "language": "python",
   "name": "python3"
  },
  "language_info": {
   "codemirror_mode": {
    "name": "ipython",
    "version": 3
   },
   "file_extension": ".py",
   "mimetype": "text/x-python",
   "name": "python",
   "nbconvert_exporter": "python",
   "pygments_lexer": "ipython3",
   "version": "3.9.7"
  }
 },
 "nbformat": 4,
 "nbformat_minor": 5
}
