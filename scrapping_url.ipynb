{
 "cells": [
  {
   "cell_type": "code",
   "execution_count": 1,
   "id": "06adbad0",
   "metadata": {},
   "outputs": [],
   "source": [
    "#import the libraries as needed\n",
    "from selenium import webdriver\n",
    "from selenium import webdriver   # for webdriver\n",
    "from selenium.webdriver.support.ui import WebDriverWait  # for implicit and explict waits\n",
    "from selenium.webdriver.chrome.options import Options \n",
    "import pandas as pd\n",
    "import numpy as np\n",
    "from requests_html import HTML"
   ]
  },
  {
   "cell_type": "markdown",
   "id": "e509ca16",
   "metadata": {},
   "source": [
    "### Useful links\n",
    "https://pypi.org/project/requests-html/"
   ]
  },
  {
   "cell_type": "code",
   "execution_count": 2,
   "id": "daec8460",
   "metadata": {},
   "outputs": [],
   "source": [
    "siteurl = 'https://seekingalpha.com/earnings/earnings-call-transcripts?page='\n",
    "page = 2\n",
    "all_article_url = []\n",
    "site_url_num = siteurl + str(page)"
   ]
  },
  {
   "cell_type": "code",
   "execution_count": 3,
   "id": "b07146fe",
   "metadata": {},
   "outputs": [
    {
     "name": "stderr",
     "output_type": "stream",
     "text": [
      "/var/folders/x6/78bfdjm90vg7nkr3td3h67680000gn/T/ipykernel_9210/3918293217.py:3: DeprecationWarning: executable_path has been deprecated, please pass in a Service object\n",
      "  driver = webdriver.Chrome('./chromedriver',options=option)\n"
     ]
    }
   ],
   "source": [
    "option = webdriver.ChromeOptions()\n",
    "option.add_argument('headless')\n",
    "driver = webdriver.Chrome('./chromedriver',options=option)\n",
    "driver.get(site_url_num)\n",
    "site_html = driver.page_source"
   ]
  },
  {
   "cell_type": "code",
   "execution_count": 4,
   "id": "e22ad090",
   "metadata": {},
   "outputs": [],
   "source": [
    "html = HTML(html=site_html)\n",
    "all_html_links = html.links\n",
    "article_html_links = [\"https://seekingalpha.com/\"+x for x in list(all_html_links) if \"article\" in x]\n",
    "all_article_url += article_html_links"
   ]
  },
  {
   "cell_type": "code",
   "execution_count": 5,
   "id": "717811ce",
   "metadata": {},
   "outputs": [
    {
     "data": {
      "text/plain": [
       "[]"
      ]
     },
     "execution_count": 5,
     "metadata": {},
     "output_type": "execute_result"
    }
   ],
   "source": [
    "article_html_links"
   ]
  },
  {
   "cell_type": "code",
   "execution_count": 6,
   "id": "83c4abe6",
   "metadata": {},
   "outputs": [
    {
     "data": {
      "text/plain": [
       "{'https://seekingalpha.userecho.com?source=captcha'}"
      ]
     },
     "execution_count": 6,
     "metadata": {},
     "output_type": "execute_result"
    }
   ],
   "source": [
    "all_html_links"
   ]
  },
  {
   "cell_type": "code",
   "execution_count": 7,
   "id": "0eab82b3",
   "metadata": {},
   "outputs": [
    {
     "data": {
      "text/plain": [
       "'<html lang=\"en\"><head>\\n  <meta charset=\"utf-8\">\\n  <meta name=\"viewport\" content=\"width=device-width, initial-scale=1\">\\n  <title>Access to this page has been denied.</title>\\n  <link href=\"https://fonts.googleapis.com/css?family=Open+Sans:300\" rel=\"stylesheet\">\\n  <style>\\n    html, body {\\n      margin: 0;\\n      padding: 0;\\n      font-family: \\'Open Sans\\', sans-serif;\\n      color: #000;\\n    }\\n\\n    .container {\\n      align-items: center;\\n      display: flex;\\n      flex: 1;\\n      justify-content: space-between;\\n      flex-direction: column;\\n      height: 100%;\\n    }\\n\\n    .container > div {\\n      width: 100%;\\n      display: flex;\\n      justify-content: center;\\n    }\\n\\n    .container > div > div {\\n      display: flex;\\n      width: 80%;\\n    }\\n\\n    .customer-logo-wrapper {\\n      padding-top: 2rem;\\n      flex-grow: 0;\\n      background-color: #fff;\\n    }\\n\\n    .customer-logo {\\n      border-bottom: 1px solid #000;\\n    }\\n\\n    .customer-logo > img {\\n      padding-bottom: 1rem;\\n      max-height: 50px;\\n      max-width: 100%;\\n    }\\n\\n    .page-title-wrapper {\\n      flex-grow: 0;  /* was 2, but that pushed it too far down the page */\\n    }\\n\\n    .page-title {\\n      flex-direction: column-reverse;\\n    }\\n\\n    .content-wrapper {\\n      flex-grow: 5;\\n    }\\n\\n    .content {\\n      flex-direction: column;\\n    }\\n\\n    @media (min-width: 768px) {\\n      html, body {\\n        height: 100%;\\n      }\\n    }\\n  </style>\\n  <script>\\n    window._pxAppId = \\'PXxgCxM9By\\';\\n    window._pxJsClientSrc = \\'/xgCxM9By/init.js\\';\\n    window._pxHostUrl = \\'/xgCxM9By/xhr\\';\\n\\n    startTime = Date.now();\\n    window._pxOnCaptchaSuccess = function(isValid){\\n      var solutionTime = Math.floor((Date.now() - startTime) / 1000);\\n      var reload = function(){ top.location.reload(); };\\n      sendEvent(\"captcha/solved?px_uuid=\" + window._pxUuid + \"&time_to_solution=\" + solutionTime + \\'&isValid=\\' + isValid, reload);\\n      setTimeout(reload, 700);\\n    };\\n\\n    function sendEvent(event, onload){\\n      var xhr = new XMLHttpRequest();\\n      xhr.open(\"GET\", \"/_sa_track/\" + event);\\n      if (onload) xhr.addEventListener(\"load\", onload);\\n      xhr.send();\\n    }\\n  </script>\\n<script type=\"text/javascript\">window._pxVid = \"\";window._pxUuid = \"11588ab9-c6bd-11ec-a122-647059654548\";</script><style type=\"text/css\">.px-loader-wrapper {    display: flex;}@keyframes loadingEffect {    0% {        background-position: 0;    }    100% {        background-position: 60vw;    }}.px-inner-loading-area {    width: 310px;    height: 100px;    animation-name: loadingEffect;    animation-duration: 1.2s;    animation-iteration-count: infinite;    animation-timing-function: ease;    animation-fill-mode: forwards;    background: linear-gradient(to right, #f6f6f6 8%, #f0f0f0 18%, #f6f6f6 33%);}.px-loading-area {    width: 310px;    height: 100px;    margin: undefined;}</style><script src=\"/xgCxM9By/init.js\"></script></head>\\n<body>\\n<section class=\"container\">\\n  <div class=\"page-title-wrapper\">\\n    <div class=\"page-title\">\\n      <h1>To continue, please prove you are not a robot</h1>\\n    </div>\\n  </div>\\n  <div class=\"content-wrapper\">\\n    <div class=\"content\">\\n      <div id=\"px-captcha\"><div class=\"px-loader-wrapper\" id=\"px-loader\"><div class=\"px-loading-area\"><div class=\"px-inner-loading-area\"></div></div></div></div>\\n      <p></p>\\n      <p>\\n        To ensure this doesn’t happen in the future, please enable Javascript and cookies in your browser.<br>\\n        Is this happening to you frequently? Please <a href=\"https://seekingalpha.userecho.com?source=captcha\">report it on our feedback forum</a>.\\n      </p>\\n      <p>\\n        If you have an ad-blocker enabled you may be blocked from proceeding. Please disable your ad-blocker and refresh.\\n      </p>\\n      <p>Reference ID: <span id=\"refid\">11588ab9-c6bd-11ec-a122-647059654548</span></p>\\n    </div>\\n  </div>\\n  <script>\\n    document.getElementById(\"refid\").innerHTML = window._pxUuid;\\n    sendEvent(\"captcha/shown?px_uuid=\" + window._pxUuid);\\n  </script>\\n</section>\\n\\n<script src=\"/xgCxM9By/captcha/PXxgCxM9By/captcha.js?a=c&amp;m=0\"></script>\\n\\n\\n\\n\\n</body></html>'"
      ]
     },
     "execution_count": 7,
     "metadata": {},
     "output_type": "execute_result"
    }
   ],
   "source": [
    "site_html"
   ]
  },
  {
   "cell_type": "code",
   "execution_count": null,
   "id": "d8edf6b9",
   "metadata": {},
   "outputs": [],
   "source": []
  }
 ],
 "metadata": {
  "kernelspec": {
   "display_name": "Python 3 (ipykernel)",
   "language": "python",
   "name": "python3"
  },
  "language_info": {
   "codemirror_mode": {
    "name": "ipython",
    "version": 3
   },
   "file_extension": ".py",
   "mimetype": "text/x-python",
   "name": "python",
   "nbconvert_exporter": "python",
   "pygments_lexer": "ipython3",
   "version": "3.9.7"
  }
 },
 "nbformat": 4,
 "nbformat_minor": 5
}
