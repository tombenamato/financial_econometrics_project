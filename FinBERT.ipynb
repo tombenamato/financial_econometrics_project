{
 "cells": [
  {
   "cell_type": "code",
   "execution_count": 1,
   "id": "ba7fe5cc",
   "metadata": {},
   "outputs": [],
   "source": [
    "from sklearn.feature_extraction.text import TfidfVectorizer\n",
    "import re\n",
    "import pandas as pd\n",
    "from finbert_embedding.embedding import FinbertEmbedding\n",
    "from transformers import BertTokenizer, BertForSequenceClassification\n",
    "import numpy as np\n",
    "from tqdm import tqdm\n",
    "import glob\n",
    "from collections import Counter"
   ]
  },
  {
   "cell_type": "code",
   "execution_count": 2,
   "id": "d279402f",
   "metadata": {},
   "outputs": [],
   "source": [
    "alphabets= \"([A-Za-z])\"\n",
    "prefixes = \"(Mr|St|Mrs|Ms|Dr)[.]\"\n",
    "suffixes = \"(Inc|Ltd|Jr|Sr|Co)\"\n",
    "starters = \"(Mr|Mrs|Ms|Dr|He\\s|She\\s|It\\s|They\\s|Their\\s|Our\\s|We\\s|But\\s|However\\s|That\\s|This\\s|Wherever)\"\n",
    "acronyms = \"([A-Z][.][A-Z][.](?:[A-Z][.])?)\"\n",
    "websites = \"[.](com|net|org|io|gov)\""
   ]
  },
  {
   "cell_type": "code",
   "execution_count": 3,
   "id": "6b8c17d5",
   "metadata": {},
   "outputs": [],
   "source": [
    "finbert = BertForSequenceClassification.from_pretrained('yiyanghkust/finbert-tone',num_labels=3)\n",
    "tokenizer = BertTokenizer.from_pretrained('yiyanghkust/finbert-tone')"
   ]
  },
  {
   "cell_type": "code",
   "execution_count": 4,
   "id": "9f22b2a8",
   "metadata": {},
   "outputs": [],
   "source": [
    "def extract_texts(start, N):\n",
    "    list_articles = glob.glob(\"data/earning_call/*\")[start:start + N]\n",
    "    texts = []\n",
    "    first_sentence = []\n",
    "    articles = []\n",
    "    ID = []\n",
    "    for s in list_articles:\n",
    "        with open(s) as f:\n",
    "            \n",
    "            x = int(re.sub('data/earning_call/','',s))\n",
    "            articles.append(x)\n",
    "            t = f.read()\n",
    "            texts.append(t)\n",
    "    ID = [s.replace(\"data/earning_call/\", \"\") for s in list_articles]\n",
    "    \n",
    "    return texts, ID\n"
   ]
  },
  {
   "cell_type": "code",
   "execution_count": 5,
   "id": "aee591bf",
   "metadata": {},
   "outputs": [],
   "source": [
    "def split_into_sentences(text):\n",
    "    text = \" \" + text + \"  \"\n",
    "    text = text.replace(\"\\n\",\" \")\n",
    "    text = re.sub(prefixes,\"\\\\1<prd>\",text)\n",
    "    text = re.sub(websites,\"<prd>\\\\1\",text)\n",
    "    if \"Ph.D\" in text: text = text.replace(\"Ph.D.\",\"Ph<prd>D<prd>\")\n",
    "    text = re.sub(\"\\s\" + alphabets + \"[.] \",\" \\\\1<prd> \",text)\n",
    "    text = re.sub(acronyms+\" \"+starters,\"\\\\1<stop> \\\\2\",text)\n",
    "    text = re.sub(alphabets + \"[.]\" + alphabets + \"[.]\" + alphabets + \"[.]\",\"\\\\1<prd>\\\\2<prd>\\\\3<prd>\",text)\n",
    "    text = re.sub(alphabets + \"[.]\" + alphabets + \"[.]\",\"\\\\1<prd>\\\\2<prd>\",text)\n",
    "    text = re.sub(\" \"+suffixes+\"[.] \"+starters,\" \\\\1<stop> \\\\2\",text)\n",
    "    text = re.sub(\" \"+suffixes+\"[.]\",\" \\\\1<prd>\",text)\n",
    "    text = re.sub(\" \" + alphabets + \"[.]\",\" \\\\1<prd>\",text)\n",
    "    if \"”\" in text: text = text.replace(\".”\",\"”.\")\n",
    "    if \"\\\"\" in text: text = text.replace(\".\\\"\",\"\\\".\")\n",
    "    if \"!\" in text: text = text.replace(\"!\\\"\",\"\\\"!\")\n",
    "    if \"?\" in text: text = text.replace(\"?\\\"\",\"\\\"?\")\n",
    "    text = text.replace(\".\",\".<stop>\")\n",
    "    text = text.replace(\"?\",\"?<stop>\")\n",
    "    text = text.replace(\"!\",\"!<stop>\")\n",
    "    text = text.replace(\"<prd>\",\".\")\n",
    "    sentences = text.split(\"<stop>\")\n",
    "    sentences = sentences[:-1]\n",
    "    sentences = [s.strip() for s in sentences]\n",
    "\n",
    "    #sentences = [x for x in sentences if len(x.split(' '))>5]\n",
    "    return sentences\n"
   ]
  },
  {
   "cell_type": "code",
   "execution_count": 6,
   "id": "6901aefe",
   "metadata": {},
   "outputs": [],
   "source": [
    "def finbert_texts(n_texts, texts):\n",
    "    labels = {0:'neutral', 1:'positive',2:'negative'}\n",
    "    data = np.zeros((n_texts,3))\n",
    "\n",
    "    for j in tqdm(range(n_texts)):\n",
    "        print(j)\n",
    "        #x = split_into_sentences(texts[j])\n",
    "        sentences = texts[j].split('\\n \\n')\n",
    "        sentences = [x for x in sentences if len(x.split(' '))>4]\n",
    "        #print(len(sentences))\n",
    "        inputs = tokenizer(sentences, return_tensors=\"pt\", padding=True)\n",
    "\n",
    "\n",
    "        outputs = finbert(**inputs)[0]\n",
    "        i = np.argmax(outputs.detach().numpy(), axis = 1)\n",
    "        sentiment_counter = list(Counter(i).values())\n",
    "        data[j,:] = sentiment_counter\n",
    "        \n",
    "        \n",
    "    return data"
   ]
  },
  {
   "cell_type": "code",
   "execution_count": 7,
   "id": "b9f049d0",
   "metadata": {},
   "outputs": [],
   "source": [
    "# Nombre d'articles\n",
    "N = 10\n",
    "start = 0\n",
    "texts, ID = extract_texts(start, N)\n",
    "\n",
    "\n",
    "\n",
    "  #  df_sentiment.at[index,\"ID\"] = list_articles[index]\n",
    "   # df_sentiment.at[index,\"ID\"] = df_sentiment[\"ID\"].str.replace(\"data/earning_call/\", \"\")\n",
    "#ID = "
   ]
  },
  {
   "cell_type": "code",
   "execution_count": 8,
   "id": "f641a3fa",
   "metadata": {},
   "outputs": [
    {
     "name": "stderr",
     "output_type": "stream",
     "text": [
      "\r",
      "  0%|                                                  | 0/10 [00:00<?, ?it/s]"
     ]
    },
    {
     "name": "stdout",
     "output_type": "stream",
     "text": [
      "0\n"
     ]
    },
    {
     "name": "stderr",
     "output_type": "stream",
     "text": [
      "\r",
      " 10%|████▏                                     | 1/10 [00:48<07:16, 48.54s/it]"
     ]
    },
    {
     "name": "stdout",
     "output_type": "stream",
     "text": [
      "1\n"
     ]
    },
    {
     "name": "stderr",
     "output_type": "stream",
     "text": [
      "\r",
      " 20%|████████▍                                 | 2/10 [02:24<10:10, 76.31s/it]"
     ]
    },
    {
     "name": "stdout",
     "output_type": "stream",
     "text": [
      "2\n"
     ]
    },
    {
     "name": "stderr",
     "output_type": "stream",
     "text": [
      "\r",
      " 30%|████████████▌                             | 3/10 [03:23<07:59, 68.55s/it]"
     ]
    },
    {
     "name": "stdout",
     "output_type": "stream",
     "text": [
      "3\n"
     ]
    },
    {
     "name": "stderr",
     "output_type": "stream",
     "text": [
      "\r",
      " 40%|████████████████▊                         | 4/10 [05:37<09:26, 94.49s/it]"
     ]
    },
    {
     "name": "stdout",
     "output_type": "stream",
     "text": [
      "4\n"
     ]
    },
    {
     "name": "stderr",
     "output_type": "stream",
     "text": [
      "\r",
      " 50%|█████████████████████                     | 5/10 [06:18<06:15, 75.08s/it]"
     ]
    },
    {
     "name": "stdout",
     "output_type": "stream",
     "text": [
      "5\n"
     ]
    },
    {
     "name": "stderr",
     "output_type": "stream",
     "text": [
      "\r",
      " 60%|█████████████████████████▏                | 6/10 [06:48<03:59, 59.90s/it]"
     ]
    },
    {
     "name": "stdout",
     "output_type": "stream",
     "text": [
      "6\n"
     ]
    },
    {
     "name": "stderr",
     "output_type": "stream",
     "text": [
      "\r",
      " 70%|█████████████████████████████▍            | 7/10 [07:13<02:24, 48.20s/it]"
     ]
    },
    {
     "name": "stdout",
     "output_type": "stream",
     "text": [
      "7\n"
     ]
    },
    {
     "name": "stderr",
     "output_type": "stream",
     "text": [
      "\r",
      " 80%|█████████████████████████████████▌        | 8/10 [07:50<01:29, 44.75s/it]"
     ]
    },
    {
     "name": "stdout",
     "output_type": "stream",
     "text": [
      "8\n"
     ]
    },
    {
     "name": "stderr",
     "output_type": "stream",
     "text": [
      "\r",
      " 90%|█████████████████████████████████████▊    | 9/10 [08:20<00:40, 40.21s/it]"
     ]
    },
    {
     "name": "stdout",
     "output_type": "stream",
     "text": [
      "9\n"
     ]
    },
    {
     "name": "stderr",
     "output_type": "stream",
     "text": [
      "100%|█████████████████████████████████████████| 10/10 [09:53<00:00, 59.35s/it]\n"
     ]
    },
    {
     "name": "stdout",
     "output_type": "stream",
     "text": [
      "[[63. 35. 12.]\n",
      " [56. 27.  3.]\n",
      " [69. 30.  1.]\n",
      " [48. 54. 13.]\n",
      " [41. 23.  4.]\n",
      " [39. 24.  8.]\n",
      " [31. 28.  4.]\n",
      " [54. 38. 18.]\n",
      " [19. 20.  5.]\n",
      " [65. 56.  7.]]\n"
     ]
    }
   ],
   "source": [
    "if __name__ == \"__main__\":\n",
    "    #print(repr(texts[0]))\n",
    "    data = finbert_texts(N, texts)\n",
    "    print(data)\n",
    "   "
   ]
  },
  {
   "cell_type": "code",
   "execution_count": 18,
   "id": "d900de06",
   "metadata": {},
   "outputs": [
    {
     "data": {
      "text/html": [
       "<div>\n",
       "<style scoped>\n",
       "    .dataframe tbody tr th:only-of-type {\n",
       "        vertical-align: middle;\n",
       "    }\n",
       "\n",
       "    .dataframe tbody tr th {\n",
       "        vertical-align: top;\n",
       "    }\n",
       "\n",
       "    .dataframe thead th {\n",
       "        text-align: right;\n",
       "    }\n",
       "</style>\n",
       "<table border=\"1\" class=\"dataframe\">\n",
       "  <thead>\n",
       "    <tr style=\"text-align: right;\">\n",
       "      <th></th>\n",
       "      <th>ID</th>\n",
       "      <th>Neutral</th>\n",
       "      <th>Positive</th>\n",
       "      <th>Negative</th>\n",
       "      <th>Total</th>\n",
       "      <th>Difference</th>\n",
       "      <th>P_N ratio</th>\n",
       "      <th>Difference ratio</th>\n",
       "      <th>Decile</th>\n",
       "    </tr>\n",
       "  </thead>\n",
       "  <tbody>\n",
       "    <tr>\n",
       "      <th>0</th>\n",
       "      <td>4509509</td>\n",
       "      <td>63.0</td>\n",
       "      <td>35.0</td>\n",
       "      <td>12.0</td>\n",
       "      <td>110.0</td>\n",
       "      <td>23.0</td>\n",
       "      <td>2.91667</td>\n",
       "      <td>0.20909</td>\n",
       "      <td>2</td>\n",
       "    </tr>\n",
       "    <tr>\n",
       "      <th>1</th>\n",
       "      <td>4508877</td>\n",
       "      <td>56.0</td>\n",
       "      <td>27.0</td>\n",
       "      <td>3.0</td>\n",
       "      <td>86.0</td>\n",
       "      <td>24.0</td>\n",
       "      <td>9.00000</td>\n",
       "      <td>0.27907</td>\n",
       "      <td>4</td>\n",
       "    </tr>\n",
       "    <tr>\n",
       "      <th>2</th>\n",
       "      <td>4509199</td>\n",
       "      <td>69.0</td>\n",
       "      <td>30.0</td>\n",
       "      <td>1.0</td>\n",
       "      <td>100.0</td>\n",
       "      <td>29.0</td>\n",
       "      <td>30.00000</td>\n",
       "      <td>0.29000</td>\n",
       "      <td>6</td>\n",
       "    </tr>\n",
       "    <tr>\n",
       "      <th>3</th>\n",
       "      <td>4507655</td>\n",
       "      <td>48.0</td>\n",
       "      <td>54.0</td>\n",
       "      <td>13.0</td>\n",
       "      <td>115.0</td>\n",
       "      <td>41.0</td>\n",
       "      <td>4.15385</td>\n",
       "      <td>0.35652</td>\n",
       "      <td>8</td>\n",
       "    </tr>\n",
       "    <tr>\n",
       "      <th>4</th>\n",
       "      <td>4509360</td>\n",
       "      <td>41.0</td>\n",
       "      <td>23.0</td>\n",
       "      <td>4.0</td>\n",
       "      <td>68.0</td>\n",
       "      <td>19.0</td>\n",
       "      <td>5.75000</td>\n",
       "      <td>0.27941</td>\n",
       "      <td>5</td>\n",
       "    </tr>\n",
       "    <tr>\n",
       "      <th>5</th>\n",
       "      <td>4508080</td>\n",
       "      <td>39.0</td>\n",
       "      <td>24.0</td>\n",
       "      <td>8.0</td>\n",
       "      <td>71.0</td>\n",
       "      <td>16.0</td>\n",
       "      <td>3.00000</td>\n",
       "      <td>0.22535</td>\n",
       "      <td>3</td>\n",
       "    </tr>\n",
       "    <tr>\n",
       "      <th>6</th>\n",
       "      <td>4509536</td>\n",
       "      <td>31.0</td>\n",
       "      <td>28.0</td>\n",
       "      <td>4.0</td>\n",
       "      <td>63.0</td>\n",
       "      <td>24.0</td>\n",
       "      <td>7.00000</td>\n",
       "      <td>0.38095</td>\n",
       "      <td>9</td>\n",
       "    </tr>\n",
       "    <tr>\n",
       "      <th>7</th>\n",
       "      <td>4508410</td>\n",
       "      <td>54.0</td>\n",
       "      <td>38.0</td>\n",
       "      <td>18.0</td>\n",
       "      <td>110.0</td>\n",
       "      <td>20.0</td>\n",
       "      <td>2.11111</td>\n",
       "      <td>0.18182</td>\n",
       "      <td>1</td>\n",
       "    </tr>\n",
       "    <tr>\n",
       "      <th>8</th>\n",
       "      <td>4508622</td>\n",
       "      <td>19.0</td>\n",
       "      <td>20.0</td>\n",
       "      <td>5.0</td>\n",
       "      <td>44.0</td>\n",
       "      <td>15.0</td>\n",
       "      <td>4.00000</td>\n",
       "      <td>0.34091</td>\n",
       "      <td>7</td>\n",
       "    </tr>\n",
       "    <tr>\n",
       "      <th>9</th>\n",
       "      <td>4509394</td>\n",
       "      <td>65.0</td>\n",
       "      <td>56.0</td>\n",
       "      <td>7.0</td>\n",
       "      <td>128.0</td>\n",
       "      <td>49.0</td>\n",
       "      <td>8.00000</td>\n",
       "      <td>0.38281</td>\n",
       "      <td>10</td>\n",
       "    </tr>\n",
       "  </tbody>\n",
       "</table>\n",
       "</div>"
      ],
      "text/plain": [
       "        ID  Neutral  Positive  Negative  Total  Difference  P_N ratio  \\\n",
       "0  4509509     63.0      35.0      12.0  110.0        23.0    2.91667   \n",
       "1  4508877     56.0      27.0       3.0   86.0        24.0    9.00000   \n",
       "2  4509199     69.0      30.0       1.0  100.0        29.0   30.00000   \n",
       "3  4507655     48.0      54.0      13.0  115.0        41.0    4.15385   \n",
       "4  4509360     41.0      23.0       4.0   68.0        19.0    5.75000   \n",
       "5  4508080     39.0      24.0       8.0   71.0        16.0    3.00000   \n",
       "6  4509536     31.0      28.0       4.0   63.0        24.0    7.00000   \n",
       "7  4508410     54.0      38.0      18.0  110.0        20.0    2.11111   \n",
       "8  4508622     19.0      20.0       5.0   44.0        15.0    4.00000   \n",
       "9  4509394     65.0      56.0       7.0  128.0        49.0    8.00000   \n",
       "\n",
       "   Difference ratio  Decile  \n",
       "0           0.20909       2  \n",
       "1           0.27907       4  \n",
       "2           0.29000       6  \n",
       "3           0.35652       8  \n",
       "4           0.27941       5  \n",
       "5           0.22535       3  \n",
       "6           0.38095       9  \n",
       "7           0.18182       1  \n",
       "8           0.34091       7  \n",
       "9           0.38281      10  "
      ]
     },
     "metadata": {},
     "output_type": "display_data"
    }
   ],
   "source": [
    "df_data = pd.DataFrame(data, columns= [\"Neutral\",\"Positive\", \"Negative\"])\n",
    "\n",
    "\n",
    "df_data[\"Total\"] = df_data[\"Neutral\"] + df_data[\"Positive\"] + df_data[\"Negative\"]\n",
    "df_data[\"Difference\"] = df_data[\"Positive\"] - df_data[\"Negative\"]\n",
    "df_data[\"P_N ratio\"] = df_data[\"Positive\"] / df_data[\"Negative\"]\n",
    "df_data[\"Difference ratio\"] = df_data[\"Difference\"] / df_data[\"Total\"]\n",
    "\n",
    "df_data[\"Decile\"] = 1 + df_data[\"Difference ratio\"].transform(lambda y: pd.qcut(y, 10, labels=False))\n",
    "\n",
    "df_data = np.round(df_data, 5)\n",
    "\n",
    "#total = nb_neutral + nb_positive + nb_negative\n",
    "#difference = nb_positive - nb_negative\n",
    "#P_N = nb_positive/nb_negative\n",
    "#difference_ratio = difference / total\n",
    "#df_data[\"ID\"] = texts\n",
    "#df_data[\"ID\"] = \n",
    "\n",
    "df_data[\"ID\"] = ID\n",
    "first_column = df_data.pop(\"ID\")\n",
    "df_data.insert(0, \"ID\", first_column)\n",
    "\n",
    "long = list(df_data.loc[df_data['Decile'].isin([10,9])][\"ID\"])\n",
    "short = list(df_data.loc[df_data['Decile'].isin([1,2])][\"ID\"])\n",
    "\n",
    "display(df_data)\n",
    "\n",
    "\n",
    "#display(short)\n",
    "#short"
   ]
  },
  {
   "cell_type": "code",
   "execution_count": 19,
   "id": "2266b76d",
   "metadata": {},
   "outputs": [
    {
     "data": {
      "text/plain": [
       "['4509509', '4508410']"
      ]
     },
     "metadata": {},
     "output_type": "display_data"
    },
    {
     "data": {
      "text/plain": [
       "['4509536', '4509394']"
      ]
     },
     "metadata": {},
     "output_type": "display_data"
    }
   ],
   "source": [
    "display(short)\n",
    "display(long)"
   ]
  },
  {
   "cell_type": "code",
   "execution_count": null,
   "id": "1127097e",
   "metadata": {},
   "outputs": [],
   "source": []
  }
 ],
 "metadata": {
  "kernelspec": {
   "display_name": "Python 3 (ipykernel)",
   "language": "python",
   "name": "python3"
  },
  "language_info": {
   "codemirror_mode": {
    "name": "ipython",
    "version": 3
   },
   "file_extension": ".py",
   "mimetype": "text/x-python",
   "name": "python",
   "nbconvert_exporter": "python",
   "pygments_lexer": "ipython3",
   "version": "3.9.7"
  }
 },
 "nbformat": 4,
 "nbformat_minor": 5
}
