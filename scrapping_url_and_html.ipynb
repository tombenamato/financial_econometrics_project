{
 "cells": [
  {
   "cell_type": "code",
   "execution_count": 3,
   "id": "667e95c6",
   "metadata": {},
   "outputs": [
    {
     "name": "stdout",
     "output_type": "stream",
     "text": [
      "Collecting selenium\n",
      "  Downloading selenium-4.1.5-py3-none-any.whl (979 kB)\n",
      "\u001b[K     |████████████████████████████████| 979 kB 4.8 MB/s eta 0:00:01\n",
      "\u001b[?25hCollecting trio~=0.17\n",
      "  Using cached trio-0.20.0-py3-none-any.whl (359 kB)\n",
      "Requirement already satisfied: urllib3[secure,socks]~=1.26 in /Users/tatianacogne/opt/anaconda3/lib/python3.9/site-packages (from selenium) (1.26.7)\n",
      "Collecting trio-websocket~=0.9\n",
      "  Using cached trio_websocket-0.9.2-py3-none-any.whl (16 kB)\n",
      "Collecting outcome\n",
      "  Using cached outcome-1.1.0-py2.py3-none-any.whl (9.7 kB)\n",
      "Requirement already satisfied: sniffio in /Users/tatianacogne/opt/anaconda3/lib/python3.9/site-packages (from trio~=0.17->selenium) (1.2.0)\n",
      "Requirement already satisfied: idna in /Users/tatianacogne/opt/anaconda3/lib/python3.9/site-packages (from trio~=0.17->selenium) (3.2)\n",
      "Requirement already satisfied: async-generator>=1.9 in /Users/tatianacogne/opt/anaconda3/lib/python3.9/site-packages (from trio~=0.17->selenium) (1.10)\n",
      "Requirement already satisfied: attrs>=19.2.0 in /Users/tatianacogne/opt/anaconda3/lib/python3.9/site-packages (from trio~=0.17->selenium) (21.2.0)\n",
      "Requirement already satisfied: sortedcontainers in /Users/tatianacogne/opt/anaconda3/lib/python3.9/site-packages (from trio~=0.17->selenium) (2.4.0)\n",
      "Collecting wsproto>=0.14\n",
      "  Using cached wsproto-1.1.0-py3-none-any.whl (24 kB)\n",
      "Requirement already satisfied: PySocks!=1.5.7,<2.0,>=1.5.6 in /Users/tatianacogne/opt/anaconda3/lib/python3.9/site-packages (from urllib3[secure,socks]~=1.26->selenium) (1.7.1)\n",
      "Requirement already satisfied: pyOpenSSL>=0.14 in /Users/tatianacogne/opt/anaconda3/lib/python3.9/site-packages (from urllib3[secure,socks]~=1.26->selenium) (21.0.0)\n",
      "Requirement already satisfied: cryptography>=1.3.4 in /Users/tatianacogne/opt/anaconda3/lib/python3.9/site-packages (from urllib3[secure,socks]~=1.26->selenium) (3.4.8)\n",
      "Requirement already satisfied: certifi in /Users/tatianacogne/opt/anaconda3/lib/python3.9/site-packages (from urllib3[secure,socks]~=1.26->selenium) (2021.10.8)\n",
      "Requirement already satisfied: cffi>=1.12 in /Users/tatianacogne/opt/anaconda3/lib/python3.9/site-packages (from cryptography>=1.3.4->urllib3[secure,socks]~=1.26->selenium) (1.14.6)\n",
      "Requirement already satisfied: pycparser in /Users/tatianacogne/opt/anaconda3/lib/python3.9/site-packages (from cffi>=1.12->cryptography>=1.3.4->urllib3[secure,socks]~=1.26->selenium) (2.20)\n",
      "Requirement already satisfied: six>=1.5.2 in /Users/tatianacogne/opt/anaconda3/lib/python3.9/site-packages (from pyOpenSSL>=0.14->urllib3[secure,socks]~=1.26->selenium) (1.16.0)\n",
      "Collecting h11<1,>=0.9.0\n",
      "  Using cached h11-0.13.0-py3-none-any.whl (58 kB)\n",
      "Installing collected packages: outcome, h11, wsproto, trio, trio-websocket, selenium\n",
      "Successfully installed h11-0.13.0 outcome-1.1.0 selenium-4.1.5 trio-0.20.0 trio-websocket-0.9.2 wsproto-1.1.0\n"
     ]
    }
   ],
   "source": [
    "!pip install selenium"
   ]
  },
  {
   "cell_type": "code",
   "execution_count": 4,
   "id": "06adbad0",
   "metadata": {
    "pycharm": {
     "name": "#%%\n"
    }
   },
   "outputs": [],
   "source": [
    "#import the libraries as needed\n",
    "from selenium import webdriver\n",
    "from selenium import webdriver   # for webdriver\n",
    "from selenium.webdriver.support.ui import WebDriverWait  # for implicit and explict waits\n",
    "from selenium.webdriver.chrome.options import Options \n",
    "from selenium.webdriver.chrome.service import Service\n",
    "from selenium.webdriver.common.by import By\n",
    "import numpy as np\n",
    "import json\n",
    "from bs4 import BeautifulSoup\n",
    "import requests\n",
    "from tqdm import tqdm # to create loadbard in for loop\n",
    "import os.path"
   ]
  },
  {
   "cell_type": "code",
   "execution_count": 5,
   "id": "04f97e3e",
   "metadata": {
    "pycharm": {
     "name": "#%%\n"
    }
   },
   "outputs": [
    {
     "data": {
      "text/plain": [
       "'https://seekingalpha.com/api/v3/articles?cacheBuster=2022-04-28&filter[category]=earnings%3A%3Aearnings-call-transcripts&filter[since]=0&filter[until]=0&include=author%2CprimaryTickers%2CsecondaryTickers&isMounting=true&page[size]=50&page[number]=1'"
      ]
     },
     "execution_count": 5,
     "metadata": {},
     "output_type": "execute_result"
    }
   ],
   "source": [
    "# need to precise the option for date, nbr of metada for call transcript in the url paramater \n",
    "# https://en.wikipedia.org/wiki/Query_string\n",
    "nbr_earning_call_metada = 50 # I think 50 is max but can easyily be adapted, with for loop or something like that\n",
    "date_of_request= \"2022-04-28\"\n",
    "url = \"https://seekingalpha.com/api/v3/articles\"+\"?cacheBuster=\"\\\n",
    "      +str(date_of_request)\\\n",
    "      +\"&filter[category]=earnings%3A%3Aearnings-call-transcripts&filter[since]=0\"\\\n",
    "      +\"&filter[until]=0&include=author%2CprimaryTickers%2CsecondaryTickers&isMounting=true&page[size]=\"\\\n",
    "      +str(nbr_earning_call_metada)\\\n",
    "      +\"&page[number]=1\"\n",
    "url"
   ]
  },
  {
   "cell_type": "code",
   "execution_count": 7,
   "id": "b55716b6",
   "metadata": {
    "pycharm": {
     "name": "#%%\n"
    }
   },
   "outputs": [
    {
     "name": "stdout",
     "output_type": "stream",
     "text": [
      "{\"data\":[{\"id\":\"4507842\",\"type\":\"transcript\",\"attributes\":{\"publishOn\":\"2022-05-06T08:05:04-04:00\",\"\n"
     ]
    }
   ],
   "source": [
    "# the chrome driver depend on which version of chrome you are running specify the good one\n",
    "executable_path = \"./chromedriver\"\n",
    "service = Service(executable_path)\n",
    "option = webdriver.ChromeOptions()\n",
    "driver = webdriver.Chrome(service=service,options=option)\n",
    "driver.get(url)\n",
    "api_json_response = driver.find_element(by=By.TAG_NAME, value = \"body\").text\n",
    "#a quick loock of the result to check if we get results are get captcha/bot error \n",
    "\n",
    "print(api_json_response[0:100])\n",
    "api_data_response = json.loads(api_json_response)"
   ]
  },
  {
   "cell_type": "markdown",
   "id": "11a8fdb3",
   "metadata": {},
   "source": [
    "## API data response\n",
    "\n",
    "<pre>\n",
    "dict( \n",
    "    data : list(one element is one earning call metada)\n",
    "    included : \"don't care for now\"\n",
    "    meta : \"don't care for now\"\n",
    "        )\n",
    "</pre>\n",
    "One earning call metadata is show below "
   ]
  },
  {
   "cell_type": "code",
   "execution_count": 8,
   "id": "3a446e59",
   "metadata": {},
   "outputs": [
    {
     "data": {
      "text/plain": [
       "{'id': '4507842',\n",
       " 'type': 'transcript',\n",
       " 'attributes': {'publishOn': '2022-05-06T08:05:04-04:00',\n",
       "  'isLockedPro': False,\n",
       "  'commentCount': 0,\n",
       "  'gettyImageUrl': None,\n",
       "  'themes': {},\n",
       "  'title': 'ING Groep NV (ING) CEO Steven van Rijswijk on Q1 2022 Results - Earnings Call Transcript'},\n",
       " 'relationships': {'author': {'data': {'id': '44211', 'type': 'author'}},\n",
       "  'sentiments': {'data': []},\n",
       "  'primaryTickers': {'data': [{'id': '3211', 'type': 'tag'},\n",
       "    {'id': '16015', 'type': 'tag'}]},\n",
       "  'secondaryTickers': {'data': []},\n",
       "  'otherTags': {'data': [{'id': '96991', 'type': 'tag'},\n",
       "    {'id': '17862', 'type': 'tag'},\n",
       "    {'id': '49', 'type': 'tag'},\n",
       "    {'id': '586376', 'type': 'tag'},\n",
       "    {'id': '18082', 'type': 'tag'},\n",
       "    {'id': '17875', 'type': 'tag'}]}},\n",
       " 'links': {'self': '/article/4507842-ing-groep-nv-ing-ceo-steven-van-rijswijk-on-q1-2022-results-earnings-call-transcript'}}"
      ]
     },
     "execution_count": 8,
     "metadata": {},
     "output_type": "execute_result"
    }
   ],
   "source": [
    "api_data_response[\"data\"][0]"
   ]
  },
  {
   "cell_type": "code",
   "execution_count": 9,
   "id": "4481c6b2",
   "metadata": {
    "pycharm": {
     "name": "#%%\n"
    }
   },
   "outputs": [
    {
     "data": {
      "text/plain": [
       "[('4507842',\n",
       "  '/article/4507842-ing-groep-nv-ing-ceo-steven-van-rijswijk-on-q1-2022-results-earnings-call-transcript'),\n",
       " ('4507754',\n",
       "  '/article/4507754-confluent-inc-cflt-ceo-jay-kreps-on-q1-2022-results-earnings-call-transcript')]"
      ]
     },
     "execution_count": 9,
     "metadata": {},
     "output_type": "execute_result"
    }
   ],
   "source": [
    "\n",
    "id_and_path_to_earning_calls = [ (earning_call_metada[\"id\"] ,earning_call_metada[\"links\"][\"self\"]) \n",
    "                     for earning_call_metada in api_data_response[\"data\"]]\n",
    "# \"\"check url\n",
    "id_and_path_to_earning_calls[0:2]"
   ]
  },
  {
   "cell_type": "markdown",
   "id": "65ac1b14",
   "metadata": {},
   "source": [
    "## download all not yet download html from url"
   ]
  },
  {
   "cell_type": "code",
   "execution_count": null,
   "id": "a9145a9c",
   "metadata": {
    "pycharm": {
     "name": "#%%\n"
    }
   },
   "outputs": [
    {
     "name": "stderr",
     "output_type": "stream",
     "text": [
      "100%|████████████████████████████████████████| 50/50 [00:00<00:00, 23234.57it/s]\n"
     ]
    },
    {
     "name": "stdout",
     "output_type": "stream",
     "text": [
      "Need to download 50 html file(s)\n"
     ]
    },
    {
     "name": "stderr",
     "output_type": "stream",
     "text": [
      " 22%|█████████▍                                 | 11/50 [00:05<00:19,  2.04it/s]"
     ]
    }
   ],
   "source": [
    "domain_name = 'https://seekingalpha.com'\n",
    "need_to_download = []\n",
    "for id_earning_call, path_to_earning_call in tqdm(id_and_path_to_earning_calls):\n",
    "    if not os.path.isfile(\"data/article/\"+ id_earning_call +\".html\"):\n",
    "        # not in local directory\n",
    "        need_to_download.append((id_earning_call, path_to_earning_call))\n",
    "print(f\"Need to download {len(need_to_download)} html file(s)\")\n",
    "for id_earning_call, path_to_earning_call in tqdm(need_to_download):\n",
    "    with open(\"data/article/\"+ id_earning_call+\".html\", \"x\") as file:\n",
    "            url = domain_name + path_to_earning_call\n",
    "            html_transcript = requests.get(url).text\n",
    "            file.write(html_transcript)\n",
    "    "
   ]
  },
  {
   "cell_type": "markdown",
   "id": "eb7ae426",
   "metadata": {},
   "source": [
    "## Check last file got downloaded, i.e. captcha/bot error "
   ]
  },
  {
   "cell_type": "code",
   "execution_count": null,
   "id": "d865d138",
   "metadata": {},
   "outputs": [],
   "source": [
    "BeautifulSoup(html_transcript).get_text()[:2000]"
   ]
  },
  {
   "cell_type": "code",
   "execution_count": null,
   "id": "8a0e7e4a",
   "metadata": {},
   "outputs": [],
   "source": []
  }
 ],
 "metadata": {
  "kernelspec": {
   "display_name": "Python 3 (ipykernel)",
   "language": "python",
   "name": "python3"
  },
  "language_info": {
   "codemirror_mode": {
    "name": "ipython",
    "version": 3
   },
   "file_extension": ".py",
   "mimetype": "text/x-python",
   "name": "python",
   "nbconvert_exporter": "python",
   "pygments_lexer": "ipython3",
   "version": "3.9.7"
  }
 },
 "nbformat": 4,
 "nbformat_minor": 5
}
