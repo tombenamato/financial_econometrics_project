{
 "cells": [
  {
   "cell_type": "code",
   "execution_count": 1,
   "id": "06adbad0",
   "metadata": {
    "pycharm": {
     "name": "#%%\n"
    }
   },
   "outputs": [],
   "source": [
    "#import the libraries as needed\n",
    "from selenium import webdriver\n",
    "from selenium import webdriver   # for webdriver\n",
    "from selenium.webdriver.support.ui import WebDriverWait  # for implicit and explict waits\n",
    "from selenium.webdriver.chrome.options import Options \n",
    "from selenium.webdriver.chrome.service import Service\n",
    "import pandas as pd\n",
    "import numpy as np\n",
    "import json\n",
    "from bs4 import BeautifulSoup\n",
    "import requests\n",
    "from tqdm import tqdm # to create loadbard in for loop\n",
    "import os.path\n",
    "import pickle"
   ]
  },
  {
   "cell_type": "code",
   "execution_count": 2,
   "id": "04f97e3e",
   "metadata": {
    "pycharm": {
     "name": "#%%\n"
    }
   },
   "outputs": [
    {
     "data": {
      "text/plain": [
       "'https://seekingalpha.com/api/v3/articles?cacheBuster=2022-04-28&filter[category]=earnings%3A%3Aearnings-call-transcripts&filter[since]=0&filter[until]=0&include=author%2CprimaryTickers%2CsecondaryTickers&isMounting=true&page[size]=100&page[number]=1'"
      ]
     },
     "execution_count": 2,
     "metadata": {},
     "output_type": "execute_result"
    }
   ],
   "source": [
    "# need to precise the option for date, nbr of metada for call transcript in the url paramater \n",
    "# https://en.wikipedia.org/wiki/Query_string\n",
    "nbr_earning_call_metada = 100\n",
    "date_of_request= \"2022-04-28\"\n",
    "url = \"https://seekingalpha.com/api/v3/articles\"+\"?cacheBuster=\"\\\n",
    "      +str(date_of_request)\\\n",
    "      +\"&filter[category]=earnings%3A%3Aearnings-call-transcripts&filter[since]=0\"\\\n",
    "      +\"&filter[until]=0&include=author%2CprimaryTickers%2CsecondaryTickers&isMounting=true&page[size]=\"\\\n",
    "      +str(nbr_earning_call_metada)\\\n",
    "      +\"&page[number]=1\"\n",
    "url"
   ]
  },
  {
   "cell_type": "code",
   "execution_count": 3,
   "id": "b55716b6",
   "metadata": {
    "pycharm": {
     "name": "#%%\n"
    }
   },
   "outputs": [
    {
     "name": "stderr",
     "output_type": "stream",
     "text": [
      "/home/thomas/miniconda3/lib/python3.7/site-packages/ipykernel_launcher.py:4: DeprecationWarning: executable_path has been deprecated, please pass in a Service object\n",
      "  after removing the cwd from sys.path.\n"
     ]
    }
   ],
   "source": [
    "# the chrome driver depend on which version of chrome you are running specify the good one\n",
    "executable_path = \"./chromedriver_linux\"\n",
    "option = webdriver.ChromeOptions()\n",
    "driver = webdriver.Chrome(executable_path= executable_path,options=option)\n",
    "driver.get(url)\n",
    "site_html = driver.page_source"
   ]
  },
  {
   "cell_type": "code",
   "execution_count": 4,
   "id": "0559f74f",
   "metadata": {
    "pycharm": {
     "name": "#%%\n"
    }
   },
   "outputs": [
    {
     "data": {
      "text/plain": [
       "'<html><head></head><body><pre style=\"word-wrap: break-word; white-space: pre-wrap;\">{\"data\":[{\"id\":\"4505020\",\"type\":\"transcript\",\"attributes\":{\"publishOn\":\"2022-04-29T07:53:10-04:00\",\"isLockedPro\":false,\"commentCount\":0,\"gettyImageUrl\":null,\"themes\":{},\"title\":\"Brookline Bancorp Inc. (BRKL) CEO Paul'"
      ]
     },
     "execution_count": 4,
     "metadata": {},
     "output_type": "execute_result"
    }
   ],
   "source": [
    "#a quick loock of the result to check if we get results are get captcha/bot error \n",
    "site_html[0:300]"
   ]
  },
  {
   "cell_type": "code",
   "execution_count": 5,
   "id": "0b32e316",
   "metadata": {
    "pycharm": {
     "name": "#%%\n"
    }
   },
   "outputs": [],
   "source": [
    "api_json_response = BeautifulSoup(site_html)\n",
    "api_data_response = json.loads(api_json_response.get_text())"
   ]
  },
  {
   "cell_type": "markdown",
   "id": "11a8fdb3",
   "metadata": {},
   "source": [
    "## API data response\n",
    "\n",
    "<pre>\n",
    "dict( \n",
    "    data : list(one element is one earning call metada)\n",
    "    included : \"don't care for now\"\n",
    "    meta : \"don't care for now\"\n",
    "        )\n",
    "<pre>\n",
    "One earning call metadata is show below "
   ]
  },
  {
   "cell_type": "code",
   "execution_count": 6,
   "id": "3a446e59",
   "metadata": {},
   "outputs": [
    {
     "data": {
      "text/plain": [
       "{'id': '4505020',\n",
       " 'type': 'transcript',\n",
       " 'attributes': {'publishOn': '2022-04-29T07:53:10-04:00',\n",
       "  'isLockedPro': False,\n",
       "  'commentCount': 0,\n",
       "  'gettyImageUrl': None,\n",
       "  'themes': {},\n",
       "  'title': 'Brookline Bancorp Inc. (BRKL) CEO Paul Perrault on Q1 2022 Results - Earnings Call Transcript'},\n",
       " 'relationships': {'author': {'data': {'id': '44211', 'type': 'author'}},\n",
       "  'sentiments': {'data': []},\n",
       "  'primaryTickers': {'data': [{'id': '3497', 'type': 'tag'}]},\n",
       "  'secondaryTickers': {'data': []},\n",
       "  'otherTags': {'data': [{'id': '96991', 'type': 'tag'},\n",
       "    {'id': '17862', 'type': 'tag'},\n",
       "    {'id': '49', 'type': 'tag'},\n",
       "    {'id': '326', 'type': 'tag'},\n",
       "    {'id': '17894', 'type': 'tag'}]}},\n",
       " 'links': {'self': '/article/4505020-brookline-bancorp-inc-brkl-ceo-paul-perrault-on-q1-2022-results-earnings-call-transcript'}}"
      ]
     },
     "execution_count": 6,
     "metadata": {},
     "output_type": "execute_result"
    }
   ],
   "source": [
    "api_data_response[\"data\"][0]"
   ]
  },
  {
   "cell_type": "code",
   "execution_count": 7,
   "id": "4481c6b2",
   "metadata": {
    "pycharm": {
     "name": "#%%\n"
    }
   },
   "outputs": [
    {
     "data": {
      "text/plain": [
       "['/article/4505020-brookline-bancorp-inc-brkl-ceo-paul-perrault-on-q1-2022-results-earnings-call-transcript',\n",
       " '/article/4504995-basf-se-basfy-ceo-martin-brudermuller-on-q1-2022-results-earnings-call-transcript']"
      ]
     },
     "execution_count": 7,
     "metadata": {},
     "output_type": "execute_result"
    }
   ],
   "source": [
    "\n",
    "path_to_earning_calls = [ earning_call_metada[\"links\"][\"self\"] \n",
    "                     for earning_call_metada in api_data_response[\"data\"]]\n",
    "# \"\"check url\n",
    "path_to_earning_calls[0:2]"
   ]
  },
  {
   "cell_type": "markdown",
   "id": "65ac1b14",
   "metadata": {},
   "source": [
    "## download all not yet download html from url"
   ]
  },
  {
   "cell_type": "code",
   "execution_count": 8,
   "id": "a9145a9c",
   "metadata": {
    "pycharm": {
     "name": "#%%\n"
    }
   },
   "outputs": [
    {
     "name": "stderr",
     "output_type": "stream",
     "text": [
      "100%|████████████████████████████████████████| 50/50 [00:00<00:00, 16024.70it/s]\n"
     ]
    },
    {
     "name": "stdout",
     "output_type": "stream",
     "text": [
      "Need to download 46 html file(s)\n"
     ]
    },
    {
     "name": "stderr",
     "output_type": "stream",
     "text": [
      "100%|███████████████████████████████████████████| 46/46 [00:30<00:00,  1.49it/s]\n"
     ]
    }
   ],
   "source": [
    "domain_name = 'https://seekingalpha.com'\n",
    "need_to_download = []\n",
    "for path_to_earning_call in tqdm(path_to_earning_calls):\n",
    "    if not os.path.isfile(\"data\"+ path_to_earning_call+\".html\"):\n",
    "        # not in local directory\n",
    "        need_to_download.append(path_to_earning_call)\n",
    "print(f\"Need to download {len(need_to_download)} html file(s)\")\n",
    "for path_to_earning_call in tqdm(need_to_download):\n",
    "    with open(\"data\"+ path_to_earning_call+\".html\", \"xb\") as file:\n",
    "            url = domain_name + path_to_earning_call\n",
    "            html_transcript = requests.get(url).text\n",
    "            pickle.dump(html_transcript, file)\n",
    "    "
   ]
  },
  {
   "cell_type": "markdown",
   "id": "eb7ae426",
   "metadata": {},
   "source": [
    "## Check last file got downloaded, i.e. captcha/bot error "
   ]
  },
  {
   "cell_type": "code",
   "execution_count": 16,
   "id": "d865d138",
   "metadata": {},
   "outputs": [
    {
     "data": {
      "text/plain": [
       "\"McGrath RentCorp's (MGRC) CEO Joe Hanna on Q1 2022 Results - Earnings Call Transcript | Seeking Alpha                    Seeking Alpha - Go to HomepageTrendingMy PortfolioMy AuthorsTop StocksLatest NewsMarketsStock IdeasDividendsETFsEducationWatch & ListenTranscriptsServicesMcGrath RentCorp's (MGRC) CEO Joe Hanna on Q1 2022 Results - Earnings Call TranscriptApr. 28, 2022 9:13 PM ETMcGrath RentCorp (MGRC)SA Transcripts126.02K FollowersFollowMcGrath RentCorp (NASDAQ:MGRC) Q1 2022 Earnings Conference Call April 28, 2022 5:00 PM ET Company Participants Joe Hanna - Chief Executive Officer Keith Pratt - Chief Financial Officer Conference Call Participants Scott Schneeberger - Oppenheimer Operator Ladies and gentlemen, thank you for standing by. Welcome to the McGrath RentCorp First Quarter 2022 Earnings Conference call. At this time, all conference participants are in a listen-only mode. Later we will conduct a question-and-answer session. [Operator Instructions] This conference is being recorded today, Thursday, April 28, 2022. Before we begin, note that the matters the company management will be discussing today are not statements of historical facts or forward-looking statements within the meaning of the Private Securities Litigation Reform Act of 1995, including statements regarding our full year 2022 financial outlook, as well as statements relating to the company’s expectations, strategies, prospects or targets. These forward-looking statements are not guarantees of future performance and involve significant risks and uncertainties that could cause our actual results to differ materially from those projected. Important factors that could cause actual results to differ materially from the company’s expectations are disclosed under Risk Factors in the company’s Form 10-Q and other SEC filings. Forward-looking statements are made only as of the date hereof. Except as otherwise required by law, we assume no obligation to update any forward-looking statements. In additio\""
      ]
     },
     "execution_count": 16,
     "metadata": {},
     "output_type": "execute_result"
    }
   ],
   "source": [
    "BeautifulSoup(html_transcript).get_text()[:2000]"
   ]
  },
  {
   "cell_type": "code",
   "execution_count": null,
   "id": "49f085d7",
   "metadata": {},
   "outputs": [],
   "source": []
  }
 ],
 "metadata": {
  "kernelspec": {
   "display_name": "Python 3 (ipykernel)",
   "language": "python",
   "name": "python3"
  },
  "language_info": {
   "codemirror_mode": {
    "name": "ipython",
    "version": 3
   },
   "file_extension": ".py",
   "mimetype": "text/x-python",
   "name": "python",
   "nbconvert_exporter": "python",
   "pygments_lexer": "ipython3",
   "version": "3.7.11"
  }
 },
 "nbformat": 4,
 "nbformat_minor": 5
}
