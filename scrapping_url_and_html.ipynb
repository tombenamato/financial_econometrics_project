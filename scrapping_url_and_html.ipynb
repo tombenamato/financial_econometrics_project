{
 "cells": [
  {
   "cell_type": "code",
   "execution_count": 1,
   "id": "06adbad0",
   "metadata": {
    "pycharm": {
     "name": "#%%\n"
    }
   },
   "outputs": [],
   "source": [
    "#import the libraries as needed\n",
    "from selenium import webdriver\n",
    "from selenium import webdriver   # for webdriver\n",
    "from selenium.webdriver.support.ui import WebDriverWait  # for implicit and explict waits\n",
    "from selenium.webdriver.chrome.options import Options \n",
    "from selenium.webdriver.chrome.service import Service\n",
    "from selenium.webdriver.common.by import By\n",
    "import numpy as np\n",
    "import json\n",
    "from bs4 import BeautifulSoup\n",
    "import requests\n",
    "from tqdm import tqdm # to create loadbard in for loop\n",
    "import os\n",
    "from datetime import date"
   ]
  },
  {
   "cell_type": "markdown",
   "id": "c70df0f8",
   "metadata": {},
   "source": [
    "## API data response\n",
    "\n",
    "<pre>\n",
    "dict( \n",
    "    data : list(one element is one earning call metada)\n",
    "    included : \"don't care for now\"\n",
    "    meta : \"don't care for now\"\n",
    "        )\n",
    "</pre>\n",
    "One earning call metadata is show below "
   ]
  },
  {
   "cell_type": "code",
   "execution_count": 2,
   "id": "04f97e3e",
   "metadata": {
    "pycharm": {
     "name": "#%%\n"
    }
   },
   "outputs": [
    {
     "name": "stdout",
     "output_type": "stream",
     "text": [
      "https://seekingalpha.com/api/v3/articles?cacheBuster=2022-05-09&filter[category]=earnings%3A%3Aearnings-call-transcripts&filter[since]=0&filter[until]=0&include=author%2CprimaryTickers%2CsecondaryTickers&isMounting=true&page[size]=50&page[number]=8\n",
      "{\"data\":[{\"id\":\"4508470\",\"type\":\"transcript\",\"attributes\":{\"publishOn\":\"2022-05-07T13:14:02-04:00\",\"\n"
     ]
    }
   ],
   "source": [
    "# need to precise the option for date, nbr of metada for call transcript in the url paramater \n",
    "# https://en.wikipedia.org/wiki/Query_string\n",
    "nbr_earning_call_metada = 400\n",
    "date_of_request = date.today().strftime(\"%Y-%m-%d\") #e.g. \"2022-04-28\"\n",
    "max_return_per_request = 50\n",
    "api_data_responses = []\n",
    "for page_number in range(1,nbr_earning_call_metada//max_return_per_request + 1):\n",
    "    url = \"https://seekingalpha.com/api/v3/articles\"+\"?cacheBuster=\"\\\n",
    "          +str(date_of_request)\\\n",
    "          +\"&filter[category]=earnings%3A%3Aearnings-call-transcripts&filter[since]=0\"\\\n",
    "          +\"&filter[until]=0&include=author%2CprimaryTickers%2CsecondaryTickers&isMounting=true&page[size]=\"\\\n",
    "          +str(max_return_per_request)\\\n",
    "          +\"&page[number]=\"+str(page_number)\n",
    "    # the chrome driver depend on which version of chrome you are running specify the good one\n",
    "    executable_path = \"./chromedriver_linux\"\n",
    "    service = Service(executable_path)\n",
    "    option = webdriver.ChromeOptions()\n",
    "    driver = webdriver.Chrome(service=service,options=option)\n",
    "    driver.get(url)\n",
    "    api_json_response = driver.find_element(by=By.TAG_NAME, value = \"body\").text\n",
    "    api_data_responses.extend(json.loads(api_json_response)[\"data\"])\n",
    "print(url)\n",
    "#a quick loock of the result to check if we get results are get captcha/bot error \n",
    "print(api_json_response[0:100])"
   ]
  },
  {
   "cell_type": "code",
   "execution_count": 3,
   "id": "3a446e59",
   "metadata": {},
   "outputs": [
    {
     "data": {
      "text/plain": [
       "{'id': '4508949',\n",
       " 'type': 'transcript',\n",
       " 'attributes': {'publishOn': '2022-05-09T06:41:05-04:00',\n",
       "  'isLockedPro': False,\n",
       "  'commentCount': 0,\n",
       "  'gettyImageUrl': None,\n",
       "  'themes': {},\n",
       "  'title': 'Sprague Resources LP (SRLP) CEO David Glendon on Q1 2022 Results - Earnings Call Transcript'},\n",
       " 'relationships': {'author': {'data': {'id': '44211', 'type': 'author'}},\n",
       "  'sentiments': {'data': []},\n",
       "  'primaryTickers': {'data': [{'id': '113512', 'type': 'tag'}]},\n",
       "  'secondaryTickers': {'data': []},\n",
       "  'otherTags': {'data': [{'id': '96991', 'type': 'tag'},\n",
       "    {'id': '17810', 'type': 'tag'},\n",
       "    {'id': '49', 'type': 'tag'},\n",
       "    {'id': '586376', 'type': 'tag'},\n",
       "    {'id': '326', 'type': 'tag'},\n",
       "    {'id': '17823', 'type': 'tag'}]}},\n",
       " 'links': {'self': '/article/4508949-sprague-resources-lp-srlp-ceo-david-glendon-on-q1-2022-results-earnings-call-transcript'}}"
      ]
     },
     "execution_count": 3,
     "metadata": {},
     "output_type": "execute_result"
    }
   ],
   "source": [
    "api_data_responses[0]"
   ]
  },
  {
   "cell_type": "code",
   "execution_count": 4,
   "id": "4481c6b2",
   "metadata": {
    "pycharm": {
     "name": "#%%\n"
    }
   },
   "outputs": [
    {
     "data": {
      "text/plain": [
       "[('4508949',\n",
       "  '/article/4508949-sprague-resources-lp-srlp-ceo-david-glendon-on-q1-2022-results-earnings-call-transcript'),\n",
       " ('4508948',\n",
       "  '/article/4508948-american-financial-group-inc-afg-q1-2022-results-earnings-call-transcript')]"
      ]
     },
     "execution_count": 4,
     "metadata": {},
     "output_type": "execute_result"
    }
   ],
   "source": [
    "\n",
    "id_and_path_to_earning_calls = [ (earning_call_metada[\"id\"] ,earning_call_metada[\"links\"][\"self\"]) \n",
    "                     for earning_call_metada in api_data_responses]\n",
    "# \"\"check url\n",
    "id_and_path_to_earning_calls[0:2]"
   ]
  },
  {
   "cell_type": "markdown",
   "id": "65ac1b14",
   "metadata": {},
   "source": [
    "## download all not yet download html from url"
   ]
  },
  {
   "cell_type": "code",
   "execution_count": 8,
   "id": "a9145a9c",
   "metadata": {
    "pycharm": {
     "name": "#%%\n"
    }
   },
   "outputs": [
    {
     "name": "stdout",
     "output_type": "stream",
     "text": [
      "The new directory is created!\n"
     ]
    },
    {
     "name": "stderr",
     "output_type": "stream",
     "text": [
      "100%|██████████████████████████████████████| 400/400 [00:00<00:00, 31335.85it/s]\n"
     ]
    },
    {
     "name": "stdout",
     "output_type": "stream",
     "text": [
      "Need to download 400 html file(s)\n"
     ]
    },
    {
     "name": "stderr",
     "output_type": "stream",
     "text": [
      "100%|█████████████████████████████████████████| 400/400 [04:31<00:00,  1.48it/s]\n"
     ]
    }
   ],
   "source": [
    "domain_name = 'https://seekingalpha.com'\n",
    "data_path = \"data/article\"\n",
    "need_to_download = []\n",
    "if not os.path.exists(data_path):\n",
    "    os.makedirs(data_path)\n",
    "    print(\"The new directory is created!\")\n",
    "for id_earning_call, path_to_earning_call in tqdm(id_and_path_to_earning_calls):\n",
    "    if not os.path.isfile(data_path+\"/\"+ id_earning_call +\".html\"):\n",
    "        # not in local directory\n",
    "        need_to_download.append((id_earning_call, path_to_earning_call))\n",
    "print(f\"Need to download {len(need_to_download)} html file(s)\")\n",
    "for id_earning_call, path_to_earning_call in tqdm(need_to_download):\n",
    "    with open(data_path+\"/\"+ id_earning_call+\".html\", \"x\") as file:\n",
    "            url = domain_name + path_to_earning_call\n",
    "            html_transcript = requests.get(url).text\n",
    "            file.write(html_transcript)\n",
    "    "
   ]
  },
  {
   "cell_type": "markdown",
   "id": "eb7ae426",
   "metadata": {},
   "source": [
    "## Check last file got downloaded, i.e. captcha/bot error "
   ]
  },
  {
   "cell_type": "code",
   "execution_count": 9,
   "id": "d865d138",
   "metadata": {},
   "outputs": [
    {
     "data": {
      "text/plain": [
       "\"Backblaze Inc. (BLZE) CEO Gleb Budman on Q1 2022 Results - Earnings Call Transcript | Seeking Alpha                    Seeking Alpha - Go to HomepageTrendingMy PortfolioMy AuthorsTop StocksLatest NewsMarketsStock IdeasDividendsETFsEducationWatch & ListenTranscriptsTechnologyBackblaze Inc. (BLZE) CEO Gleb Budman on Q1 2022 Results - Earnings Call TranscriptMay 07, 2022 8:46 AM ETBackblaze, Inc. (BLZE)SA Transcripts126.58K FollowersFollowBackblaze, Inc. (NASDAQ:BLZE) Q1 2022 Earnings Conference Call May 5, 2022 4:30 PM ET Company Participants James Kisner – Vice President of Investor Relations Gleb Budman – Co-Founder, Chief Executive Officer & Chairperson Frank Patchel – Chief Financial Officer Conference Call Participants Ittai Kidron – Oppenheimer Erik Suppiger – JMP Securities Eric Martinuzzi – Lake Street Capital Billy Fitzsimmons – William Blair Zach Cummins – B. Riley Operator Good afternoon, ladies and gentlemen, thank you for standing by. And welcome to Backblaze's First Quarter Fiscal Year 2022 Earnings Conference Call. At this time all participants are in a listen-only mode. After the speaker's presentation, there will be a question-and-answer session. [Operator Instructions] I would now like to turn the conference over to your speaker host, James Kisner, Vice President of Investor Relations. Please go ahead. James Kisner Thank you, and good afternoon, and welcome to Backblaze's first quarter of fiscal year 2022 earnings call. On the call with me today are Gleb Budman, Co-Founder, CEO and Chairperson of the Board; and Frank Patchel, Chief Financial Officer. Today Backblaze will discuss the financial results that were distributed earlier this afternoon. Statements on this call include forward-looking statements that include our future financial results, use of our IPO proceeds, results from new product and partner announcements, our ability to compete effectively, acquiring new customers in retain and expand our business with existing customers, hiring and r\""
      ]
     },
     "execution_count": 9,
     "metadata": {},
     "output_type": "execute_result"
    }
   ],
   "source": [
    "BeautifulSoup(html_transcript).get_text()[:2000]"
   ]
  },
  {
   "cell_type": "code",
   "execution_count": null,
   "id": "8a0e7e4a",
   "metadata": {},
   "outputs": [],
   "source": []
  }
 ],
 "metadata": {
  "kernelspec": {
   "display_name": "Python 3 (ipykernel)",
   "language": "python",
   "name": "python3"
  },
  "language_info": {
   "codemirror_mode": {
    "name": "ipython",
    "version": 3
   },
   "file_extension": ".py",
   "mimetype": "text/x-python",
   "name": "python",
   "nbconvert_exporter": "python",
   "pygments_lexer": "ipython3",
   "version": "3.7.11"
  }
 },
 "nbformat": 4,
 "nbformat_minor": 5
}
