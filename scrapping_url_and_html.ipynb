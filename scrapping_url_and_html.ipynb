{
 "cells": [
  {
   "cell_type": "code",
   "execution_count": 1,
   "id": "06adbad0",
   "metadata": {
    "pycharm": {
     "name": "#%%\n"
    }
   },
   "outputs": [],
   "source": [
    "#import the libraries as needed\n",
    "from selenium import webdriver\n",
    "from selenium import webdriver   # for webdriver\n",
    "from selenium.webdriver.support.ui import WebDriverWait  # for implicit and explict waits\n",
    "from selenium.webdriver.chrome.options import Options \n",
    "from selenium.webdriver.chrome.service import Service\n",
    "import numpy as np\n",
    "import json\n",
    "from bs4 import BeautifulSoup\n",
    "import requests\n",
    "from tqdm import tqdm # to create loadbard in for loop\n",
    "import os.path"
   ]
  },
  {
   "cell_type": "code",
   "execution_count": 2,
   "id": "04f97e3e",
   "metadata": {
    "pycharm": {
     "name": "#%%\n"
    }
   },
   "outputs": [
    {
     "data": {
      "text/plain": [
       "'https://seekingalpha.com/api/v3/articles?cacheBuster=2022-04-28&filter[category]=earnings%3A%3Aearnings-call-transcripts&filter[since]=0&filter[until]=0&include=author%2CprimaryTickers%2CsecondaryTickers&isMounting=true&page[size]=200&page[number]=1'"
      ]
     },
     "execution_count": 2,
     "metadata": {},
     "output_type": "execute_result"
    }
   ],
   "source": [
    "# need to precise the option for date, nbr of metada for call transcript in the url paramater \n",
    "# https://en.wikipedia.org/wiki/Query_string\n",
    "nbr_earning_call_metada = 200 # I think 50 is max but can easyily be adapted, with for loop or something like that\n",
    "date_of_request= \"2022-04-28\"\n",
    "url = \"https://seekingalpha.com/api/v3/articles\"+\"?cacheBuster=\"\\\n",
    "      +str(date_of_request)\\\n",
    "      +\"&filter[category]=earnings%3A%3Aearnings-call-transcripts&filter[since]=0\"\\\n",
    "      +\"&filter[until]=0&include=author%2CprimaryTickers%2CsecondaryTickers&isMounting=true&page[size]=\"\\\n",
    "      +str(nbr_earning_call_metada)\\\n",
    "      +\"&page[number]=1\"\n",
    "url"
   ]
  },
  {
   "cell_type": "code",
   "execution_count": 3,
   "id": "b55716b6",
   "metadata": {
    "pycharm": {
     "name": "#%%\n"
    }
   },
   "outputs": [
    {
     "name": "stderr",
     "output_type": "stream",
     "text": [
      "/home/thomas/miniconda3/lib/python3.7/site-packages/ipykernel_launcher.py:4: DeprecationWarning: executable_path has been deprecated, please pass in a Service object\n",
      "  after removing the cwd from sys.path.\n"
     ]
    },
    {
     "name": "stdout",
     "output_type": "stream",
     "text": [
      "{\"data\":[{\"id\":\"4505164\",\"type\":\"transcript\",\"attributes\":{\"publishOn\":\"2022-04-29T12:05:23-04:00\",\"\n"
     ]
    },
    {
     "name": "stderr",
     "output_type": "stream",
     "text": [
      "/home/thomas/miniconda3/lib/python3.7/site-packages/ipykernel_launcher.py:6: DeprecationWarning: find_element_by_tag_name is deprecated. Please use find_element(by=By.TAG_NAME, value=name) instead\n",
      "  \n"
     ]
    }
   ],
   "source": [
    "# the chrome driver depend on which version of chrome you are running specify the good one\n",
    "executable_path = \"./chromedriver_linux\"\n",
    "option = webdriver.ChromeOptions()\n",
    "driver = webdriver.Chrome(executable_path= executable_path,options=option)\n",
    "driver.get(url)\n",
    "api_json_response = driver.find_element_by_tag_name(\"body\").text\n",
    "#a quick loock of the result to check if we get results are get captcha/bot error \n",
    "\n",
    "print(api_json_response[0:100])\n",
    "api_data_response = json.loads(api_json_response)"
   ]
  },
  {
   "cell_type": "markdown",
   "id": "11a8fdb3",
   "metadata": {},
   "source": [
    "## API data response\n",
    "\n",
    "<pre>\n",
    "dict( \n",
    "    data : list(one element is one earning call metada)\n",
    "    included : \"don't care for now\"\n",
    "    meta : \"don't care for now\"\n",
    "        )\n",
    "<pre>\n",
    "One earning call metadata is show below "
   ]
  },
  {
   "cell_type": "code",
   "execution_count": 4,
   "id": "3a446e59",
   "metadata": {},
   "outputs": [
    {
     "data": {
      "text/plain": [
       "{'id': '4505164',\n",
       " 'type': 'transcript',\n",
       " 'attributes': {'publishOn': '2022-04-29T12:05:23-04:00',\n",
       "  'isLockedPro': False,\n",
       "  'commentCount': 0,\n",
       "  'gettyImageUrl': None,\n",
       "  'themes': {},\n",
       "  'title': 'Ranger Energy Services, Inc. (RNGR) CEO Stuart Bodden on Q1 2022 Results - Earnings Call Transcript'},\n",
       " 'relationships': {'author': {'data': {'id': '44211', 'type': 'author'}},\n",
       "  'sentiments': {'data': []},\n",
       "  'primaryTickers': {'data': [{'id': '575157', 'type': 'tag'}]},\n",
       "  'secondaryTickers': {'data': []},\n",
       "  'otherTags': {'data': [{'id': '96991', 'type': 'tag'},\n",
       "    {'id': '17810', 'type': 'tag'},\n",
       "    {'id': '49', 'type': 'tag'},\n",
       "    {'id': '326', 'type': 'tag'},\n",
       "    {'id': '17820', 'type': 'tag'}]}},\n",
       " 'links': {'self': '/article/4505164-ranger-energy-services-inc-rngr-ceo-stuart-bodden-on-q1-2022-results-earnings-call-transcript'}}"
      ]
     },
     "execution_count": 4,
     "metadata": {},
     "output_type": "execute_result"
    }
   ],
   "source": [
    "api_data_response[\"data\"][0]"
   ]
  },
  {
   "cell_type": "code",
   "execution_count": 5,
   "id": "4481c6b2",
   "metadata": {
    "pycharm": {
     "name": "#%%\n"
    }
   },
   "outputs": [
    {
     "data": {
      "text/plain": [
       "[('4505164',\n",
       "  '/article/4505164-ranger-energy-services-inc-rngr-ceo-stuart-bodden-on-q1-2022-results-earnings-call-transcript'),\n",
       " ('4505156',\n",
       "  '/article/4505156-midland-states-bancorp-inc-msbi-ceo-jeff-ludwig-on-q1-2022-earnings-call-transcript')]"
      ]
     },
     "execution_count": 5,
     "metadata": {},
     "output_type": "execute_result"
    }
   ],
   "source": [
    "\n",
    "id_and_path_to_earning_calls = [ (earning_call_metada[\"id\"] ,earning_call_metada[\"links\"][\"self\"]) \n",
    "                     for earning_call_metada in api_data_response[\"data\"]]\n",
    "# \"\"check url\n",
    "id_and_path_to_earning_calls[0:2]"
   ]
  },
  {
   "cell_type": "markdown",
   "id": "65ac1b14",
   "metadata": {},
   "source": [
    "## download all not yet download html from url"
   ]
  },
  {
   "cell_type": "code",
   "execution_count": 6,
   "id": "a9145a9c",
   "metadata": {
    "pycharm": {
     "name": "#%%\n"
    }
   },
   "outputs": [
    {
     "name": "stderr",
     "output_type": "stream",
     "text": [
      "100%|██████████████████████████████████████████████████████████████████████████████████████████████████████████████████████████████████████████████████████████████████████████████████████████████████████████████████████████████████████| 50/50 [00:00<00:00, 183317.48it/s]\n"
     ]
    },
    {
     "name": "stdout",
     "output_type": "stream",
     "text": [
      "Need to download 7 html file(s)\n"
     ]
    },
    {
     "name": "stderr",
     "output_type": "stream",
     "text": [
      "100%|████████████████████████████████████████████████████████████████████████████████████████████████████████████████████████████████████████████████████████████████████████████████████████████████████████████████████████████████████████████| 7/7 [00:01<00:00,  3.66it/s]\n"
     ]
    }
   ],
   "source": [
    "domain_name = 'https://seekingalpha.com'\n",
    "need_to_download = []\n",
    "for id_earning_call, path_to_earning_call in tqdm(id_and_path_to_earning_calls):\n",
    "    if not os.path.isfile(\"data/article/\"+ id_earning_call +\".html\"):\n",
    "        # not in local directory\n",
    "        need_to_download.append((id_earning_call, path_to_earning_call))\n",
    "print(f\"Need to download {len(need_to_download)} html file(s)\")\n",
    "for id_earning_call, path_to_earning_call in tqdm(need_to_download):\n",
    "    with open(\"data/article/\"+ id_earning_call+\".html\", \"x\") as file:\n",
    "            url = domain_name + path_to_earning_call\n",
    "            html_transcript = requests.get(url).text\n",
    "            file.write(html_transcript)\n",
    "    "
   ]
  },
  {
   "cell_type": "markdown",
   "id": "eb7ae426",
   "metadata": {},
   "source": [
    "## Check last file got downloaded, i.e. captcha/bot error "
   ]
  },
  {
   "cell_type": "code",
   "execution_count": 7,
   "id": "d865d138",
   "metadata": {},
   "outputs": [
    {
     "data": {
      "text/plain": [
       "'L3Harris Technologies, Inc. (LHX) CEO Chris Kubasik on Q1 2022 Results - Earnings Call Transcript | Seeking Alpha                    Seeking Alpha - Go to HomepageTrendingMy PortfolioMy AuthorsTop StocksLatest NewsMarketsStock IdeasDividendsETFsEducationWatch & ListenTranscriptsIndustrialL3Harris Technologies, Inc. (LHX) CEO Chris Kubasik on Q1 2022 Results - Earnings Call TranscriptApr. 29, 2022 11:41 AM ETL3Harris Technologies, Inc. (LHX)SA Transcripts126.04K FollowersFollowL3Harris Technologies, Inc. (NYSE:LHX) Q1 2022 Earnings Conference Call April 29, 2022 8:30 AM ET Company Participants Rajeev Lalwani - VP of IR Chris Kubasik - VC and CEO Michelle Turner - CFO Conference Call Participants Robert Spingarn - Melius Research  Sheila Kahyaoglu - Jefferies  Robert Stallard - Vertical Research Partners Gautam Khanna - Cowen and Company Peter Arment - Baird  Doug Harned - Bernstein  Richard Safran - Seaport Research Partners  David Strauss - Barclays Bank  Michael Ciarmoli - Truist Securities Operator Greetings. Welcome to the L3Harris Technologies First Quarter Calendar Year 2022 Earnings Call. At this time, all participants are in listen-only mode. Today’s call will be focused on questions-and-answers following brief opening remarks. [Operator Instructions] As a reminder, this conference call is being recorded. It is now my pleasure to introduce your host, Rajeev Lalwani, Vice President of Investor Relations. You may now begin. Rajeev Lalwani Thank you, Rob. Good morning, and welcome to our first quarter 2022 earnings call. On the call with me today are Chris Kubasik, our CEO; and Michelle Turner, our CFO. First, a few words on forward-looking statements and non-GAAP measures. Forward-looking statements involve risks, assumptions and uncertainties that could cause actual results to differ materially. For more information, please see our investor letter and SEC filings. A reconciliation of non-GAAP financial measures to comparable GAAP measures is included in the In'"
      ]
     },
     "execution_count": 7,
     "metadata": {},
     "output_type": "execute_result"
    }
   ],
   "source": [
    "BeautifulSoup(html_transcript).get_text()[:2000]"
   ]
  },
  {
   "cell_type": "code",
   "execution_count": null,
   "id": "8a0e7e4a",
   "metadata": {},
   "outputs": [],
   "source": []
  }
 ],
 "metadata": {
  "kernelspec": {
   "display_name": "Python 3 (ipykernel)",
   "language": "python",
   "name": "python3"
  },
  "language_info": {
   "codemirror_mode": {
    "name": "ipython",
    "version": 3
   },
   "file_extension": ".py",
   "mimetype": "text/x-python",
   "name": "python",
   "nbconvert_exporter": "python",
   "pygments_lexer": "ipython3",
   "version": "3.7.11"
  }
 },
 "nbformat": 4,
 "nbformat_minor": 5
}
