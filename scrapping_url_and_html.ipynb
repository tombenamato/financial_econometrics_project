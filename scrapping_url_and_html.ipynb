{
 "cells": [
  {
   "cell_type": "code",
   "execution_count": 1,
   "id": "06adbad0",
   "metadata": {
    "pycharm": {
     "name": "#%%\n"
    }
   },
   "outputs": [],
   "source": [
    "#import the libraries as needed\n",
    "from selenium import webdriver\n",
    "from selenium import webdriver   # for webdriver\n",
    "from selenium.webdriver.support.ui import WebDriverWait  # for implicit and explict waits\n",
    "from selenium.webdriver.chrome.options import Options \n",
    "from selenium.webdriver.chrome.service import Service\n",
    "from selenium.webdriver.common.by import By\n",
    "import numpy as np\n",
    "import json\n",
    "from bs4 import BeautifulSoup\n",
    "import requests\n",
    "from tqdm import tqdm # to create loadbard in for loop\n",
    "import os.path"
   ]
  },
  {
   "cell_type": "code",
   "execution_count": 2,
   "id": "04f97e3e",
   "metadata": {
    "pycharm": {
     "name": "#%%\n"
    }
   },
   "outputs": [
    {
     "data": {
      "text/plain": [
       "'https://seekingalpha.com/api/v3/articles?cacheBuster=2022-04-28&filter[category]=earnings%3A%3Aearnings-call-transcripts&filter[since]=0&filter[until]=0&include=author%2CprimaryTickers%2CsecondaryTickers&isMounting=true&page[size]=50&page[number]=1'"
      ]
     },
     "execution_count": 2,
     "metadata": {},
     "output_type": "execute_result"
    }
   ],
   "source": [
    "# need to precise the option for date, nbr of metada for call transcript in the url paramater \n",
    "# https://en.wikipedia.org/wiki/Query_string\n",
    "nbr_earning_call_metada = 50 # I think 50 is max but can easyily be adapted, with for loop or something like that\n",
    "date_of_request= \"2022-04-28\"\n",
    "url = \"https://seekingalpha.com/api/v3/articles\"+\"?cacheBuster=\"\\\n",
    "      +str(date_of_request)\\\n",
    "      +\"&filter[category]=earnings%3A%3Aearnings-call-transcripts&filter[since]=0\"\\\n",
    "      +\"&filter[until]=0&include=author%2CprimaryTickers%2CsecondaryTickers&isMounting=true&page[size]=\"\\\n",
    "      +str(nbr_earning_call_metada)\\\n",
    "      +\"&page[number]=1\"\n",
    "url"
   ]
  },
  {
   "cell_type": "code",
   "execution_count": 3,
   "id": "b55716b6",
   "metadata": {
    "pycharm": {
     "name": "#%%\n"
    }
   },
   "outputs": [
    {
     "name": "stdout",
     "output_type": "stream",
     "text": [
      "{\"data\":[{\"id\":\"4505479\",\"type\":\"transcript\",\"attributes\":{\"publishOn\":\"2022-04-30T05:14:02-04:00\",\"\n"
     ]
    }
   ],
   "source": [
    "# the chrome driver depend on which version of chrome you are running specify the good one\n",
    "executable_path = \"./chromedriver_linux\"\n",
    "service = Service(executable_path)\n",
    "option = webdriver.ChromeOptions()\n",
    "driver = webdriver.Chrome(service=service,options=option)\n",
    "driver.get(url)\n",
    "api_json_response = driver.find_element(by=By.TAG_NAME, value = \"body\").text\n",
    "#a quick loock of the result to check if we get results are get captcha/bot error \n",
    "\n",
    "print(api_json_response[0:100])\n",
    "api_data_response = json.loads(api_json_response)"
   ]
  },
  {
   "cell_type": "markdown",
   "id": "11a8fdb3",
   "metadata": {},
   "source": [
    "## API data response\n",
    "\n",
    "<pre>\n",
    "dict( \n",
    "    data : list(one element is one earning call metada)\n",
    "    included : \"don't care for now\"\n",
    "    meta : \"don't care for now\"\n",
    "        )\n",
    "</pre>\n",
    "One earning call metadata is show below "
   ]
  },
  {
   "cell_type": "code",
   "execution_count": 4,
   "id": "3a446e59",
   "metadata": {},
   "outputs": [
    {
     "data": {
      "text/plain": [
       "{'id': '4505479',\n",
       " 'type': 'transcript',\n",
       " 'attributes': {'publishOn': '2022-04-30T05:14:02-04:00',\n",
       "  'isLockedPro': False,\n",
       "  'commentCount': 0,\n",
       "  'gettyImageUrl': None,\n",
       "  'themes': {},\n",
       "  'title': 'Banco Santander-Chile (BSAC) Management On Q1 2022 Results - Earnings Call Transcript'},\n",
       " 'relationships': {'author': {'data': {'id': '44211', 'type': 'author'}},\n",
       "  'sentiments': {'data': []},\n",
       "  'primaryTickers': {'data': [{'id': '3524', 'type': 'tag'}]},\n",
       "  'secondaryTickers': {'data': []},\n",
       "  'otherTags': {'data': [{'id': '96991', 'type': 'tag'},\n",
       "    {'id': '17862', 'type': 'tag'},\n",
       "    {'id': '49', 'type': 'tag'},\n",
       "    {'id': '586376', 'type': 'tag'},\n",
       "    {'id': '18044', 'type': 'tag'},\n",
       "    {'id': '17876', 'type': 'tag'}]}},\n",
       " 'links': {'self': '/article/4505479-banco-santander-chile-bsac-management-on-q1-2022-results-earnings-call-transcript'}}"
      ]
     },
     "execution_count": 4,
     "metadata": {},
     "output_type": "execute_result"
    }
   ],
   "source": [
    "api_data_response[\"data\"][0]"
   ]
  },
  {
   "cell_type": "code",
   "execution_count": 5,
   "id": "4481c6b2",
   "metadata": {
    "pycharm": {
     "name": "#%%\n"
    }
   },
   "outputs": [
    {
     "data": {
      "text/plain": [
       "[('4505479',\n",
       "  '/article/4505479-banco-santander-chile-bsac-management-on-q1-2022-results-earnings-call-transcript'),\n",
       " ('4505475',\n",
       "  '/article/4505475-loyalty-ventures-lylt-ceo-charles-horn-on-q1-2022-results-earnings-call-transcript')]"
      ]
     },
     "execution_count": 5,
     "metadata": {},
     "output_type": "execute_result"
    }
   ],
   "source": [
    "\n",
    "id_and_path_to_earning_calls = [ (earning_call_metada[\"id\"] ,earning_call_metada[\"links\"][\"self\"]) \n",
    "                     for earning_call_metada in api_data_response[\"data\"]]\n",
    "# \"\"check url\n",
    "id_and_path_to_earning_calls[0:2]"
   ]
  },
  {
   "cell_type": "markdown",
   "id": "65ac1b14",
   "metadata": {},
   "source": [
    "## download all not yet download html from url"
   ]
  },
  {
   "cell_type": "code",
   "execution_count": 6,
   "id": "a9145a9c",
   "metadata": {
    "pycharm": {
     "name": "#%%\n"
    }
   },
   "outputs": [
    {
     "name": "stderr",
     "output_type": "stream",
     "text": [
      "100%|████████████████████████████████████████| 50/50 [00:00<00:00, 39038.57it/s]\n"
     ]
    },
    {
     "name": "stdout",
     "output_type": "stream",
     "text": [
      "Need to download 50 html file(s)\n"
     ]
    },
    {
     "name": "stderr",
     "output_type": "stream",
     "text": [
      "100%|███████████████████████████████████████████| 50/50 [00:33<00:00,  1.49it/s]\n"
     ]
    }
   ],
   "source": [
    "domain_name = 'https://seekingalpha.com'\n",
    "need_to_download = []\n",
    "for id_earning_call, path_to_earning_call in tqdm(id_and_path_to_earning_calls):\n",
    "    if not os.path.isfile(\"data/article/\"+ id_earning_call +\".html\"):\n",
    "        # not in local directory\n",
    "        need_to_download.append((id_earning_call, path_to_earning_call))\n",
    "print(f\"Need to download {len(need_to_download)} html file(s)\")\n",
    "for id_earning_call, path_to_earning_call in tqdm(need_to_download):\n",
    "    with open(\"data/article/\"+ id_earning_call+\".html\", \"x\") as file:\n",
    "            url = domain_name + path_to_earning_call\n",
    "            html_transcript = requests.get(url).text\n",
    "            file.write(html_transcript)\n",
    "    "
   ]
  },
  {
   "cell_type": "markdown",
   "id": "eb7ae426",
   "metadata": {},
   "source": [
    "## Check last file got downloaded, i.e. captcha/bot error "
   ]
  },
  {
   "cell_type": "code",
   "execution_count": 7,
   "id": "d865d138",
   "metadata": {},
   "outputs": [
    {
     "data": {
      "text/plain": [
       "\"AB Electrolux (publ) (ELUXY) CEO Jonas Samuelson on Q1 2022 Results - Earnings Call Transcript | Seeking Alpha                    Seeking Alpha - Go to HomepageTrendingMy PortfolioMy AuthorsTop StocksLatest NewsMarketsStock IdeasDividendsETFsEducationWatch & ListenTranscriptsConsumerAB Electrolux (publ) (ELUXY) CEO Jonas Samuelson on Q1 2022 Results - Earnings Call TranscriptApr. 29, 2022 5:05 PM ETAB Electrolux (publ) (ELUXY), ELUXFSA Transcripts126.09K FollowersFollowAB Electrolux (publ) (OTCPK:ELUXY) Q1 2022 Results Conference Call April 29, 2022 3:00 AM ET Company Participants Jonas Samuelson - President, Chief Executive Officer Therese Friberg - Chief Financial Officer Sophie Arnius - Head of Investor Relations Conference Call Participants Uma Samlin - Bank of America Andre Kukhnin - Credit Suisse James Moore - Redburn Andreas Willi - JPMorgan Bjorn Enarson - Danske Bank William Turner - Goldman Sachs Karri Rinta - Handelsbanken Olof Cederholm - ABG Sundall Collier Gustav Hageus - SEB Johan Eliason - Kepler Cheuvreux Fredrik Moregard - Pareto Securities Henrik Christiansson - Carnegie Jonas Samuelson Warm welcome, everybody, to the First Quarter 2022 Electrolux Results Presentation. With me today, I have Therese Friberg, our CFO; and Sophie Arnius, our Head of Investor Relations. I would like to mention that this session is recorded and will be available on our website, as an on-demand version.  The beginning of the year has been dominated by the terrible situation in Ukraine. Russia's invasion is a serious violation of international law, and we are very concerned about the suffering it is causing our employees and the people of Ukraine. When the work commenced, we paused our operations in Russia and Ukraine, and after a careful assessment in Ukraine, we've restarted in the second half of April, with limited sales and production in our factory located in the Western part of the country. In Russia and Belarus, we do not have any factories.In 2021, Russia, Belaru\""
      ]
     },
     "execution_count": 7,
     "metadata": {},
     "output_type": "execute_result"
    }
   ],
   "source": [
    "BeautifulSoup(html_transcript).get_text()[:2000]"
   ]
  },
  {
   "cell_type": "code",
   "execution_count": null,
   "id": "8a0e7e4a",
   "metadata": {},
   "outputs": [],
   "source": []
  }
 ],
 "metadata": {
  "kernelspec": {
   "display_name": "Python 3 (ipykernel)",
   "language": "python",
   "name": "python3"
  },
  "language_info": {
   "codemirror_mode": {
    "name": "ipython",
    "version": 3
   },
   "file_extension": ".py",
   "mimetype": "text/x-python",
   "name": "python",
   "nbconvert_exporter": "python",
   "pygments_lexer": "ipython3",
   "version": "3.7.11"
  }
 },
 "nbformat": 4,
 "nbformat_minor": 5
}
