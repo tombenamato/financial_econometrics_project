{
 "cells": [
  {
   "cell_type": "code",
   "execution_count": 1,
   "id": "06adbad0",
   "metadata": {
    "pycharm": {
     "name": "#%%\n"
    }
   },
   "outputs": [],
   "source": [
    "#import the libraries as needed\n",
    "from selenium import webdriver\n",
    "from selenium import webdriver   # for webdriver\n",
    "from selenium.webdriver.support.ui import WebDriverWait  # for implicit and explict waits\n",
    "from selenium.webdriver.chrome.options import Options \n",
    "from selenium.webdriver.chrome.service import Service\n",
    "from selenium.webdriver.common.by import By\n",
    "import numpy as np\n",
    "import json\n",
    "from bs4 import BeautifulSoup\n",
    "import requests\n",
    "from tqdm import tqdm # to create loadbard in for loop\n",
    "import os\n",
    "from datetime import date"
   ]
  },
  {
   "cell_type": "markdown",
   "id": "c70df0f8",
   "metadata": {},
   "source": [
    "## API data response\n",
    "\n",
    "<pre>\n",
    "dict( \n",
    "    data : list(one element is one earning call metada)\n",
    "    included : \"don't care for now\"\n",
    "    meta : \"don't care for now\"\n",
    "        )\n",
    "</pre>\n",
    "One earning call metadata is show below "
   ]
  },
  {
   "cell_type": "code",
   "execution_count": 2,
   "id": "04f97e3e",
   "metadata": {
    "pycharm": {
     "name": "#%%\n"
    }
   },
   "outputs": [
    {
     "name": "stdout",
     "output_type": "stream",
     "text": [
      "https://seekingalpha.com/api/v3/articles?cacheBuster=2022-05-15&filter[category]=earnings%3A%3Aearnings-call-transcripts&filter[since]=0&filter[until]=0&include=author%2CprimaryTickers%2CsecondaryTickers&isMounting=true&page[size]=50&page[number]=20\n",
      "{\"data\":[{\"id\":\"4509627\",\"type\":\"transcript\",\"attributes\":{\"publishOn\":\"2022-05-10T12:56:03-04:00\",\"\n"
     ]
    }
   ],
   "source": [
    "# need to precise the option for date, nbr of metada for call transcript in the url paramater \n",
    "# https://en.wikipedia.org/wiki/Query_string\n",
    "nbr_earning_call_metada = 1000\n",
    "date_of_request = date.today().strftime(\"%Y-%m-%d\") #e.g. \"2022-04-28\"\n",
    "max_return_per_request = 50\n",
    "api_data_responses = []\n",
    "for page_number in range(1,nbr_earning_call_metada//max_return_per_request + 1):\n",
    "    url = \"https://seekingalpha.com/api/v3/articles\"+\"?cacheBuster=\"\\\n",
    "          +str(date_of_request)\\\n",
    "          +\"&filter[category]=earnings%3A%3Aearnings-call-transcripts&filter[since]=0\"\\\n",
    "          +\"&filter[until]=0&include=author%2CprimaryTickers%2CsecondaryTickers&isMounting=true&page[size]=\"\\\n",
    "          +str(max_return_per_request)\\\n",
    "          +\"&page[number]=\"+str(page_number)\n",
    "    # the chrome driver depend on which version of chrome you are running specify the good one\n",
    "    executable_path = \"./chromedriver.exe\"\n",
    "    service = Service(executable_path)\n",
    "    option = webdriver.ChromeOptions()\n",
    "    driver = webdriver.Chrome(service=service,options=option)\n",
    "    driver.get(url)\n",
    "    api_json_response = driver.find_element(by=By.TAG_NAME, value = \"body\").text\n",
    "    api_data_responses.extend(json.loads(api_json_response)[\"data\"])\n",
    "print(url)\n",
    "#a quick loock of the result to check if we get results are get captcha/bot error \n",
    "print(api_json_response[0:100])"
   ]
  },
  {
   "cell_type": "code",
   "execution_count": 3,
   "id": "3a446e59",
   "metadata": {},
   "outputs": [
    {
     "data": {
      "text/plain": [
       "{'id': '4511745',\n",
       " 'type': 'transcript',\n",
       " 'attributes': {'publishOn': '2022-05-15T05:06:04-04:00',\n",
       "  'isLockedPro': False,\n",
       "  'commentCount': 0,\n",
       "  'gettyImageUrl': None,\n",
       "  'themes': {},\n",
       "  'title': 'Paltalk, Inc. (PALT) CEO Jason Katz on Q1 2022 Results - Earnings Call Transcript'},\n",
       " 'relationships': {'author': {'data': {'id': '44211', 'type': 'author'}},\n",
       "  'sentiments': {'data': []},\n",
       "  'primaryTickers': {'data': [{'id': '17667', 'type': 'tag'}]},\n",
       "  'secondaryTickers': {'data': []},\n",
       "  'otherTags': {'data': [{'id': '96991', 'type': 'tag'},\n",
       "    {'id': '17933', 'type': 'tag'},\n",
       "    {'id': '49', 'type': 'tag'},\n",
       "    {'id': '586376', 'type': 'tag'},\n",
       "    {'id': '326', 'type': 'tag'},\n",
       "    {'id': '17973', 'type': 'tag'}]}},\n",
       " 'links': {'self': '/article/4511745-paltalk-inc-palt-ceo-jason-katz-on-q1-2022-results-earnings-call-transcript'}}"
      ]
     },
     "execution_count": 3,
     "metadata": {},
     "output_type": "execute_result"
    }
   ],
   "source": [
    "api_data_responses[0]"
   ]
  },
  {
   "cell_type": "code",
   "execution_count": 4,
   "id": "4481c6b2",
   "metadata": {
    "pycharm": {
     "name": "#%%\n"
    }
   },
   "outputs": [
    {
     "data": {
      "text/plain": [
       "[('4511745',\n",
       "  '/article/4511745-paltalk-inc-palt-ceo-jason-katz-on-q1-2022-results-earnings-call-transcript'),\n",
       " ('4511743',\n",
       "  '/article/4511743-electromed-inc-elmd-ceo-kathleen-skarvan-on-q3-2022-results-earnings-call-transcript')]"
      ]
     },
     "execution_count": 4,
     "metadata": {},
     "output_type": "execute_result"
    }
   ],
   "source": [
    "\n",
    "id_and_path_to_earning_calls = [ (earning_call_metada[\"id\"] ,earning_call_metada[\"links\"][\"self\"]) \n",
    "                     for earning_call_metada in api_data_responses]\n",
    "# \"\"check url\n",
    "id_and_path_to_earning_calls[0:2]"
   ]
  },
  {
   "cell_type": "markdown",
   "id": "65ac1b14",
   "metadata": {},
   "source": [
    "## download all not yet download html from url"
   ]
  },
  {
   "cell_type": "code",
   "execution_count": 5,
   "id": "a9145a9c",
   "metadata": {
    "pycharm": {
     "name": "#%%\n"
    }
   },
   "outputs": [
    {
     "name": "stderr",
     "output_type": "stream",
     "text": [
      "100%|███████████████████████████████████████████████████████████████████████████| 1000/1000 [00:00<00:00, 17887.68it/s]\n"
     ]
    },
    {
     "name": "stdout",
     "output_type": "stream",
     "text": [
      "Need to download 500 html file(s)\n"
     ]
    },
    {
     "name": "stderr",
     "output_type": "stream",
     "text": [
      "100%|████████████████████████████████████████████████████████████████████████████████| 500/500 [08:42<00:00,  1.04s/it]\n"
     ]
    }
   ],
   "source": [
    "domain_name = 'https://seekingalpha.com'\n",
    "data_path = \"data/article\"\n",
    "need_to_download = []\n",
    "if not os.path.exists(data_path):\n",
    "    os.makedirs(data_path)\n",
    "    print(\"The new directory is created!\")\n",
    "for id_earning_call, path_to_earning_call in tqdm(id_and_path_to_earning_calls):\n",
    "    if not os.path.isfile(data_path+\"/\"+ id_earning_call +\".html\"):\n",
    "        # not in local directory\n",
    "        need_to_download.append((id_earning_call, path_to_earning_call))\n",
    "print(f\"Need to download {len(need_to_download)} html file(s)\")\n",
    "for id_earning_call, path_to_earning_call in tqdm(need_to_download):\n",
    "    with open(data_path+\"/\"+ id_earning_call+\".html\", \"x\", encoding=\"utf-32\") as file:\n",
    "            url = domain_name + path_to_earning_call\n",
    "            html_transcript = requests.get(url).text\n",
    "            file.write(html_transcript)\n",
    "    "
   ]
  },
  {
   "cell_type": "markdown",
   "id": "eb7ae426",
   "metadata": {},
   "source": [
    "## Check last file got downloaded, i.e. captcha/bot error "
   ]
  },
  {
   "cell_type": "code",
   "execution_count": 6,
   "id": "d865d138",
   "metadata": {},
   "outputs": [
    {
     "data": {
      "text/plain": [
       "\"Ocular Therapeutix's (OCUL) CEO Antony Mattessich on Q1 2022 Results - Earnings Call Transcript | Seeking Alpha                    Seeking Alpha - Go to HomepageTrendingMy PortfolioMy AuthorsTop StocksLatest NewsMarketsStock IdeasDividendsETFsEducationWatch & ListenTranscriptsHealthcareOcular Therapeutix's (OCUL) CEO Antony Mattessich on Q1 2022 Results - Earnings Call TranscriptMay 09, 2022 11:30 PM ETOcular Therapeutix, Inc. (OCUL)1 LikeSA Transcripts126.91K FollowersFollowOcular Therapeutix, Inc. (NASDAQ:OCUL) Q1 2022 Earnings Conference Call May 9, 2022 4:30 PM ET Company Participants Donald Notman – Chief Financial Officer Antony Mattessich – President & Chief Executive Officer Michael Goldstein – Chief Medical Officer Conference Call Participants Joe Catanzaro – Piper Sandler Dane Leone – Raymond James Jon Wollenben – JMP Securities Yi Chen – H.C. Wainwright Anita Dushyanth – Berenberg Capital Operator Good afternoon, ladies and gentlemen, thank you for standing by. And welcome to the Ocular Therapeutix First Quarter 2022 Earnings Conference Call. At this time, all participants are in a listen-only mode. Later, we will conduct a question-and-answer session and instructions will follow at that time. It is now my pleasure to introduce Donald Notman, Chief Financial Officer of Ocular Therapeutix. Please go ahead, sir. Donald Notman Thank you, operator. Good afternoon, everyone and thank you for joining us on our first quarter 2022 financial results and business update conference call. This afternoon, after the close, we issued a press release providing an update on the company's product development programs and details of the company's financial results for the quarter ended March 31, 2022. The press release can be accessed on the Investors portion of our website at investors.ocutx.com. Leading the call today will be Antony Mattessich, our President and Chief Executive Officer, who will provide an update on the commercial progress of DEXTENZA and a summary of our\""
      ]
     },
     "execution_count": 6,
     "metadata": {},
     "output_type": "execute_result"
    }
   ],
   "source": [
    "BeautifulSoup(html_transcript).get_text()[:2000]"
   ]
  },
  {
   "cell_type": "code",
   "execution_count": null,
   "id": "8a0e7e4a",
   "metadata": {},
   "outputs": [],
   "source": []
  }
 ],
 "metadata": {
  "kernelspec": {
   "display_name": "Python 3 (ipykernel)",
   "language": "python",
   "name": "python3"
  },
  "language_info": {
   "codemirror_mode": {
    "name": "ipython",
    "version": 3
   },
   "file_extension": ".py",
   "mimetype": "text/x-python",
   "name": "python",
   "nbconvert_exporter": "python",
   "pygments_lexer": "ipython3",
   "version": "3.9.7"
  }
 },
 "nbformat": 4,
 "nbformat_minor": 5
}
