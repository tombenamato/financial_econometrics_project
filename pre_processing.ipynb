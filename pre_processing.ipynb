{
 "cells": [
  {
   "cell_type": "code",
   "execution_count": 3,
   "id": "bf2c61dc",
   "metadata": {
    "scrolled": true
   },
   "outputs": [
    {
     "name": "stderr",
     "output_type": "stream",
     "text": [
      "[nltk_data] Downloading package stopwords to C:\\Users\\Roger\n",
      "[nltk_data]     Gualberti\\AppData\\Roaming\\nltk_data...\n",
      "[nltk_data]   Package stopwords is already up-to-date!\n",
      "[nltk_data] Downloading package punkt to C:\\Users\\Roger\n",
      "[nltk_data]     Gualberti\\AppData\\Roaming\\nltk_data...\n",
      "[nltk_data]   Package punkt is already up-to-date!\n",
      "[nltk_data] Downloading package wordnet to C:\\Users\\Roger\n",
      "[nltk_data]     Gualberti\\AppData\\Roaming\\nltk_data...\n",
      "[nltk_data]   Package wordnet is already up-to-date!\n",
      "[nltk_data] Downloading package omw-1.4 to C:\\Users\\Roger\n",
      "[nltk_data]     Gualberti\\AppData\\Roaming\\nltk_data...\n",
      "[nltk_data]   Package omw-1.4 is already up-to-date!\n"
     ]
    },
    {
     "data": {
      "text/plain": [
       "True"
      ]
     },
     "execution_count": 3,
     "metadata": {},
     "output_type": "execute_result"
    }
   ],
   "source": [
    "import glob\n",
    "import pandas as pd\n",
    "import numpy as np\n",
    "import re\n",
    "import os\n",
    "\n",
    "from tqdm.notebook import tqdm\n",
    "\n",
    "import collections, itertools\n",
    "import matplotlib.pyplot as plt\n",
    "import nltk\n",
    "import hdbscan\n",
    "import gensim\n",
    "\n",
    "from nltk.corpus import stopwords\n",
    "from nltk.tokenize import word_tokenize\n",
    "from nltk.stem import WordNetLemmatizer\n",
    "from nltk.util import ngrams\n",
    "from nltk.probability import FreqDist\n",
    "\n",
    "\n",
    "\n",
    "from sklearn.decomposition import TruncatedSVD\n",
    "from sklearn.feature_extraction.text import CountVectorizer\n",
    "from sklearn.decomposition import LatentDirichletAllocation\n",
    "from sklearn.datasets import make_multilabel_classification\n",
    "from sklearn.feature_extraction.text import TfidfVectorizer\n",
    "\n",
    "from gensim import corpora\n",
    "from gensim.corpora.dictionary import Dictionary\n",
    "\n",
    "nltk.download('stopwords')\n",
    "nltk.download('punkt')\n",
    "nltk.download('wordnet')\n",
    "nltk.download('omw-1.4')"
   ]
  },
  {
   "cell_type": "markdown",
   "id": "09874bea",
   "metadata": {},
   "source": [
    "### Import the text and process it "
   ]
  },
  {
   "cell_type": "code",
   "execution_count": 20,
   "id": "936cdcb8",
   "metadata": {},
   "outputs": [
    {
     "name": "stdout",
     "output_type": "stream",
     "text": [
      "['4427353', '4442143', '4467506', '4508456', '4508457', '4508458', '4508459', '4508460', '4508462', '4508464', '4508465', '4508466', '4508467', '4508468', '4508470', '4508471', '4508472', '4508473', '4508474', '4508475', '4508476', '4508477', '4508478', '4508479', '4508480', '4508481', '4508482', '4508483', '4508484', '4508486', '4508487', '4508488', '4508489', '4508490', '4508491', '4508492', '4508493', '4508494', '4508495', '4508497', '4508498', '4508499', '4508500', '4508501', '4508502', '4508503', '4508504', '4508505', '4508506', '4508507', '4508508', '4508509', '4508510', '4508511', '4508512', '4508513', '4508514', '4508515', '4508516', '4508517', '4508518', '4508519', '4508520', '4508521', '4508522', '4508523', '4508524', '4508525', '4508526', '4508527', '4508528', '4508529', '4508530', '4508531', '4508532', '4508533', '4508534', '4508535', '4508536', '4508537', '4508538', '4508539', '4508540', '4508541', '4508542', '4508543', '4508544', '4508545', '4508546', '4508547', '4508548', '4508549', '4508550', '4508551', '4508552', '4508553', '4508554', '4508555', '4508556', '4508557', '4508558', '4508559', '4508560', '4508561', '4508562', '4508563', '4508564', '4508565', '4508566', '4508567', '4508568', '4508569', '4508571', '4508572', '4508573', '4508574', '4508575', '4508576', '4508577', '4508578', '4508579', '4508580', '4508581', '4508582', '4508583', '4508584', '4508585', '4508586', '4508588', '4508589', '4508590', '4508591', '4508593', '4508595', '4508598', '4508600', '4508601', '4508603', '4508605', '4508607', '4508608', '4508609', '4508610', '4508612', '4508613', '4508615', '4508620', '4508621', '4508622', '4508623', '4508624', '4508625', '4508626', '4508627', '4508628', '4508629', '4508630', '4508631', '4508632', '4508634', '4508635', '4508638', '4508639', '4508641', '4508645', '4508647', '4508648', '4508652', '4508654', '4508655', '4508656', '4508657', '4508658', '4508659', '4508660', '4508661', '4508662', '4508663', '4508664', '4508665', '4508669', '4508670', '4508674', '4508676', '4508678', '4508679', '4508682', '4508683', '4508684', '4508685', '4508686', '4508687', '4508688', '4508689', '4508690', '4508691', '4508693', '4508694', '4508695', '4508696', '4508697', '4508699', '4508700', '4508702', '4508703', '4508704', '4508705', '4508707', '4508708', '4508709', '4508710', '4508711', '4508713', '4508716', '4508717', '4508718', '4508719', '4508720', '4508724', '4508729', '4508730', '4508731', '4508732', '4508733', '4508735', '4508736', '4508737', '4508738', '4508739', '4508740', '4508741', '4508742', '4508743', '4508744', '4508745', '4508746', '4508747', '4508748', '4508749', '4508751', '4508752', '4508753', '4508754', '4508755', '4508756', '4508757', '4508760', '4508761', '4508762', '4508763', '4508764', '4508765', '4508766', '4508767', '4508769', '4508770', '4508772', '4508773', '4508774', '4508775', '4508776', '4508777', '4508778', '4508779', '4508780', '4508783', '4508785', '4508787', '4508789', '4508790', '4508791', '4508792', '4508793', '4508794', '4508795', '4508796', '4508797', '4508799', '4508800', '4508801', '4508802', '4508803', '4508804', '4508805', '4508806', '4508807', '4508808', '4508810', '4508812', '4508814', '4508815', '4508816', '4508817', '4508818', '4508819', '4508820', '4508821', '4508822', '4508823', '4508824', '4508826', '4508827', '4508828', '4508829', '4508830', '4508831', '4508832', '4508833', '4508834', '4508835', '4508836', '4508837', '4508838', '4508839', '4508840', '4508844', '4508845', '4508847', '4508848', '4508849', '4508850', '4508852', '4508853', '4508854', '4508855', '4508856', '4508857', '4508858', '4508860', '4508861', '4508862', '4508863', '4508866', '4508868', '4508870', '4508872', '4508873', '4508874', '4508875', '4508876', '4508877', '4508878', '4508879', '4508882', '4508884', '4508885', '4508887', '4508892', '4508897', '4508903', '4508904', '4508907', '4508920', '4508926', '4508939', '4508947', '4508948', '4508949', '4509011', '4509012', '4509049', '4509050', '4509053', '4509054', '4509055', '4509070', '4509076', '4509078', '4509079', '4509080', '4509088', '4509089', '4509092', '4509094', '4509095', '4509097', '4509101', '4509105', '4509108', '4509109', '4509117', '4509119', '4509122', '4509126', '4509133', '4509137', '4509139', '4509142', '4509143', '4509145', '4509146', '4509148', '4509150', '4509151', '4509153', '4509154', '4509160', '4509161', '4509163', '4509164', '4509167', '4509170', '4509171', '4509174', '4509175', '4509176', '4509177', '4509178', '4509181', '4509183', '4509184', '4509185', '4509186', '4509188', '4509190', '4509192', '4509193', '4509194', '4509195', '4509198', '4509199', '4509201', '4509209', '4509211', '4509214', '4509215', '4509219', '4509221', '4509222', '4509224', '4509227', '4509228', '4509231', '4509233', '4509246', '4509255', '4509260', '4509262', '4509264', '4509265', '4509269', '4509271', '4509273', '4509274', '4509275', '4509277', '4509278', '4509280', '4509281', '4509282', '4509283', '4509285', '4509286', '4509289', '4509290', '4509291', '4509293', '4509294', '4509295', '4509296', '4509297', '4509298', '4509299', '4509300', '4509302', '4509303', '4509304', '4509305', '4509306', '4509307', '4509308', '4509309', '4509310', '4509311', '4509312', '4509313', '4509315', '4509317', '4509318', '4509319', '4509320', '4509321', '4509322', '4509323', '4509324', '4509325', '4509326', '4509327', '4509328', '4509329', '4509331', '4509332', '4509333', '4509334', '4509335', '4509336', '4509338', '4509339', '4509340', '4509341', '4509342', '4509345', '4509347', '4509348', '4509350', '4509352', '4509353', '4509355', '4509356', '4509357', '4509358', '4509359', '4509360', '4509362', '4509364', '4509365', '4509366', '4509367', '4509368', '4509369', '4509371', '4509372', '4509373', '4509374', '4509375', '4509376', '4509377', '4509379', '4509380', '4509381', '4509383', '4509384', '4509385', '4509386', '4509388', '4509390', '4509391', '4509392', '4509393', '4509394', '4509395', '4509396', '4509397', '4509398', '4509399', '4509400', '4509401', '4509402', '4509404', '4509405', '4509407', '4509408', '4509413', '4509416', '4509430', '4509456', '4509464', '4509505', '4509507', '4509509', '4509510', '4509515', '4509520', '4509521', '4509524', '4509526', '4509527', '4509528', '4509530', '4509536', '4509553', '4509559', '4509560', '4509571', '4509575', '4509579', '4509584', '4509587', '4509588', '4509591', '4509594', '4509598', '4509599', '4509602', '4509604', '4509606', '4509608', '4509609', '4509617', '4509618', '4509620', '4509621', '4509623', '4509625', '4509627', '4509628', '4509630', '4509632', '4509633', '4509634', '4509638', '4509639', '4509641', '4509642', '4509644', '4509645', '4509646', '4509647', '4509648', '4509649', '4509650', '4509651', '4509652', '4509654', '4509655', '4509656', '4509657', '4509659', '4509660', '4509661', '4509662', '4509664', '4509665', '4509669', '4509671', '4509672', '4509673', '4509674', '4509683', '4509684', '4509685', '4509687', '4509689', '4509690', '4509691', '4509692', '4509694', '4509697', '4509698', '4509699', '4509701', '4509702', '4509703', '4509707', '4509708', '4509709', '4509710', '4509711', '4509712', '4509713', '4509715', '4509716', '4509718', '4509720', '4509721', '4509722', '4509723', '4509724', '4509725', '4509727', '4509729', '4509730', '4509733', '4509734', '4509735', '4509736', '4509739', '4509740', '4509742', '4509743', '4509744', '4509745', '4509746', '4509747', '4509749', '4509751', '4509752', '4509755', '4509756', '4509757', '4509760', '4509761', '4509762', '4509765', '4509767', '4509769', '4509771', '4509772', '4509775', '4509779', '4509788', '4509793', '4509795', '4509798', '4509802', '4509803', '4509804', '4509806', '4509807', '4509808', '4509810', '4509811', '4509812', '4509813', '4509814', '4509815', '4509816', '4509817', '4509819', '4509820', '4509821', '4509823', '4509825', '4509826', '4509827', '4509828', '4509829', '4509830', '4509831', '4509832', '4509833', '4509835', '4509838', '4509840', '4509841', '4509842', '4509843', '4509845', '4509846', '4509847', '4509848', '4509849', '4509850', '4509851', '4509852', '4509853', '4509854', '4509856', '4509857', '4509858', '4509860', '4509861', '4509863', '4509864', '4509865', '4509867', '4509868', '4509869', '4509871', '4509874', '4509875', '4509876', '4509877', '4509878', '4509879', '4509880', '4509881', '4509882', '4509883', '4509884', '4509886', '4509887', '4509888', '4509890', '4509891', '4509893', '4509895', '4509897', '4509898', '4509900', '4509902', '4509904', '4509906', '4509907', '4509908', '4509909', '4509911', '4509913', '4509916', '4509921', '4509936', '4509948', '4509949', '4509975', '4509994', '4510005', '4510334', '4510337', '4510338', '4510342', '4510343', '4510345', '4510346', '4510347', '4510350', '4510351', '4510352', '4510353', '4510354', '4510355', '4510357', '4510358', '4510359', '4510361', '4510362', '4510363', '4510364', '4510366', '4510368', '4510369', '4510370', '4510371', '4510372', '4510374', '4510375', '4510376', '4510378', '4510380', '4510382', '4510384', '4510385', '4510386', '4510387', '4510388', '4510390', '4510391', '4510392', '4510393', '4510394', '4510396', '4510397', '4510398', '4510400', '4510401', '4510402', '4510403', '4510404', '4510405', '4510406', '4510407', '4510408', '4510409', '4510410', '4510413', '4510415', '4510416', '4510417', '4510418', '4510419', '4510420', '4510422', '4510423', '4510424', '4510425', '4510427', '4510428', '4510429', '4510430', '4510431', '4510432', '4510433', '4510434', '4510436', '4510437', '4510438', '4510439', '4510442', '4510443', '4510444', '4510445', '4510446', '4510447', '4510448', '4510451', '4510452', '4510453', '4510454', '4510455', '4510457', '4510459', '4510464', '4510472', '4510475', '4510482', '4510512', '4511087', '4511090', '4511092', '4511097', '4511101', '4511103', '4511112', '4511113', '4511118', '4511132', '4511139', '4511155', '4511171', '4511178', '4511213', '4511222', '4511223', '4511229', '4511230', '4511233', '4511239', '4511247', '4511249', '4511254', '4511255', '4511262', '4511265', '4511267', '4511270', '4511271', '4511274', '4511275', '4511276', '4511277', '4511281', '4511283', '4511294', '4511296', '4511299', '4511300', '4511301', '4511302', '4511303', '4511304', '4511307', '4511308', '4511310', '4511312', '4511313', '4511314', '4511317', '4511319', '4511321', '4511324', '4511326', '4511327', '4511328', '4511329', '4511330', '4511332', '4511335', '4511338', '4511339', '4511342', '4511343', '4511348', '4511349', '4511350', '4511353', '4511356', '4511357', '4511358', '4511359', '4511361', '4511362', '4511363', '4511364', '4511365', '4511366', '4511367', '4511368', '4511369', '4511370', '4511392', '4511397', '4511399', '4511400', '4511401', '4511403', '4511404', '4511405', '4511409', '4511411', '4511415', '4511416', '4511417', '4511423', '4511424', '4511425', '4511429', '4511432', '4511433', '4511434', '4511437', '4511448', '4511450', '4511451', '4511454', '4511455', '4511459', '4511460', '4511461', '4511463', '4511464', '4511465', '4511469', '4511472', '4511474', '4511475', '4511478', '4511481', '4511485', '4511487', '4511488', '4511489', '4511490', '4511491', '4511492', '4511493', '4511496', '4511505', '4511510', '4511515', '4511517', '4511520', '4511522', '4511524', '4511525', '4511527', '4511540', '4511543', '4511551', '4511562', '4511563', '4511566', '4511568', '4511569', '4511570', '4511573', '4511574', '4511577', '4511578', '4511579', '4511580', '4511581', '4511582', '4511584', '4511585', '4511586', '4511587', '4511588', '4511589', '4511590', '4511591', '4511593', '4511594', '4511596', '4511597', '4511598', '4511599', '4511600', '4511601', '4511602', '4511603', '4511604', '4511605', '4511606', '4511607', '4511608', '4511609', '4511610', '4511611', '4511613', '4511614', '4511616', '4511617', '4511618', '4511619', '4511620', '4511621', '4511622', '4511623', '4511625', '4511626', '4511627', '4511630', '4511631', '4511632', '4511633', '4511634', '4511636', '4511637', '4511638', '4511639', '4511640', '4511641', '4511642', '4511643', '4511644', '4511645', '4511646', '4511647', '4511648', '4511649', '4511650', '4511651', '4511652', '4511653', '4511654', '4511655', '4511656', '4511657', '4511658', '4511659', '4511660', '4511661', '4511662', '4511663', '4511664', '4511665', '4511666', '4511667', '4511668', '4511669', '4511670', '4511671', '4511672', '4511673', '4511674', '4511675', '4511676', '4511677', '4511678', '4511679', '4511680', '4511681', '4511682', '4511683', '4511687', '4511688', '4511689', '4511690', '4511692', '4511693', '4511694', '4511696', '4511697', '4511698', '4511699', '4511700', '4511702', '4511705', '4511706', '4511713', '4511714', '4511715', '4511720', '4511724', '4511726', '4511727', '4511736', '4511738', '4511741', '4511742', '4511743', '4511745']\n"
     ]
    },
    {
     "name": "stdout",
     "output_type": "stream",
     "text": [
      "Number of articles 1161\n"
     ]
    }
   ],
   "source": [
    "#list_articles = glob.glob(\"data/earning_call/*\")\n",
    "dir_path = \"data/earning_call/\"\n",
    "list_articles = os.listdir(dir_path) \n",
    "print(list_articles)\n",
    "texts = []\n",
    "first_sentence = []\n",
    "articles = []\n",
    "for s in list_articles:\n",
    "    with open(dir_path + s, encoding = 'ISO-8859-1') as f:\n",
    "        x = int(re.sub('data/earning_call/','',s))\n",
    "        articles.append(x)\n",
    "        t = f.read()\n",
    "        texts.append(t)\n",
    "print('Number of articles', len(texts))\n"
   ]
  },
  {
   "cell_type": "markdown",
   "id": "0f454ad1",
   "metadata": {},
   "source": [
    "## Processing"
   ]
  },
  {
   "cell_type": "code",
   "execution_count": 13,
   "id": "9d24d9eb",
   "metadata": {},
   "outputs": [],
   "source": [
    "# Function that transforms a list of strings into 1 big concatenated string and vice-versa\n",
    "def list_to_text(list_input, stops = []):\n",
    "    text_output = ' '.join([word for word in list_input if word not in stops]) \n",
    "    return text_output\n",
    "\n",
    "def text_to_list(text_input):\n",
    "    list_output = word_tokenize(text_input)\n",
    "    return list_output"
   ]
  },
  {
   "cell_type": "code",
   "execution_count": 14,
   "id": "31c343dd",
   "metadata": {},
   "outputs": [
    {
     "name": "stdout",
     "output_type": "stream",
     "text": [
      "Number of words before removing the stop words 0\n",
      "Number of words after removing the stop words 0\n"
     ]
    }
   ],
   "source": [
    "text = ''\n",
    "# Ponctuation\n",
    "text = re.sub('[^A-Za-z0-9]+', ' ', text)\n",
    "\n",
    "# Lower all words\n",
    "text = text.lower()\n",
    "\n",
    "# Remove stopwords\n",
    "stop_words = set(stopwords.words('english'))\n",
    "word_tokens = word_tokenize(text)\n",
    "filtered_text = [w for w in word_tokens if not w.lower() in stop_words]\n",
    "\n",
    "print('Number of words before removing the stop words',len(word_tokens))\n",
    "print('Number of words after removing the stop words',len(filtered_text))"
   ]
  },
  {
   "cell_type": "code",
   "execution_count": 15,
   "id": "f363f37b",
   "metadata": {},
   "outputs": [],
   "source": [
    "# N-Gram\n",
    "def ngrams_list(n):\n",
    "    \"\"\"\n",
    "        Compute ngrams.\n",
    "        \n",
    "        Args:\n",
    "            n (int): the number of words to words to assemble in the ngram.\n",
    "        \n",
    "        Returns :\n",
    "            A list composed of the ngrams.\n",
    "    \"\"\"\n",
    "    m = []\n",
    "    nx_grams = ngrams(sequence = nltk.word_tokenize(text), n = n)\n",
    "    for gram in nx_grams:\n",
    "        m.append(gram)\n",
    "    return m"
   ]
  },
  {
   "cell_type": "code",
   "execution_count": 16,
   "id": "e9e3637d",
   "metadata": {},
   "outputs": [],
   "source": [
    "wordnet_lemmatizer = WordNetLemmatizer()"
   ]
  },
  {
   "cell_type": "code",
   "execution_count": 17,
   "id": "cce6e5ed",
   "metadata": {},
   "outputs": [],
   "source": [
    "# Remove most frequent and least frequent words\n",
    "def remove(filtered_text, a, l, h):\n",
    "    \"\"\"\n",
    "        Remove most and least frequent words.\n",
    "        Args:\n",
    "            a (list) : list on which operations should be made.\n",
    "            l (float): the proportion of top l% least frequent words to remove from the numer of different words.\n",
    "            h (float): the proportion of top h% most frequent words to remove from the numer of different words.\n",
    "    \n",
    "        Returns:\n",
    "            A copy of the input text without frequent and infrequent words.\n",
    "    \"\"\"\n",
    "    f = FreqDist(a)\n",
    "\n",
    "    df_fdist = pd.DataFrame({'Word': f.keys(), 'Number of apparitions': f.values()})\n",
    "    L= l*len(df_fdist)\n",
    "    L=int(L)\n",
    "\n",
    "    H=h*len(df_fdist)\n",
    "    H=int(H)\n",
    "    \n",
    "    df_fdesc = df_fdist.sort_values(by='Number of apparitions', ascending=False)\n",
    "    df_fasc = df_fdist.sort_values(by='Number of apparitions', ascending=True)\n",
    "\n",
    "    most_freq_words_list = list(df_fdesc['Word'][:H])\n",
    "    least_freq_word_list = list(df_fasc['Word'][:L])\n",
    "    stopwords = most_freq_words_list + least_freq_word_list\n",
    "    textlist_wo_extremes = list_to_text(filtered_text, stopwords)\n",
    "    #text_wo_extremes = ' '.join([word for word in filtered_text if word not in stopwords]) \n",
    "\n",
    "    return textlist_wo_extremes"
   ]
  },
  {
   "cell_type": "code",
   "execution_count": 18,
   "id": "536579e2",
   "metadata": {
    "scrolled": true
   },
   "outputs": [],
   "source": [
    "def processing(text):\n",
    "    \"\"\"Function that combien all the processing steps\"\"\"\n",
    "    text = re.sub('[^A-Za-z0-9]+', ' ', text)\n",
    "    text = text.lower()\n",
    "    stop_words = set(stopwords.words('english'))\n",
    "    word_tokens = word_tokenize(text)\n",
    "    filtered_text = [w for w in word_tokens if not w.lower() in stop_words]\n",
    "    x = [wordnet_lemmatizer.lemmatize(word, pos='n') for word in filtered_text]\n",
    "    return remove(filtered_text, x,0.06,0.06)"
   ]
  },
  {
   "cell_type": "code",
   "execution_count": 19,
   "id": "d3a5117a",
   "metadata": {},
   "outputs": [],
   "source": [
    "#number of articles to train \n",
    "texts = [processing(x) for x in tqdm(texts)]"
   ]
  },
  {
   "cell_type": "markdown",
   "id": "f04cb091",
   "metadata": {},
   "source": [
    "## LSA"
   ]
  },
  {
   "cell_type": "markdown",
   "id": "63549a72",
   "metadata": {},
   "source": [
    "# Define the number of topics or components\n",
    "num_components=5\n",
    "\n",
    "# Create SVD object\n",
    "lsa = TruncatedSVD(n_components=num_components, n_iter=100, random_state=42)\n",
    "\n",
    "# Fit SVD model on data\n",
    "lsa.fit_transform(X_tfidf)\n",
    "\n",
    "# Get Singular values and Components \n",
    "Sigma = lsa.singular_values_ \n",
    "V_transpose = lsa.components_.T\n",
    "\n",
    "# Print the topics with their terms\n",
    "terms = vectorizer.get_feature_names()\n",
    "\n",
    "for doc, component in enumerate(lsa.components_):\n",
    "    print(doc)\n",
    "    zipped = zip(terms, component)\n",
    "    top_terms_key=sorted(zipped, key = lambda t: t[1], reverse=True)[:15]\n",
    "    top_terms_list=list(dict(top_terms_key).keys())\n",
    "    print(\"Document \"+str(doc)+\": \",top_terms_list)"
   ]
  },
  {
   "cell_type": "markdown",
   "id": "fb1f5b1e",
   "metadata": {},
   "source": [
    "## Randomized LSV"
   ]
  },
  {
   "cell_type": "markdown",
   "id": "837bde09",
   "metadata": {},
   "source": [
    "from sklearn.utils.extmath import randomized_svd\n",
    "\n",
    "U, Sigma, VT = randomized_svd(X_tfidf, \n",
    "                              n_components=15,\n",
    "                              n_iter=5,\n",
    "                              random_state=None)"
   ]
  },
  {
   "cell_type": "markdown",
   "id": "b2086ecf",
   "metadata": {},
   "source": [
    "U[0:2,]"
   ]
  },
  {
   "cell_type": "markdown",
   "id": "1cc50ded",
   "metadata": {},
   "source": [
    "### Dimensionality reduction and clustering before topic extraction"
   ]
  },
  {
   "cell_type": "markdown",
   "id": "93733c1c",
   "metadata": {},
   "source": [
    "embeddings = X_FinB"
   ]
  },
  {
   "cell_type": "markdown",
   "id": "bb4cbe31",
   "metadata": {},
   "source": [
    "import umap.umap_ as umap"
   ]
  },
  {
   "cell_type": "markdown",
   "id": "95830028",
   "metadata": {},
   "source": [
    "reducer = umap.UMAP()"
   ]
  },
  {
   "cell_type": "markdown",
   "id": "e1835e34",
   "metadata": {},
   "source": [
    "umap_embeddings = umap.UMAP(n_components= 15, n_neighbors=15, metric='cosine').fit_transform(embeddings)\n",
    "cluster = hdbscan.HDBSCAN(min_cluster_size=5,\n",
    "                          metric='euclidean',                      \n",
    "                          cluster_selection_method='eom').fit(umap_embeddings)"
   ]
  },
  {
   "cell_type": "markdown",
   "id": "81f19ab1",
   "metadata": {},
   "source": [
    "'Number of clusters/topics ', len(set(cluster.labels_))"
   ]
  },
  {
   "cell_type": "markdown",
   "id": "37c213e8",
   "metadata": {},
   "source": [
    "# Prepare data\n",
    "umap_data = umap.UMAP(n_components=2, min_dist=0.0, metric='cosine').fit_transform(embeddings)\n",
    "result = pd.DataFrame(umap_data, columns=['x', 'y'])\n",
    "result['labels'] = cluster.labels_\n",
    "\n",
    "# Visualize clusters\n",
    "fig, ax = plt.subplots(figsize=(20, 10))\n",
    "outliers = result.loc[result.labels == -1, :]\n",
    "clustered = result.loc[result.labels != -1, :]\n",
    "plt.scatter(outliers.x, outliers.y, color='#BDBDBD', s=0.5)\n",
    "plt.scatter(clustered.x, clustered.y, c=clustered.labels, s=3, cmap='hsv_r')\n",
    "plt.colorbar()"
   ]
  },
  {
   "cell_type": "code",
   "execution_count": null,
   "id": "0fb1f3a5",
   "metadata": {},
   "outputs": [],
   "source": [
    "len(texts)"
   ]
  },
  {
   "cell_type": "markdown",
   "id": "b32ce73b",
   "metadata": {},
   "source": [
    "docs_df = pd.DataFrame(texts, columns=[\"Doc\"])\n",
    "docs_df['Topic'] = cluster.labels_\n",
    "docs_df['Doc_ID'] = range(len(docs_df))\n",
    "docs_per_topic = docs_df.groupby(['Topic'], as_index = False).agg({'Doc': ' '.join})"
   ]
  },
  {
   "cell_type": "markdown",
   "id": "b2bff9cd",
   "metadata": {},
   "source": [
    "def c_tf_idf(documents, m, ngram_range=(1, 1)):\n",
    "    count = CountVectorizer(ngram_range=ngram_range, stop_words=\"english\").fit(documents)\n",
    "    t = count.transform(documents).toarray()\n",
    "    w = t.sum(axis=1)\n",
    "    tf = np.divide(t.T, w)\n",
    "    sum_t = t.sum(axis=0)\n",
    "    idf = np.log(np.divide(m, sum_t)).reshape(-1, 1)\n",
    "    tf_idf = np.multiply(tf, idf)\n",
    "\n",
    "    return tf_idf, count\n",
    "  \n",
    "tf_idf, count = c_tf_idf(docs_per_topic.Doc.values, m=len(texts[:n]))"
   ]
  },
  {
   "cell_type": "markdown",
   "id": "446262f0",
   "metadata": {},
   "source": [
    "tf_idf.shape"
   ]
  },
  {
   "cell_type": "markdown",
   "id": "d439ab40",
   "metadata": {},
   "source": [
    "def extract_top_n_words_per_topic(tf_idf, count, docs_per_topic, n=20):\n",
    "    words = count.get_feature_names()\n",
    "    labels = list(docs_per_topic.Topic)\n",
    "    tf_idf_transposed = tf_idf.T\n",
    "    indices = tf_idf_transposed.argsort()[:, -n:]\n",
    "    top_n_words = {label: [(words[j], tf_idf_transposed[i][j]) for j in indices[i]][::-1] for i, label in enumerate(labels)}\n",
    "    return top_n_words"
   ]
  },
  {
   "cell_type": "markdown",
   "id": "18c71af8",
   "metadata": {},
   "source": [
    "def extract_topic_sizes(df):\n",
    "    topic_sizes = (df.groupby(['Topic'])\n",
    "                     .Doc\n",
    "                     .count()\n",
    "                     .reset_index()\n",
    "                     .rename({\"Topic\": \"Topic\", \"Doc\": \"Size\"}, axis='columns')\n",
    "                     .sort_values(\"Size\", ascending=False))\n",
    "    return topic_sizes"
   ]
  },
  {
   "cell_type": "markdown",
   "id": "b57197bc",
   "metadata": {},
   "source": [
    "top_n_words = extract_top_n_words_per_topic(tf_idf, count, docs_per_topic, n=20)\n",
    "topic_sizes = extract_topic_sizes(docs_df); topic_sizes.head(10)"
   ]
  },
  {
   "cell_type": "markdown",
   "id": "c376d60a",
   "metadata": {},
   "source": [
    "k=0\n",
    "for t in topic_sizes.Topic.values:\n",
    "    if(t!=-1):\n",
    "        top_n_words[t].sort(key=lambda x:- x[1])\n",
    "        k +=1\n",
    "        print('')\n",
    "        print('Topic - ',k)\n",
    "        for i in range(10):\n",
    "            print(top_n_words[t][i][0])"
   ]
  },
  {
   "cell_type": "markdown",
   "id": "706245ae",
   "metadata": {},
   "source": [
    "## Linear Discriminant Analysis (LDA)\n",
    "--> supervised learning !"
   ]
  },
  {
   "cell_type": "markdown",
   "id": "2f05797e",
   "metadata": {},
   "source": [
    "## Latent Dirichlet Allocation (LDA)\n",
    "#to do how data cleanned / words removeds"
   ]
  },
  {
   "cell_type": "markdown",
   "id": "15e8f401",
   "metadata": {
    "scrolled": true
   },
   "source": [
    "!pip install gensim"
   ]
  },
  {
   "cell_type": "markdown",
   "id": "0f84c2b6",
   "metadata": {
    "scrolled": true
   },
   "source": [
    "final_doc = [document.split() for document in corpus]"
   ]
  },
  {
   "cell_type": "markdown",
   "id": "3755ab15",
   "metadata": {
    "scrolled": true
   },
   "source": [
    "dictionary = corpora.Dictionary(final_doc)\n",
    "DT_matrix = [dictionary.doc2bow(doc) for doc in final_doc]\n",
    "Lda_object = gensim.models.ldamodel.LdaModel"
   ]
  },
  {
   "cell_type": "markdown",
   "id": "fdf4f306",
   "metadata": {
    "scrolled": true
   },
   "source": [
    "lda_model_1 = Lda_object(DT_matrix, num_topics=2, id2word = dictionary)\n",
    "print(lda_model_1.show_topics(num_words=10))"
   ]
  },
  {
   "cell_type": "markdown",
   "id": "0130e33d",
   "metadata": {},
   "source": [
    "## BERT - Test 1"
   ]
  },
  {
   "cell_type": "markdown",
   "id": "5632e915",
   "metadata": {},
   "source": [
    "from sentence_transformers import SentenceTransformer\n",
    "model = SentenceTransformer('distilbert-base-nli-mean-tokens')\n",
    "\n",
    "embeddings = model.encode(texts[:10], show_progress_bar=True)\n",
    "\n",
    "embeddings,shape"
   ]
  }
 ],
 "metadata": {
  "kernelspec": {
   "display_name": "Python 3 (ipykernel)",
   "language": "python",
   "name": "python3"
  },
  "language_info": {
   "codemirror_mode": {
    "name": "ipython",
    "version": 3
   },
   "file_extension": ".py",
   "mimetype": "text/x-python",
   "name": "python",
   "nbconvert_exporter": "python",
   "pygments_lexer": "ipython3",
   "version": "3.9.7"
  }
 },
 "nbformat": 4,
 "nbformat_minor": 5
}
